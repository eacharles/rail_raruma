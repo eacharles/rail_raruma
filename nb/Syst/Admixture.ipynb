{
 "cells": [
  {
   "cell_type": "code",
   "execution_count": null,
   "id": "b82ea713-e579-494a-8411-7d1a3cc74b88",
   "metadata": {},
   "outputs": [],
   "source": [
    "import tables_io\n",
    "import numpy as np\n",
    "import matplotlib.pyplot as plt\n",
    "import qp\n",
    "from rail.core.data import DATA_STORE\n",
    "from rail.utils.catalog_utils import RomanRubinCatalogConfig\n",
    "DS = DATA_STORE()"
   ]
  },
  {
   "cell_type": "code",
   "execution_count": null,
   "id": "5194a50e-82ce-47e0-b50a-8b85bf70aef7",
   "metadata": {},
   "outputs": [],
   "source": [
    "from rail.raruma import utility_functions as raruma_util\n",
    "from rail.raruma import plotting_functions as raruma_plot"
   ]
  },
  {
   "cell_type": "markdown",
   "id": "cfb5426f-be67-42cd-8684-a9dc6533bc4b",
   "metadata": {},
   "source": [
    "Change this to be the root of the current PZ working area"
   ]
  },
  {
   "cell_type": "code",
   "execution_count": null,
   "id": "dfd89819-b826-442d-b410-aa322d15dac4",
   "metadata": {},
   "outputs": [],
   "source": [
    "pz_dir = '/global/cfs/cdirs/lsst/groups/PZ/DP1'"
   ]
  },
  {
   "cell_type": "code",
   "execution_count": null,
   "id": "ada19e21-adc5-466a-8f34-79159ea6b065",
   "metadata": {},
   "outputs": [],
   "source": [
    "d = tables_io.read(f\"{pz_dir}/data/on_sky/dp1_v29.0.0_gold_all.hdf5\")\n",
    "pz = qp.read(f\"{pz_dir}/projects/dp1/data/gold_baseline/dp1_all/output_estimate_knn.hdf5\")"
   ]
  },
  {
   "cell_type": "code",
   "execution_count": null,
   "id": "c208d546-aa39-42ec-8537-588684e3533e",
   "metadata": {},
   "outputs": [],
   "source": [
    "#train = tables_io.sliceObj(d, slice(0, -1, 10))\n",
    "train = d \n",
    "band_names = raruma_util.make_band_names('{band}_gaap1p0Mag', 'ugrizy')\n",
    "mags = raruma_util.extract_data_to_2d_array(train,band_names)\n",
    "mask = np.sum(np.isfinite(mags), axis=1) == 6\n",
    "colors = raruma_util.adjacent_band_colors(mags)"
   ]
  },
  {
   "cell_type": "code",
   "execution_count": null,
   "id": "b2930dab-048b-41b7-9db1-50e3c6e0fea9",
   "metadata": {},
   "outputs": [],
   "source": [
    "fluxes = raruma_util.mags_to_fluxes(mags, 31.4)"
   ]
  },
  {
   "cell_type": "code",
   "execution_count": null,
   "id": "0bd4e4ab-aece-4fa9-9620-cd9d8d780e8e",
   "metadata": {},
   "outputs": [],
   "source": [
    "pz_mode = pz.ancil['zmode']"
   ]
  },
  {
   "cell_type": "code",
   "execution_count": null,
   "id": "c1889b79-f51d-4e3c-8357-2eff6dbc87d1",
   "metadata": {},
   "outputs": [],
   "source": [
    "_ = raruma_plot.plot_colors_v_redshifts_with_templates(np.squeeze(pz_mode[mask]), colors[mask])"
   ]
  },
  {
   "cell_type": "code",
   "execution_count": null,
   "id": "0ebdc60b-47fd-4d75-8bc1-113fe6a9a626",
   "metadata": {},
   "outputs": [],
   "source": [
    "_ = plt.hist(pz_mode[mask], bins=np.linspace(0., 3., 301))"
   ]
  },
  {
   "cell_type": "code",
   "execution_count": null,
   "id": "03875a78-8d02-48a2-8063-629ef9e48dec",
   "metadata": {},
   "outputs": [],
   "source": [
    "total_fluxes = fluxes[mask].sum(axis=1)"
   ]
  },
  {
   "cell_type": "code",
   "execution_count": null,
   "id": "59ce978a-ca01-4538-8a23-7bca70a62887",
   "metadata": {},
   "outputs": [],
   "source": [
    "fluxes"
   ]
  },
  {
   "cell_type": "code",
   "execution_count": null,
   "id": "f64e6051-20b8-4721-a576-8f02943ba155",
   "metadata": {},
   "outputs": [],
   "source": [
    "n_obj = len(total_fluxes)"
   ]
  },
  {
   "cell_type": "code",
   "execution_count": null,
   "id": "751e8c44-ebb1-4a40-980d-c4adb34f7abc",
   "metadata": {},
   "outputs": [],
   "source": [
    "picks = np.random.randint(n_obj, size=(n_obj))"
   ]
  },
  {
   "cell_type": "code",
   "execution_count": null,
   "id": "8ce3f6d2-8f2b-4340-a0d8-bd7afa1611bd",
   "metadata": {},
   "outputs": [],
   "source": [
    "pick_fluxes = fluxes[picks]"
   ]
  },
  {
   "cell_type": "code",
   "execution_count": null,
   "id": "7c10776f-64f0-428b-949c-8f7f0ab1c59a",
   "metadata": {},
   "outputs": [],
   "source": [
    "pick_totals = pick_fluxes.sum(axis=1)"
   ]
  },
  {
   "cell_type": "code",
   "execution_count": null,
   "id": "c725a822-b15c-4099-a3b6-e8b5dc261791",
   "metadata": {},
   "outputs": [],
   "source": [
    "pick_weights = total_fluxes / pick_totals"
   ]
  },
  {
   "cell_type": "code",
   "execution_count": null,
   "id": "324c74c0-f2cf-4d4d-a271-a7f59595633c",
   "metadata": {},
   "outputs": [],
   "source": [
    "pick_weights"
   ]
  },
  {
   "cell_type": "code",
   "execution_count": null,
   "id": "ca30028d-5557-4ff0-a9ed-f2d2a698d0f3",
   "metadata": {},
   "outputs": [],
   "source": [
    "contamination = (pick_fluxes.T*(pick_weights*0.01)).T"
   ]
  },
  {
   "cell_type": "code",
   "execution_count": null,
   "id": "0bd0e4f5-bcad-4ac9-a5d7-ba42e46ca855",
   "metadata": {},
   "outputs": [],
   "source": [
    "new_fluxes = fluxes + contamination"
   ]
  },
  {
   "cell_type": "code",
   "execution_count": null,
   "id": "0185b46b-694c-464c-914d-3b5e65d9c65f",
   "metadata": {},
   "outputs": [],
   "source": [
    "new_fluxes / fluxes"
   ]
  },
  {
   "cell_type": "code",
   "execution_count": null,
   "id": "eb1417c5-9b92-4638-a540-48bdc0722074",
   "metadata": {},
   "outputs": [],
   "source": [
    "new_mags = raruma_util.fluxes_to_mags(new_fluxes, 31.4)"
   ]
  },
  {
   "cell_type": "code",
   "execution_count": null,
   "id": "8a39ec37-fe2b-4930-8000-19143cd7c00d",
   "metadata": {},
   "outputs": [],
   "source": [
    "mags - new_mags"
   ]
  },
  {
   "cell_type": "code",
   "execution_count": null,
   "id": "27de760b-97aa-4d22-b1d3-ae7e03f27c3c",
   "metadata": {},
   "outputs": [],
   "source": [
    "new_colors = raruma_util.adjacent_band_colors(new_mags)\n",
    "colors = raruma_util.adjacent_band_colors(mags)"
   ]
  },
  {
   "cell_type": "code",
   "execution_count": null,
   "id": "8fca7600-80f8-4343-96ad-c5f5dd94a949",
   "metadata": {},
   "outputs": [],
   "source": [
    "new_colors - colors"
   ]
  },
  {
   "cell_type": "code",
   "execution_count": null,
   "id": "72af00c7-dddb-4a24-b815-cb3be7bd2208",
   "metadata": {},
   "outputs": [],
   "source": []
  },
  {
   "cell_type": "code",
   "execution_count": null,
   "id": "9582ee7e-432e-4ea0-89f3-6e30ae2d3531",
   "metadata": {},
   "outputs": [],
   "source": []
  }
 ],
 "metadata": {
  "kernelspec": {
   "display_name": "rail-1.2",
   "language": "python",
   "name": "rail-1.2"
  },
  "language_info": {
   "codemirror_mode": {
    "name": "ipython",
    "version": 3
   },
   "file_extension": ".py",
   "mimetype": "text/x-python",
   "name": "python",
   "nbconvert_exporter": "python",
   "pygments_lexer": "ipython3",
   "version": "3.13.5"
  }
 },
 "nbformat": 4,
 "nbformat_minor": 5
}
