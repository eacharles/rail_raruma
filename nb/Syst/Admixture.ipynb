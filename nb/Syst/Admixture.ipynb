{
 "cells": [
  {
   "cell_type": "code",
   "execution_count": null,
   "id": "b82ea713-e579-494a-8411-7d1a3cc74b88",
   "metadata": {},
   "outputs": [],
   "source": [
    "import tables_io\n",
    "import numpy as np\n",
    "import matplotlib.pyplot as plt\n",
    "import qp\n",
    "from rail.core.data import DATA_STORE\n",
    "from rail.utils.catalog_utils import RomanRubinCatalogConfig\n",
    "DS = DATA_STORE()"
   ]
  },
  {
   "cell_type": "code",
   "execution_count": null,
   "id": "5194a50e-82ce-47e0-b50a-8b85bf70aef7",
   "metadata": {},
   "outputs": [],
   "source": [
    "from rail.raruma import utility_functions as raruma_util\n",
    "from rail.raruma import plotting_functions as raruma_plot"
   ]
  },
  {
   "cell_type": "markdown",
   "id": "cfb5426f-be67-42cd-8684-a9dc6533bc4b",
   "metadata": {},
   "source": [
    "Change this to be the root of the current PZ working area"
   ]
  },
  {
   "cell_type": "code",
   "execution_count": null,
   "id": "dfd89819-b826-442d-b410-aa322d15dac4",
   "metadata": {},
   "outputs": [],
   "source": [
    "#pz_dir = '/global/cfs/cdirs/lsst/groups/PZ/DP1'\n",
    "pz_dir = '/Users/echarles/pz'"
   ]
  },
  {
   "cell_type": "code",
   "execution_count": null,
   "id": "ada19e21-adc5-466a-8f34-79159ea6b065",
   "metadata": {},
   "outputs": [],
   "source": [
    "d = tables_io.read(f\"{pz_dir}/data/on_sky/dp1_v29.0.0_gold_all.hdf5\")\n",
    "pz = qp.read(f\"{pz_dir}/projects/dp1/data/gold_baseline/dp1_all/output_estimate_knn.hdf5\")"
   ]
  },
  {
   "cell_type": "code",
   "execution_count": null,
   "id": "c208d546-aa39-42ec-8537-588684e3533e",
   "metadata": {},
   "outputs": [],
   "source": [
    "#train = tables_io.sliceObj(d, slice(0, -1, 10))\n",
    "train = d \n",
    "band_names = raruma_util.make_band_names('{band}_gaap1p0Mag', 'ugrizy')\n",
    "mags = raruma_util.extract_data_to_2d_array(train,band_names)\n",
    "mask = np.sum(np.isfinite(mags), axis=1) == 6\n",
    "colors = raruma_util.adjacent_band_colors(mags)"
   ]
  },
  {
   "cell_type": "code",
   "execution_count": null,
   "id": "d55c1371-ad60-4091-a1eb-94bec78751cb",
   "metadata": {},
   "outputs": [],
   "source": [
    "good_mask  = np.bitwise_and(\n",
    "    np.bitwise_and(\n",
    "        train['i_psfMagErr'] < 0.1,\n",
    "        train['g_psfMagErr'] < 0.1,\n",
    "    ),\n",
    "    np.bitwise_and(\n",
    "        train['r_psfMagErr'] < 0.1,\n",
    "        train['z_psfMagErr'] < 0.1,\n",
    "    ),\n",
    ")\n"
   ]
  },
  {
   "cell_type": "code",
   "execution_count": null,
   "id": "1ad13b2c-5156-4b52-bc42-e8fe15a6d5e9",
   "metadata": {},
   "outputs": [],
   "source": [
    "train"
   ]
  },
  {
   "cell_type": "code",
   "execution_count": null,
   "id": "b2930dab-048b-41b7-9db1-50e3c6e0fea9",
   "metadata": {},
   "outputs": [],
   "source": [
    "fluxes = raruma_util.mags_to_fluxes(mags, 31.4)"
   ]
  },
  {
   "cell_type": "code",
   "execution_count": null,
   "id": "4ab6f4f2-20c3-4d7e-9032-654c01b73a7d",
   "metadata": {},
   "outputs": [],
   "source": [
    "fluxes = np.nan_to_num(fluxes, 200).clip(200, np.inf)"
   ]
  },
  {
   "cell_type": "code",
   "execution_count": null,
   "id": "0bd4e4ab-aece-4fa9-9620-cd9d8d780e8e",
   "metadata": {},
   "outputs": [],
   "source": [
    "pz_mode = pz.ancil['zmode']"
   ]
  },
  {
   "cell_type": "code",
   "execution_count": null,
   "id": "c1889b79-f51d-4e3c-8357-2eff6dbc87d1",
   "metadata": {},
   "outputs": [],
   "source": [
    "_ = raruma_plot.plot_colors_v_redshifts_with_templates(np.squeeze(pz_mode[good_mask]), colors[good_mask])"
   ]
  },
  {
   "cell_type": "code",
   "execution_count": null,
   "id": "0ebdc60b-47fd-4d75-8bc1-113fe6a9a626",
   "metadata": {},
   "outputs": [],
   "source": [
    "_ = plt.hist(pz_mode[mask], bins=np.linspace(0., 3., 301))"
   ]
  },
  {
   "cell_type": "code",
   "execution_count": null,
   "id": "59ce978a-ca01-4538-8a23-7bca70a62887",
   "metadata": {},
   "outputs": [],
   "source": [
    "fluxes =  np.nan_to_num(fluxes, 200).clip(200, np.inf)\n",
    "total_fluxes = fluxes[good_mask].sum(axis=1)"
   ]
  },
  {
   "cell_type": "code",
   "execution_count": null,
   "id": "f64e6051-20b8-4721-a576-8f02943ba155",
   "metadata": {},
   "outputs": [],
   "source": [
    "n_obj = len(total_fluxes)"
   ]
  },
  {
   "cell_type": "code",
   "execution_count": null,
   "id": "59c0624e-7773-4846-9dc8-ec33114a32b4",
   "metadata": {},
   "outputs": [],
   "source": [
    "good_mask.size"
   ]
  },
  {
   "cell_type": "code",
   "execution_count": null,
   "id": "751e8c44-ebb1-4a40-980d-c4adb34f7abc",
   "metadata": {},
   "outputs": [],
   "source": [
    "picks = np.random.randint(n_obj, size=(n_obj))"
   ]
  },
  {
   "cell_type": "code",
   "execution_count": null,
   "id": "8ce3f6d2-8f2b-4340-a0d8-bd7afa1611bd",
   "metadata": {},
   "outputs": [],
   "source": [
    "pick_fluxes = fluxes[picks]"
   ]
  },
  {
   "cell_type": "code",
   "execution_count": null,
   "id": "4f929fef-1261-4c7b-b5b0-7270db0139b8",
   "metadata": {},
   "outputs": [],
   "source": [
    "fluxes"
   ]
  },
  {
   "cell_type": "code",
   "execution_count": null,
   "id": "7c10776f-64f0-428b-949c-8f7f0ab1c59a",
   "metadata": {},
   "outputs": [],
   "source": [
    "pick_totals = pick_fluxes.sum(axis=1)"
   ]
  },
  {
   "cell_type": "code",
   "execution_count": null,
   "id": "c725a822-b15c-4099-a3b6-e8b5dc261791",
   "metadata": {},
   "outputs": [],
   "source": [
    "pick_weights = total_fluxes / pick_totals"
   ]
  },
  {
   "cell_type": "code",
   "execution_count": null,
   "id": "324c74c0-f2cf-4d4d-a271-a7f59595633c",
   "metadata": {},
   "outputs": [],
   "source": [
    "pick_weights"
   ]
  },
  {
   "cell_type": "code",
   "execution_count": null,
   "id": "ca30028d-5557-4ff0-a9ed-f2d2a698d0f3",
   "metadata": {},
   "outputs": [],
   "source": [
    "contamination = (pick_fluxes.T*(pick_weights*0.01)).T"
   ]
  },
  {
   "cell_type": "code",
   "execution_count": null,
   "id": "0bd0e4f5-bcad-4ac9-a5d7-ba42e46ca855",
   "metadata": {},
   "outputs": [],
   "source": [
    "new_fluxes = fluxes[good_mask] + contamination"
   ]
  },
  {
   "cell_type": "code",
   "execution_count": null,
   "id": "0185b46b-694c-464c-914d-3b5e65d9c65f",
   "metadata": {},
   "outputs": [],
   "source": [
    "new_fluxes / fluxes[good_mask]"
   ]
  },
  {
   "cell_type": "code",
   "execution_count": null,
   "id": "597379ac-3532-45b8-8190-82626072cf04",
   "metadata": {},
   "outputs": [],
   "source": [
    "(new_fluxes.sum(axis=1) / fluxes[good_mask].sum(axis=1))"
   ]
  },
  {
   "cell_type": "code",
   "execution_count": null,
   "id": "eb1417c5-9b92-4638-a540-48bdc0722074",
   "metadata": {},
   "outputs": [],
   "source": [
    "new_mags = np.where(np.isfinite(mags[good_mask]), raruma_util.fluxes_to_mags(new_fluxes, 31.4), np.nan)"
   ]
  },
  {
   "cell_type": "code",
   "execution_count": null,
   "id": "8a39ec37-fe2b-4930-8000-19143cd7c00d",
   "metadata": {},
   "outputs": [],
   "source": [
    "mags[good_mask] - new_mags"
   ]
  },
  {
   "cell_type": "code",
   "execution_count": null,
   "id": "0d1644da-4cd3-4d33-a357-134ea6b9903f",
   "metadata": {},
   "outputs": [],
   "source": [
    "diff_mags = mags[good_mask] - new_mags"
   ]
  },
  {
   "cell_type": "code",
   "execution_count": null,
   "id": "27de760b-97aa-4d22-b1d3-ae7e03f27c3c",
   "metadata": {},
   "outputs": [],
   "source": [
    "new_colors = raruma_util.adjacent_band_colors(new_mags)\n",
    "colors = raruma_util.adjacent_band_colors(mags)"
   ]
  },
  {
   "cell_type": "code",
   "execution_count": null,
   "id": "8fca7600-80f8-4343-96ad-c5f5dd94a949",
   "metadata": {},
   "outputs": [],
   "source": [
    "diff_colors = new_colors - colors[good_mask]"
   ]
  },
  {
   "cell_type": "code",
   "execution_count": null,
   "id": "2b2438f2-20a4-4ff4-b9e7-6e0c99847dae",
   "metadata": {},
   "outputs": [],
   "source": [
    "diff_colors"
   ]
  },
  {
   "cell_type": "code",
   "execution_count": null,
   "id": "85f66f76-4892-4a0e-a08f-74287f264fed",
   "metadata": {},
   "outputs": [],
   "source": [
    "import corner"
   ]
  },
  {
   "cell_type": "code",
   "execution_count": null,
   "id": "b7b1da54-bd95-4f57-a0a3-4611cd6dd63f",
   "metadata": {},
   "outputs": [],
   "source": [
    "_ = corner.corner(np.nan_to_num(diff_mags.clip(-0.1, 0.1)))"
   ]
  },
  {
   "cell_type": "code",
   "execution_count": null,
   "id": "1eac19ff-e41e-44bf-9c02-0d376766d529",
   "metadata": {},
   "outputs": [],
   "source": [
    "_ = corner.corner(np.nan_to_num(diff_colors).clip(-0.1, 0.1))"
   ]
  },
  {
   "cell_type": "code",
   "execution_count": null,
   "id": "bb6f5255-8cd6-4c6b-b62f-391fb9f7b6b7",
   "metadata": {},
   "outputs": [],
   "source": [
    "\n",
    "_ = plt.hist(diff_colors[:,1], bins=np.linspace(-0.05, 0.05, 101))"
   ]
  },
  {
   "cell_type": "code",
   "execution_count": null,
   "id": "d2213a43-34c5-4196-8968-f18a066ea951",
   "metadata": {},
   "outputs": [],
   "source": []
  },
  {
   "cell_type": "code",
   "execution_count": null,
   "id": "00289be1-0849-4e44-9266-4eabcf4c18c3",
   "metadata": {},
   "outputs": [],
   "source": []
  },
  {
   "cell_type": "code",
   "execution_count": null,
   "id": "0cf3cded-02d1-4116-8842-dc5ebcfb2807",
   "metadata": {},
   "outputs": [],
   "source": [
    "_ = plt.hist(diff_mags.std(axis=1), bins=np.linspace(-0.0, 0.05, 101))"
   ]
  },
  {
   "cell_type": "code",
   "execution_count": null,
   "id": "72af00c7-dddb-4a24-b815-cb3be7bd2208",
   "metadata": {},
   "outputs": [],
   "source": [
    "_ = plt.hist(diff_colors.std(axis=1), bins=np.linspace(0., 0.1, 101))"
   ]
  },
  {
   "cell_type": "code",
   "execution_count": null,
   "id": "9582ee7e-432e-4ea0-89f3-6e30ae2d3531",
   "metadata": {},
   "outputs": [],
   "source": [
    "_ = plt.hist2d(diff_colors.std(axis=1), diff_mags.mean(axis=1), bins=(np.linspace(0, 0.1, 101), np.linspace(0., 0.1, 101)), cmap='gray', norm='log')\n",
    "_ = plt.xlim(0., 0.1)\n",
    "_ = plt.ylim(0., 0.1)"
   ]
  },
  {
   "cell_type": "code",
   "execution_count": null,
   "id": "3af4aadb-cb21-47a5-ae0e-bf401added8f",
   "metadata": {},
   "outputs": [],
   "source": [
    "_ = plt.hist2d(diff_colors.mean(axis=1), diff_colors.std(axis=1), bins=(np.linspace(-0.1, 0.1, 101), np.linspace(0., 0.1, 101)), cmap='gray', norm='log')\n",
    "_ = plt.xlim(-0.1, 0.1)\n",
    "_ = plt.ylim(0., 0.1)"
   ]
  },
  {
   "cell_type": "code",
   "execution_count": null,
   "id": "14378828-2350-4364-bfb4-467401f3c445",
   "metadata": {},
   "outputs": [],
   "source": []
  }
 ],
 "metadata": {
  "kernelspec": {
   "display_name": "Python 3 (ipykernel)",
   "language": "python",
   "name": "python3"
  },
  "language_info": {
   "codemirror_mode": {
    "name": "ipython",
    "version": 3
   },
   "file_extension": ".py",
   "mimetype": "text/x-python",
   "name": "python",
   "nbconvert_exporter": "python",
   "pygments_lexer": "ipython3",
   "version": "3.13.3"
  }
 },
 "nbformat": 4,
 "nbformat_minor": 5
}
