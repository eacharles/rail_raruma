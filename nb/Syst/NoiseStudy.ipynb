{
 "cells": [
  {
   "cell_type": "code",
   "execution_count": null,
   "id": "9e738791-4d24-403c-bc09-b924006d722a",
   "metadata": {},
   "outputs": [],
   "source": [
    "import tables_io\n",
    "import numpy as np\n",
    "import matplotlib.pyplot as plt\n",
    "import pyccl as ccl\n",
    "from rail.raruma import utility_functions as raruma_util\n",
    "from rail.raruma import plotting_functions as raruma_plot\n",
    "from rail.raruma import admixture_functions as raruma_admix\n",
    "from rail.raruma import wrapper_classes as raruma_wrap\n",
    "from scipy.stats import sigmaclip\n",
    "from astropy.stats import biweight_location, biweight_scale\n"
   ]
  },
  {
   "cell_type": "code",
   "execution_count": null,
   "id": "54db1941-7fdd-4c2e-bcb9-366ce9cce284",
   "metadata": {},
   "outputs": [],
   "source": [
    "# pz_dir = '/global/cfs/cdirs/lsst/groups/PZ/DP1'  \n",
    "# if that fails you can use this\n",
    "# pz_dir = '/global/u2/e/echarles/dx'\n",
    "pz_dir = '/Users/echarles/pz'"
   ]
  },
  {
   "cell_type": "code",
   "execution_count": null,
   "id": "4465ffab-643c-4662-9831-39395aa78dd3",
   "metadata": {},
   "outputs": [],
   "source": [
    "train = tables_io.read(f\"{pz_dir}/data/train/dp1_ecdfs_matched_specgold_train.hdf5\")\n",
    "test = tables_io.read(f\"{pz_dir}/data/test/dp1_ecdfs_matched_specgold_test.hdf5\")\n",
    "#d.keys()\n",
    "#train = tables_io.sliceObj(d, slice(0, -1, 10))\n",
    "#test = tables_io.sliceObj(d, slice(1, -1, 10))\n",
    "model_file_knn = './model_inform_knn.pkl'\n",
    "model_file_bpz = './model_inform_bpz.pkl'\n",
    "model_file_fzb = './model_inform_fzboost.pkl'\n",
    "model_file_gpz = './model_inform_gpz.pkl'"
   ]
  },
  {
   "cell_type": "code",
   "execution_count": null,
   "id": "12ad5f3a-eaed-4303-a992-ec6e25a02a67",
   "metadata": {},
   "outputs": [],
   "source": [
    "from rail.estimation.algos.k_nearneigh import KNearNeighEstimator\n",
    "from rail.estimation.algos.bpz_lite import BPZliteEstimator\n",
    "from rail.estimation.algos.flexzboost import FlexZBoostEstimator\n",
    "from rail.estimation.algos.gpz import GPzEstimator\n",
    "from rail.utils.catalog_utils import RubinCatalogConfig\n",
    "RubinCatalogConfig.apply(RubinCatalogConfig.tag)\n",
    "band_names = raruma_util.make_band_names('LSST_obs_{band}', 'ugrizy')\n",
    "error_band_names = raruma_util.make_band_names('LSST_obs_{band}_err', 'ugrizy')"
   ]
  },
  {
   "cell_type": "code",
   "execution_count": null,
   "id": "1307299a-6f35-4e70-8ec5-77ca635e98df",
   "metadata": {},
   "outputs": [],
   "source": [
    "train_features = raruma_util.get_band_values(train, '{band}_gaap1p0Mag', 'ugrizy')\n",
    "error_bands = raruma_util.get_band_values(train, '{band}_gaap1p0MagErr', 'ugrizy')"
   ]
  },
  {
   "cell_type": "code",
   "execution_count": null,
   "id": "4e2bcd85-40ee-4cbb-85cb-e40ec1c3824c",
   "metadata": {},
   "outputs": [],
   "source": [
    "knn = KNearNeighEstimator.make_stage(name='knn', model=model_file_knn, input='dummy.in', output_mode='return', nzbins=3001)\n",
    "knn.stage_columns = knn.config.bands\n",
    "knn_w = raruma_wrap.CatEstimatorWrapper(knn, band_names)"
   ]
  },
  {
   "cell_type": "code",
   "execution_count": null,
   "id": "ac205648-a73e-4a3c-ab95-9a53bb1ad4fa",
   "metadata": {},
   "outputs": [],
   "source": [
    "noise_grid = np.logspace(-4, 0, 17)"
   ]
  },
  {
   "cell_type": "code",
   "execution_count": null,
   "id": "9e6a87bf-7e76-4f0f-83f9-53fc19abecfd",
   "metadata": {},
   "outputs": [],
   "source": [
    "def doit(wrapper, nclip=3):\n",
    "    the_dict = {}\n",
    "    inputs = np.hstack([train_features, error_bands])\n",
    "    est_orig = wrapper(inputs.T)\n",
    "    means = []\n",
    "    stds = []\n",
    "    outlier_fracs = []\n",
    "    for noise in noise_grid:\n",
    "        noisy_mags = raruma_admix.gaussian_noise(train_features, noise_levels=noise*np.ones(6)).T\n",
    "        inputs = np.hstack([noisy_mags, error_bands])\n",
    "        ad_vals = wrapper(inputs.T)\n",
    "        deltas = (ad_vals - est_orig)/(1 + est_orig)\n",
    "        subset_clip, _, _ = sigmaclip(deltas, low=3, high=3)\n",
    "        for _j in range(nclip):\n",
    "            subset_clip, _, _ = sigmaclip(subset_clip, low=3, high=3)\n",
    "\n",
    "        the_dict[noise] = deltas\n",
    "        outliers = (np.fabs(deltas) > 0.15).sum() / float(deltas.size)\n",
    "        outlier_fracs.append(outliers)\n",
    "        #means.append(deltas.mean())\n",
    "        #stds.append(deltas.std())\n",
    "        means.append(biweight_location(subset_clip))\n",
    "        stds.append(biweight_scale(subset_clip))\n",
    "\n",
    "    _ = plt.plot(noise_grid, means, label=r\"mean $\\delta z$\")\n",
    "    _ = plt.plot(noise_grid, stds, label=r\"RMS $\\delta z$\")\n",
    "    _ = plt.plot(noise_grid, outlier_fracs, label=r\"f $\\delta z > 0.15$\")\n",
    "    _ = plt.xscale('log')\n",
    "    _ = plt.legend()\n",
    "    _ = plt.xlabel(\"Noise [mag]\")\n",
    "    _ = plt.ylabel(r\"$\\delta z$\")"
   ]
  },
  {
   "cell_type": "code",
   "execution_count": null,
   "id": "a0ff43da-a12c-4e75-80fa-ab543cb44a13",
   "metadata": {},
   "outputs": [],
   "source": [
    "doit(knn_w)"
   ]
  },
  {
   "cell_type": "code",
   "execution_count": null,
   "id": "2a168c5b-6071-4d42-a897-3b5232c0f6fc",
   "metadata": {},
   "outputs": [],
   "source": []
  }
 ],
 "metadata": {
  "kernelspec": {
   "display_name": "Python 3 (ipykernel)",
   "language": "python",
   "name": "python3"
  },
  "language_info": {
   "codemirror_mode": {
    "name": "ipython",
    "version": 3
   },
   "file_extension": ".py",
   "mimetype": "text/x-python",
   "name": "python",
   "nbconvert_exporter": "python",
   "pygments_lexer": "ipython3",
   "version": "3.13.3"
  }
 },
 "nbformat": 4,
 "nbformat_minor": 5
}
