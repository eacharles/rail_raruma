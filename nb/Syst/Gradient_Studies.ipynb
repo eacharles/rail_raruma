{
 "cells": [
  {
   "cell_type": "code",
   "execution_count": null,
   "id": "dd8c8985-f228-4b61-b6a1-9575c7023aaa",
   "metadata": {},
   "outputs": [],
   "source": [
    "import tables_io\n",
    "import numpy as np\n",
    "import matplotlib.pyplot as plt\n",
    "from rail.raruma import plotting_functions as raruma_plot\n",
    "from rail.raruma import utility_functions as raruma_util\n",
    "from rail.core.data import DataStore\n",
    "from rail.core.stage import RailStage\n",
    "DataStore.allow_overwrite = True\n",
    "import jax.numpy as jnp\n",
    "import jax\n",
    "import scipy.differentiate as scipy_diff"
   ]
  },
  {
   "cell_type": "code",
   "execution_count": null,
   "id": "a0795308-fff8-455c-b8d9-ade86eadd42b",
   "metadata": {},
   "outputs": [],
   "source": [
    "from rail.estimation.algos.k_nearneigh import KNearNeighEstimator\n",
    "from rail.utils.catalog_utils import RubinCatalogConfig\n",
    "RubinCatalogConfig.apply(RubinCatalogConfig.tag)\n",
    "from rail.raruma.wrapper_classes import CatEstimatorDerivativeWrapper, CatEstimatorJacobianWrapper, CatEstimatorHessianWrapper"
   ]
  },
  {
   "cell_type": "code",
   "execution_count": null,
   "id": "dff8ebb4-5236-425e-a620-8aed77adca0c",
   "metadata": {},
   "outputs": [],
   "source": []
  },
  {
   "cell_type": "code",
   "execution_count": null,
   "id": "2da4dbab-0551-4b60-be2d-588014478274",
   "metadata": {},
   "outputs": [],
   "source": [
    "model_file = './model_inform_knn.pkl'"
   ]
  },
  {
   "cell_type": "code",
   "execution_count": null,
   "id": "bc7b4b84-8bac-4d66-9fff-5e47bed37880",
   "metadata": {},
   "outputs": [],
   "source": [
    "d = tables_io.read(\"/Users/echarles/pz/sandbox_data/roman_rubin_9925.hdf5\")\n",
    "train = tables_io.sliceObj(d, slice(0, 1))\n",
    "band_names = raruma_util.make_band_names('LSST_obs_{band}', 'ugrizy')\n",
    "mags = raruma_util.extract_data_to_2d_array(train,band_names)"
   ]
  },
  {
   "cell_type": "code",
   "execution_count": null,
   "id": "bb189bb5-75aa-4fef-ae33-8d192ee2df4e",
   "metadata": {},
   "outputs": [],
   "source": [
    "mags.T"
   ]
  },
  {
   "cell_type": "code",
   "execution_count": null,
   "id": "6a73a2b4-ac60-4d6c-adf8-43b022cd4719",
   "metadata": {},
   "outputs": [],
   "source": [
    "init_values = {key:val for key, val in zip(band_names, mags.T)}"
   ]
  },
  {
   "cell_type": "code",
   "execution_count": null,
   "id": "561ffa30-f3aa-4567-813b-d3eb9b09baaa",
   "metadata": {},
   "outputs": [],
   "source": [
    "init_values"
   ]
  },
  {
   "cell_type": "code",
   "execution_count": null,
   "id": "5ed1046f-233a-4c62-b90c-748c22621ed0",
   "metadata": {},
   "outputs": [],
   "source": [
    "knn = KNearNeighEstimator.make_stage(name='knn', model=model_file, input='dummy.in', output_mode='return', nzbins=3001)\n",
    "knn.stage_columns = knn.config.bands\n",
    "knn_j = CatEstimatorJacobianWrapper(knn, band_names)\n",
    "knn_d = CatEstimatorDerivativeWrapper(knn, 'LSST_obs_g', init_values=init_values)\n",
    "knn_h = CatEstimatorHessianWrapper(knn, band_names)"
   ]
  },
  {
   "cell_type": "code",
   "execution_count": null,
   "id": "61d70926-9064-41da-9267-e617244720ce",
   "metadata": {},
   "outputs": [],
   "source": [
    "knn_j._estimator.model"
   ]
  },
  {
   "cell_type": "code",
   "execution_count": null,
   "id": "ac889a48-e8ee-4624-a190-25082fc25d79",
   "metadata": {},
   "outputs": [],
   "source": [
    "out = knn_j(mags.T)\n",
    "print(out)"
   ]
  },
  {
   "cell_type": "code",
   "execution_count": null,
   "id": "07c2306f-2e43-45ec-8dbe-65ade1bb5a78",
   "metadata": {},
   "outputs": [],
   "source": [
    "mags.T"
   ]
  },
  {
   "cell_type": "code",
   "execution_count": null,
   "id": "d8d2b0d2-bb03-4b7c-92cc-2904ec7a1508",
   "metadata": {},
   "outputs": [],
   "source": [
    "mags.T[1]"
   ]
  },
  {
   "cell_type": "code",
   "execution_count": null,
   "id": "b7119bc7-63e5-4273-a059-5332793ca9c6",
   "metadata": {},
   "outputs": [],
   "source": [
    "out = knn_d(mags.T[1])"
   ]
  },
  {
   "cell_type": "code",
   "execution_count": null,
   "id": "dbd11a24-efcf-459d-93ee-a8b3537514d1",
   "metadata": {},
   "outputs": [],
   "source": [
    "from scipy.differentiate import jacobian, hessian, derivative"
   ]
  },
  {
   "cell_type": "code",
   "execution_count": null,
   "id": "4c4e4e1a-dd15-4072-9d3c-bde599da6b82",
   "metadata": {},
   "outputs": [],
   "source": [
    "x = np.array([mags.T[1], mags.T[1]+1.]).T"
   ]
  },
  {
   "cell_type": "code",
   "execution_count": null,
   "id": "79e55a4e-a918-4a02-8ad3-b2cb0b991a2d",
   "metadata": {},
   "outputs": [],
   "source": [
    "x.shape"
   ]
  },
  {
   "cell_type": "code",
   "execution_count": null,
   "id": "99efa111-e53c-4324-956c-ade1fd10eb16",
   "metadata": {},
   "outputs": [],
   "source": [
    "mags.T"
   ]
  },
  {
   "cell_type": "code",
   "execution_count": null,
   "id": "5a0dc25a-30b1-4bfd-841b-9d7fb2db05a7",
   "metadata": {},
   "outputs": [],
   "source": [
    "hesse = hessian(knn_h, mags.T, initial_step=0.4, tolerances=dict(atol=0.1, rtol=0.1))"
   ]
  },
  {
   "cell_type": "code",
   "execution_count": null,
   "id": "6d469fe7-d112-4634-bfe7-9f1fa439059c",
   "metadata": {},
   "outputs": [],
   "source": [
    "hesse.success.shape"
   ]
  },
  {
   "cell_type": "code",
   "execution_count": null,
   "id": "f060ad26-bfbd-4328-b93d-ff2349d4858a",
   "metadata": {},
   "outputs": [],
   "source": [
    "mags.T.shape"
   ]
  },
  {
   "cell_type": "code",
   "execution_count": null,
   "id": "e800b50a-4a65-4346-b87a-7d5fad943f1d",
   "metadata": {},
   "outputs": [],
   "source": [
    "out = knn_d(x)"
   ]
  },
  {
   "cell_type": "code",
   "execution_count": null,
   "id": "48fa6287-b56d-437c-aa58-949534641482",
   "metadata": {},
   "outputs": [],
   "source": [
    "g_vals = np.linspace(24, 24.5, 131)"
   ]
  },
  {
   "cell_type": "code",
   "execution_count": null,
   "id": "1f935b11-4b52-4d33-a9f4-96280dce12f5",
   "metadata": {},
   "outputs": [],
   "source": [
    "z_vals = knn_d(g_vals)"
   ]
  },
  {
   "cell_type": "code",
   "execution_count": null,
   "id": "0da07502-3c8f-4914-8bbc-07d774c83427",
   "metadata": {},
   "outputs": [],
   "source": [
    "_ = plt.plot(g_vals, z_vals)"
   ]
  },
  {
   "cell_type": "code",
   "execution_count": null,
   "id": "1bf3c893-0ae6-4359-aa3f-fc1d11beaafb",
   "metadata": {},
   "outputs": [],
   "source": [
    "der = derivative(knn_d, g_vals, initial_step=0.2, tolerances=dict(atol=0.1, rtol=0.1))"
   ]
  },
  {
   "cell_type": "code",
   "execution_count": null,
   "id": "3aa88b6b-6969-463e-989d-6b333af2899f",
   "metadata": {},
   "outputs": [],
   "source": [
    "_ = plt.plot(der.x, der.df)"
   ]
  },
  {
   "cell_type": "code",
   "execution_count": null,
   "id": "f4fc4a88-defa-4bca-beda-747408ad5157",
   "metadata": {},
   "outputs": [],
   "source": [
    "mags.T"
   ]
  },
  {
   "cell_type": "code",
   "execution_count": null,
   "id": "9241fe69-b3df-4bde-ab09-426440d2827d",
   "metadata": {},
   "outputs": [],
   "source": [
    "jac_matrix = jacobian(knn_j, mags.T, initial_step=0.1, tolerances=dict(atol=0.1, rtol=0.1))\n"
   ]
  },
  {
   "cell_type": "code",
   "execution_count": null,
   "id": "bbab4d40-99f2-49a0-a5b1-80d7e87256f1",
   "metadata": {},
   "outputs": [],
   "source": [
    "jac_matrix"
   ]
  },
  {
   "cell_type": "code",
   "execution_count": null,
   "id": "47c2e11a-400f-44ca-9ad7-b7de5477fa31",
   "metadata": {},
   "outputs": [],
   "source": [
    "hesse"
   ]
  },
  {
   "cell_type": "code",
   "execution_count": null,
   "id": "184ae4ea-e0dd-4618-a0b7-dce60261a4c5",
   "metadata": {},
   "outputs": [],
   "source": [
    "class WrapFunc:\n",
    "    def __init__(self, func, vals, index):\n",
    "        self.func = func\n",
    "        self.vals = vals.copy()\n",
    "        self.index = index\n",
    "        \n",
    "    def __call__(self, x):\n",
    "        try:\n",
    "            nd = len(x.shape)\n",
    "        except:\n",
    "            nd = 1        \n",
    "        if nd > 1:\n",
    "            vals = np.repeat(np.atleast_2d(self.vals), x.shape[-1], axis=0)\n",
    "            ret_list = []\n",
    "            vals[:,self.index] = x\n",
    "            ret_vals = np.atleast_2d(self.func(vals))\n",
    "            return ret_vals\n",
    "        vals = self.vals.copy()\n",
    "        vals[self.index] = float(x)\n",
    "        ret_val = self.func(vals)\n",
    "        return ret_val\n",
    "\n",
    "def gradient(func, x_vals):\n",
    "    n_val = len(x_vals)\n",
    "    out = np.zeros(n_val)\n",
    "    for i in range(n_val):\n",
    "        wf = WrapFunc(func, x_vals, i)\n",
    "        dd = scipy_diff.derivative(wf, x_vals[i], maxiter=4, initial_step=0.1, tolerances=dict(atol=0.2))\n",
    "        out[i] = float(dd.df)\n",
    "    return out\n",
    "        "
   ]
  },
  {
   "cell_type": "code",
   "execution_count": null,
   "id": "9005c32f-9ab1-4599-b707-d4f9821e38f7",
   "metadata": {},
   "outputs": [],
   "source": [
    "grad = gradient(knn_w, mags[3])"
   ]
  },
  {
   "cell_type": "code",
   "execution_count": null,
   "id": "2b390a25-3d4a-4d64-8714-c9428403ab09",
   "metadata": {},
   "outputs": [],
   "source": [
    "# grad"
   ]
  },
  {
   "cell_type": "code",
   "execution_count": null,
   "id": "139b4c91-11b6-4e77-bf54-3a52b2ba9df0",
   "metadata": {},
   "outputs": [],
   "source": [
    "scipy_diff.jacobian(knn_w, mags[3])"
   ]
  },
  {
   "cell_type": "code",
   "execution_count": null,
   "id": "22727370-33bc-4654-9b99-20066071f734",
   "metadata": {},
   "outputs": [],
   "source": [
    "grads = []\n",
    "for i in range(1000):\n",
    "    if i % 50 == 0:\n",
    "        print(i)\n",
    "    grads.append(gradient(knn_w, mags[i]))\n",
    "gout = np.array(grads)"
   ]
  },
  {
   "cell_type": "code",
   "execution_count": null,
   "id": "beca308e-b650-4f8b-978b-885f810a3077",
   "metadata": {},
   "outputs": [],
   "source": [
    "gout"
   ]
  },
  {
   "cell_type": "code",
   "execution_count": null,
   "id": "9f19e42d-393b-4801-a4fb-f5ace798c842",
   "metadata": {},
   "outputs": [],
   "source": [
    "import matplotlib.pyplot as plt"
   ]
  },
  {
   "cell_type": "code",
   "execution_count": null,
   "id": "dc72663a-0ef1-450e-bf4d-8de2f8243d73",
   "metadata": {},
   "outputs": [],
   "source": [
    "_ = plt.scatter(mags[0:1000, 3], np.log10(np.abs(gout[:,4]) + 0.0001))"
   ]
  },
  {
   "cell_type": "code",
   "execution_count": null,
   "id": "af9b0352-4074-4bab-9075-101630593367",
   "metadata": {},
   "outputs": [],
   "source": [
    "_ = plt.hist(np.asinh(gout[:,4]), bins=500)\n",
    "_ = plt.xscale('symlog')\n",
    "_ = plt.xlim(-1, 1.)"
   ]
  },
  {
   "cell_type": "code",
   "execution_count": null,
   "id": "653aee23-3432-4b76-85f1-8c8fa06d7407",
   "metadata": {},
   "outputs": [],
   "source": [
    "_ = plt.scatter((gout[:,4]), np.asinh(gout[:,4]))\n",
    "_ = plt.xlim(-400, 400)\n",
    "_ = plt.ylim(-10, 10)"
   ]
  },
  {
   "cell_type": "code",
   "execution_count": null,
   "id": "90ee3e3e-f1a9-4fdc-a862-806c051b505f",
   "metadata": {},
   "outputs": [],
   "source": []
  }
 ],
 "metadata": {
  "kernelspec": {
   "display_name": "Python 3 (ipykernel)",
   "language": "python",
   "name": "python3"
  },
  "language_info": {
   "codemirror_mode": {
    "name": "ipython",
    "version": 3
   },
   "file_extension": ".py",
   "mimetype": "text/x-python",
   "name": "python",
   "nbconvert_exporter": "python",
   "pygments_lexer": "ipython3",
   "version": "3.13.3"
  }
 },
 "nbformat": 4,
 "nbformat_minor": 5
}
