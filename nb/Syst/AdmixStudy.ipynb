{
 "cells": [
  {
   "cell_type": "code",
   "execution_count": 1,
   "id": "21d369f9-b47a-41f7-9374-c6f8262cbcd5",
   "metadata": {},
   "outputs": [],
   "source": [
    "import tables_io\n",
    "import numpy as np\n",
    "import matplotlib.pyplot as plt\n",
    "import pyccl as ccl\n",
    "from rail.raruma import utility_functions as raruma_util\n",
    "from rail.raruma import plotting_functions as raruma_plot\n",
    "from rail.raruma import admixture_functions as raruma_admix\n",
    "from rail.raruma import wrapper_classes as raruma_wrap"
   ]
  },
  {
   "cell_type": "code",
   "execution_count": 2,
   "id": "e65ee0de-df10-472f-a4bf-d46898b32ce4",
   "metadata": {},
   "outputs": [],
   "source": [
    "# pz_dir = '/global/cfs/cdirs/lsst/groups/PZ/DP1'  \n",
    "# if that fails you can use this\n",
    "# pz_dir = '/global/u2/e/echarles/dx'\n",
    "pz_dir = '/Users/echarles/pz'"
   ]
  },
  {
   "cell_type": "code",
   "execution_count": 3,
   "id": "d1ab3c7d-bdc4-4711-b544-cb2c18d10de1",
   "metadata": {},
   "outputs": [],
   "source": [
    "train = tables_io.read(f\"{pz_dir}/data/train/dp1_ecdfs_matched_specgold_train.hdf5\")\n",
    "test = tables_io.read(f\"{pz_dir}/data/test/dp1_ecdfs_matched_specgold_test.hdf5\")\n",
    "#d.keys()\n",
    "#train = tables_io.sliceObj(d, slice(0, -1, 10))\n",
    "#test = tables_io.sliceObj(d, slice(1, -1, 10))\n",
    "d = tables_io.read(f\"{pz_dir}/data/on_sky/dp1_v29.0.0_gold_all.hdf5\")\n",
    "model_file = './model_inform_knn.pkl'"
   ]
  },
  {
   "cell_type": "code",
   "execution_count": 4,
   "id": "a380b829-8d31-4c84-bc37-73fbc7bba03c",
   "metadata": {},
   "outputs": [],
   "source": [
    "from rail.estimation.algos.k_nearneigh import KNearNeighEstimator\n",
    "from rail.utils.catalog_utils import RubinCatalogConfig\n",
    "RubinCatalogConfig.apply(RubinCatalogConfig.tag)\n",
    "band_names = raruma_util.make_band_names('LSST_obs_{band}', 'ugrizy')"
   ]
  },
  {
   "cell_type": "code",
   "execution_count": 5,
   "id": "1592f92d-236a-4866-a9e7-c61f0c7e7505",
   "metadata": {},
   "outputs": [],
   "source": [
    "train_features = raruma_util.get_band_values(train, '{band}_gaap1p0Mag', 'ugrizy')"
   ]
  },
  {
   "cell_type": "code",
   "execution_count": 6,
   "id": "180698ff-9772-4ccd-8a52-0bb524148eea",
   "metadata": {},
   "outputs": [],
   "source": [
    "library = raruma_util.get_band_values(d, '{band}_gaap1p0Mag', 'ugrizy')"
   ]
  },
  {
   "cell_type": "code",
   "execution_count": 7,
   "id": "b29e721f-d5d1-470c-bc4c-0834108224a7",
   "metadata": {},
   "outputs": [
    {
     "name": "stdout",
     "output_type": "stream",
     "text": [
      "Inserting handle into data store.  model: ./model_inform_knn.pkl, knn\n"
     ]
    }
   ],
   "source": [
    "knn = KNearNeighEstimator.make_stage(name='knn', model=model_file, input='dummy.in', output_mode='return', nzbins=3001)\n",
    "knn.stage_columns = knn.config.bands\n",
    "knn_j = raruma_wrap.CatEstimatorWrapper(knn, band_names)"
   ]
  },
  {
   "cell_type": "code",
   "execution_count": 8,
   "id": "44596097-bfd2-41ab-be36-1edade4382ba",
   "metadata": {},
   "outputs": [],
   "source": [
    "admix_grid = np.logspace(-4, 0, 17)"
   ]
  },
  {
   "cell_type": "code",
   "execution_count": null,
   "id": "1652b931-ae11-4bf6-aeef-6c693b02939f",
   "metadata": {},
   "outputs": [
    {
     "name": "stdout",
     "output_type": "stream",
     "text": [
      "Process 0 estimating PZ PDF for rows 0 - 4,803\n",
      "Inserting handle into data store.  output_knn: inprogress_output_knn.hdf5, knn\n",
      "Process 0 estimating PZ PDF for rows 0 - 4,803\n",
      "Inserting handle into data store.  output_knn: inprogress_output_knn.hdf5, knn\n",
      "Process 0 estimating PZ PDF for rows 0 - 4,803\n",
      "Inserting handle into data store.  output_knn: inprogress_output_knn.hdf5, knn\n",
      "Process 0 estimating PZ PDF for rows 0 - 4,803\n"
     ]
    }
   ],
   "source": [
    "the_dict = {}\n",
    "knn_orig = knn_j(train_features.T)\n",
    "means = []\n",
    "stds = []\n",
    "outlier_fracs = []\n",
    "for admix in admix_grid:\n",
    "    mixed_mags = raruma_admix.make_admixture(train_features, library, admixture=admix)\n",
    "    knn_vals = knn_j(mixed_mags.T)\n",
    "    deltas = knn_vals - knn_orig\n",
    "    the_dict[admix] = deltas\n",
    "    outliers = (np.fabs(deltas) > 0.15).sum() / float(deltas.size)\n",
    "    outlier_fracs.append(outliers)\n",
    "    means.append(deltas.mean())\n",
    "    stds.append(deltas.std())"
   ]
  },
  {
   "cell_type": "code",
   "execution_count": null,
   "id": "770ed052-9914-4e5b-bf32-71bd62f1fdec",
   "metadata": {},
   "outputs": [],
   "source": [
    "_ = plt.plot(admix_grid, means, label=r\"mean $\\delta z$\")\n",
    "_ = plt.plot(admix_grid, stds, label=r\"RMS $\\delta z$\")\n",
    "_ = plt.plot(admix_grid, outlier_fracs, label=r\"f $\\delta z > 0.15$\")\n",
    "_ = plt.xscale('log')\n",
    "_ = plt.legend()\n",
    "_ = plt.xlabel(\"Flux Admixture Fraction\")\n",
    "_ = plt.ylabel(r\"$\\delta z$\")"
   ]
  },
  {
   "cell_type": "code",
   "execution_count": null,
   "id": "410d50a1-7635-412d-9093-bf36156123a7",
   "metadata": {},
   "outputs": [],
   "source": [
    "for k, v in the_dict.items():\n",
    "    _ = plt.hist(v, bins=np.linspace(-1, 1, 101), label=k)"
   ]
  },
  {
   "cell_type": "code",
   "execution_count": null,
   "id": "debec7c4-395d-4598-88fc-bdbd32e7b49f",
   "metadata": {},
   "outputs": [],
   "source": []
  }
 ],
 "metadata": {
  "kernelspec": {
   "display_name": "Python 3 (ipykernel)",
   "language": "python",
   "name": "python3"
  },
  "language_info": {
   "codemirror_mode": {
    "name": "ipython",
    "version": 3
   },
   "file_extension": ".py",
   "mimetype": "text/x-python",
   "name": "python",
   "nbconvert_exporter": "python",
   "pygments_lexer": "ipython3",
   "version": "3.13.3"
  }
 },
 "nbformat": 4,
 "nbformat_minor": 5
}
