{
 "cells": [
  {
   "cell_type": "code",
   "execution_count": null,
   "id": "21d369f9-b47a-41f7-9374-c6f8262cbcd5",
   "metadata": {},
   "outputs": [],
   "source": [
    "import tables_io\n",
    "import numpy as np\n",
    "import matplotlib.pyplot as plt\n",
    "import pyccl as ccl\n",
    "from rail.raruma import utility_functions as raruma_util\n",
    "from rail.raruma import plotting_functions as raruma_plot\n",
    "from rail.raruma import admixture_functions as raruma_admix\n",
    "from rail.raruma import wrapper_classes as raruma_wrap\n",
    "from scipy.stats import sigmaclip\n",
    "from astropy.stats import biweight_location, biweight_scale\n"
   ]
  },
  {
   "cell_type": "code",
   "execution_count": null,
   "id": "e65ee0de-df10-472f-a4bf-d46898b32ce4",
   "metadata": {},
   "outputs": [],
   "source": [
    "# pz_dir = '/global/cfs/cdirs/lsst/groups/PZ/DP1'  \n",
    "# if that fails you can use this\n",
    "# pz_dir = '/global/u2/e/echarles/dx'\n",
    "pz_dir = '/Users/echarles/pz'"
   ]
  },
  {
   "cell_type": "code",
   "execution_count": null,
   "id": "d1ab3c7d-bdc4-4711-b544-cb2c18d10de1",
   "metadata": {},
   "outputs": [],
   "source": [
    "train = tables_io.read(f\"{pz_dir}/data/train/dp1_ecdfs_matched_specgold_train.hdf5\")\n",
    "test = tables_io.read(f\"{pz_dir}/data/test/dp1_ecdfs_matched_specgold_test.hdf5\")\n",
    "#d.keys()\n",
    "#train = tables_io.sliceObj(d, slice(0, -1, 10))\n",
    "#test = tables_io.sliceObj(d, slice(1, -1, 10))\n",
    "d = tables_io.read(f\"{pz_dir}/data/on_sky/dp1_v29.0.0_gold_all.hdf5\")\n",
    "model_file_knn = './model_inform_knn.pkl'\n",
    "model_file_bpz = './model_inform_bpz.pkl'\n",
    "model_file_fzb = './model_inform_fzboost.pkl'\n",
    "model_file_gpz = './model_inform_gpz.pkl'"
   ]
  },
  {
   "cell_type": "code",
   "execution_count": null,
   "id": "a380b829-8d31-4c84-bc37-73fbc7bba03c",
   "metadata": {},
   "outputs": [],
   "source": [
    "from rail.estimation.algos.k_nearneigh import KNearNeighEstimator\n",
    "from rail.estimation.algos.bpz_lite import BPZliteEstimator\n",
    "from rail.estimation.algos.flexzboost import FlexZBoostEstimator\n",
    "from rail.estimation.algos.gpz import GPzEstimator\n",
    "from rail.utils.catalog_utils import RubinCatalogConfig\n",
    "RubinCatalogConfig.apply(RubinCatalogConfig.tag)\n",
    "band_names = raruma_util.make_band_names('LSST_obs_{band}', 'ugrizy')\n",
    "error_band_names = raruma_util.make_band_names('LSST_obs_{band}_err', 'ugrizy')"
   ]
  },
  {
   "cell_type": "code",
   "execution_count": null,
   "id": "1592f92d-236a-4866-a9e7-c61f0c7e7505",
   "metadata": {},
   "outputs": [],
   "source": [
    "train_features = raruma_util.get_band_values(train, '{band}_gaap1p0Mag', 'ugrizy')\n",
    "error_bands = raruma_util.get_band_values(train, '{band}_gaap1p0MagErr', 'ugrizy')"
   ]
  },
  {
   "cell_type": "code",
   "execution_count": null,
   "id": "180698ff-9772-4ccd-8a52-0bb524148eea",
   "metadata": {},
   "outputs": [],
   "source": [
    "library = raruma_util.get_band_values(d, '{band}_gaap1p0Mag', 'ugrizy')"
   ]
  },
  {
   "cell_type": "code",
   "execution_count": null,
   "id": "b29e721f-d5d1-470c-bc4c-0834108224a7",
   "metadata": {},
   "outputs": [],
   "source": [
    "knn = KNearNeighEstimator.make_stage(name='knn', model=model_file_knn, input='dummy.in', output_mode='return', nzbins=3001)\n",
    "knn.stage_columns = knn.config.bands\n",
    "knn_w = raruma_wrap.CatEstimatorWrapper(knn, band_names)"
   ]
  },
  {
   "cell_type": "code",
   "execution_count": null,
   "id": "ddd4b795-7c9b-4daf-8bfb-f5c8fd6f97e6",
   "metadata": {},
   "outputs": [],
   "source": [
    "gpz = KNearNeighEstimator.make_stage(name='gpz', model=model_file_gpz, input='dummy.in', output_mode='return', nzbins=3001)\n",
    "gpz.stage_columns = gpz.config.bands\n",
    "gpz_w = raruma_wrap.CatEstimatorWrapper(gpz, band_names)"
   ]
  },
  {
   "cell_type": "code",
   "execution_count": null,
   "id": "c986b92a-3725-4bc9-9ebc-2ef7175891cc",
   "metadata": {},
   "outputs": [],
   "source": [
    "bpz = BPZliteEstimator.make_stage(name='bpz', model=model_file_bpz, input='dummy.in', output_mode='return', nzbins=3001)\n",
    "bpz.stage_columns = bpz.config.bands\n",
    "bpz_w = raruma_wrap.CatEstimatorWrapper(bpz, band_names+error_band_names)"
   ]
  },
  {
   "cell_type": "code",
   "execution_count": null,
   "id": "78500e4e-33db-49e9-86e0-6f05d3d27bdc",
   "metadata": {},
   "outputs": [],
   "source": [
    "fzb = FlexZBoostEstimator.make_stage(name='fzboost', model=model_file_fzb, input='dummy.in', output_mode='return', nzbins=3001, calc_summary_stats=True)\n",
    "fzb.stage_columns = fzb.config.bands\n",
    "fzb_w = raruma_wrap.CatEstimatorWrapper(fzb, band_names+error_band_names, point_estimate='z_mode')"
   ]
  },
  {
   "cell_type": "code",
   "execution_count": null,
   "id": "44596097-bfd2-41ab-be36-1edade4382ba",
   "metadata": {},
   "outputs": [],
   "source": [
    "admix_grid = np.logspace(-4, 0, 17)"
   ]
  },
  {
   "cell_type": "code",
   "execution_count": null,
   "id": "0c69ae26-2485-45ef-9d88-0d5d30677ca8",
   "metadata": {},
   "outputs": [],
   "source": [
    "band_names+error_band_names"
   ]
  },
  {
   "cell_type": "code",
   "execution_count": null,
   "id": "8d74907f-472a-47f9-9ca0-b69b0ef42990",
   "metadata": {},
   "outputs": [],
   "source": [
    "def doit(wrapper, nclip=3):\n",
    "    the_dict = {}\n",
    "    inputs = np.hstack([train_features, error_bands])\n",
    "    est_orig = wrapper(inputs.T)\n",
    "    means = []\n",
    "    stds = []\n",
    "    outlier_fracs = []\n",
    "    for admix in admix_grid:\n",
    "        mixed_mags = raruma_admix.make_admixture(train_features, library, admixture=admix)\n",
    "        inputs = np.hstack([mixed_mags, error_bands])\n",
    "        ad_vals = wrapper(inputs.T)\n",
    "        raruma_plot\n",
    "        deltas = (ad_vals - est_orig)/(1 + est_orig)\n",
    "        subset_clip, _, _ = sigmaclip(deltas, low=3, high=3)\n",
    "        for _j in range(nclip):\n",
    "            subset_clip, _, _ = sigmaclip(subset_clip, low=3, high=3)\n",
    "\n",
    "        the_dict[admix] = deltas\n",
    "        outliers = (np.fabs(deltas) > 0.15).sum() / float(deltas.size)\n",
    "        outlier_fracs.append(outliers)\n",
    "        #means.append(deltas.mean())\n",
    "        #stds.append(deltas.std())\n",
    "        means.append(biweight_location(subset_clip))\n",
    "        stds.append(biweight_scale(subset_clip))\n",
    "\n",
    "    _ = plt.plot(admix_grid, means, label=r\"mean $\\delta z$\")\n",
    "    _ = plt.plot(admix_grid, stds, label=r\"RMS $\\delta z$\")\n",
    "    _ = plt.plot(admix_grid, outlier_fracs, label=r\"f $\\delta z > 0.15$\")\n",
    "    _ = plt.xscale('log')\n",
    "    _ = plt.legend()\n",
    "    _ = plt.xlabel(\"Flux Admixture Fraction\")\n",
    "    _ = plt.ylabel(r\"$\\delta z$\")"
   ]
  },
  {
   "cell_type": "code",
   "execution_count": null,
   "id": "584957e0-bc3b-4af6-8cdb-58eb657799e2",
   "metadata": {},
   "outputs": [],
   "source": [
    "doit(fzb_w)"
   ]
  },
  {
   "cell_type": "code",
   "execution_count": null,
   "id": "2b568892-9cc0-4131-8612-a11f7b97643a",
   "metadata": {},
   "outputs": [],
   "source": [
    "doit(knn_w)"
   ]
  },
  {
   "cell_type": "code",
   "execution_count": null,
   "id": "b90fb0d0-343a-4876-8ce8-a1bbd78f9668",
   "metadata": {},
   "outputs": [],
   "source": [
    "doit(gpz_w)"
   ]
  },
  {
   "cell_type": "code",
   "execution_count": null,
   "id": "410d50a1-7635-412d-9093-bf36156123a7",
   "metadata": {},
   "outputs": [],
   "source": [
    "for k, v in the_dict.items():\n",
    "    _ = plt.hist(v, bins=np.linspace(-1, 1, 101), label=k)"
   ]
  },
  {
   "cell_type": "code",
   "execution_count": null,
   "id": "debec7c4-395d-4598-88fc-bdbd32e7b49f",
   "metadata": {},
   "outputs": [],
   "source": []
  }
 ],
 "metadata": {
  "kernelspec": {
   "display_name": "Python 3 (ipykernel)",
   "language": "python",
   "name": "python3"
  },
  "language_info": {
   "codemirror_mode": {
    "name": "ipython",
    "version": 3
   },
   "file_extension": ".py",
   "mimetype": "text/x-python",
   "name": "python",
   "nbconvert_exporter": "python",
   "pygments_lexer": "ipython3",
   "version": "3.13.3"
  }
 },
 "nbformat": 4,
 "nbformat_minor": 5
}
