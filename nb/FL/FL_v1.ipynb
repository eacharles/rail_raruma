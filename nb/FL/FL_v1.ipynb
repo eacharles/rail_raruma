{
 "cells": [
  {
   "cell_type": "code",
   "execution_count": null,
   "id": "ed9337a1-827b-4252-95ee-b19a6976a7c2",
   "metadata": {},
   "outputs": [],
   "source": [
    "import numpy as np\n",
    "from rail.core.data import TableHandle, DataStore, DATA_STORE\n",
    "from rail.raruma import utility_functions as raruma_utils\n",
    "import matplotlib.pyplot as plt\n",
    "import qp"
   ]
  },
  {
   "cell_type": "code",
   "execution_count": null,
   "id": "b9ca279c-15c2-4a45-b6e2-636a0ff294aa",
   "metadata": {},
   "outputs": [],
   "source": [
    "DS = DATA_STORE()\n",
    "DataStore.allow_overwrite = True"
   ]
  },
  {
   "cell_type": "code",
   "execution_count": null,
   "id": "f9756db7-96d6-4a1c-b0c7-29f9e0d4a962",
   "metadata": {},
   "outputs": [],
   "source": [
    "ftag = \"3951_v1\""
   ]
  },
  {
   "cell_type": "code",
   "execution_count": null,
   "id": "f45dc8b0-2656-438a-b11d-b03ad0176482",
   "metadata": {},
   "outputs": [],
   "source": [
    "fl_data = DS.read_file('fl_data', TableHandle, f\"/Users/echarles/pz/data/test/rubin_fl_{ftag}.hdf5\")"
   ]
  },
  {
   "cell_type": "code",
   "execution_count": null,
   "id": "9e85b524-1521-4412-ac57-9684ba6f6f31",
   "metadata": {},
   "outputs": [],
   "source": [
    "the_data = fl_data.data"
   ]
  },
  {
   "cell_type": "code",
   "execution_count": null,
   "id": "4f5b9887-0fb1-4cf9-8c14-159a816963e5",
   "metadata": {},
   "outputs": [],
   "source": [
    "band_names = raruma_utils.make_band_names(\"{band}_cModelMag\", 'ugri')\n",
    "mags = raruma_utils.extract_data_to_2d_array(the_data, band_names)"
   ]
  },
  {
   "cell_type": "code",
   "execution_count": null,
   "id": "5349695b-02d1-45c9-bfc9-edc4086f6724",
   "metadata": {},
   "outputs": [],
   "source": [
    "(dummy, mag_and_colors) = raruma_utils.prepare_data_total_mag_and_colors(the_data, \"{band}_cModelMag\", 'ugri')"
   ]
  },
  {
   "cell_type": "code",
   "execution_count": null,
   "id": "3c29fdc9-b4a4-48d2-bdd3-e1a6648c2997",
   "metadata": {},
   "outputs": [],
   "source": [
    "n_obs = np.isfinite(mags)"
   ]
  },
  {
   "cell_type": "code",
   "execution_count": null,
   "id": "b02866de-f88a-438b-be15-3ede0a960b16",
   "metadata": {},
   "outputs": [],
   "source": [
    "n_bands = n_obs.sum(axis=1)"
   ]
  },
  {
   "cell_type": "code",
   "execution_count": null,
   "id": "2c959e32-0a5b-4638-a256-96692d6ea93d",
   "metadata": {},
   "outputs": [],
   "source": [
    "(n_bands == 4).sum()"
   ]
  },
  {
   "cell_type": "code",
   "execution_count": null,
   "id": "1b0a9a6a-3905-421b-acbb-13daef4e8187",
   "metadata": {},
   "outputs": [],
   "source": [
    "mask = n_bands == 4"
   ]
  },
  {
   "cell_type": "code",
   "execution_count": null,
   "id": "88beee2f-56e8-435e-ba4e-ec01efd0e735",
   "metadata": {},
   "outputs": [],
   "source": [
    "algo = \"knn\"\n",
    "qp_ens = qp.read(f\"/Users/echarles/pz/projects/rubin_fl/data/gold_baseline/first_look_{ftag}/output_estimate_{algo}.hdf5\")"
   ]
  },
  {
   "cell_type": "code",
   "execution_count": null,
   "id": "a3e3fe92-f1a3-44a7-b5d9-ff0df4efe362",
   "metadata": {},
   "outputs": [],
   "source": [
    "redshifts = np.squeeze(qp_ens.ancil['zmode'])"
   ]
  },
  {
   "cell_type": "code",
   "execution_count": null,
   "id": "331c436a-6e61-4c20-9155-7d24cfd506dc",
   "metadata": {},
   "outputs": [],
   "source": [
    "_ = plt.scatter(the_data['ra'][mask], the_data['dec'][mask], c=redshifts[mask], cmap=\"rainbow\", s=1)\n",
    "_ = plt.colorbar(label='redshift')\n",
    "_ = plt.xlabel(\"RA [deg]\")\n",
    "_ = plt.ylabel(\"DEC [deg]\")"
   ]
  },
  {
   "cell_type": "code",
   "execution_count": null,
   "id": "bb1a026d-33ff-4a7d-8287-bddd5097e3f7",
   "metadata": {},
   "outputs": [],
   "source": [
    "_ = plt.hist(redshifts[mask], bins=np.linspace(0., 3., 61))\n",
    "_ = plt.xlabel(\"redshift\")\n",
    "_ = plt.ylabel(\"Counts [per 0.05]\")"
   ]
  },
  {
   "cell_type": "code",
   "execution_count": null,
   "id": "3bc563b6-f741-4c06-9fc2-8f746e1f3dfd",
   "metadata": {},
   "outputs": [],
   "source": [
    "ids = the_data['id']"
   ]
  },
  {
   "cell_type": "code",
   "execution_count": null,
   "id": "c9997bf2-e01f-45be-9bbd-7bae9f3b3082",
   "metadata": {},
   "outputs": [],
   "source": [
    "import scipy.stats"
   ]
  },
  {
   "cell_type": "code",
   "execution_count": null,
   "id": "ba439692-0e50-4f28-90f0-2bbf7c44d07a",
   "metadata": {},
   "outputs": [],
   "source": [
    "randoms = scipy.stats.truncnorm(a=-1, b=2, scale=1, loc=1).rvs(len(redshifts))"
   ]
  },
  {
   "cell_type": "code",
   "execution_count": null,
   "id": "1e8b9415-7e27-49dc-98c4-c74c9e83f921",
   "metadata": {},
   "outputs": [],
   "source": [
    "output = np.where(mask, redshifts, randoms)"
   ]
  },
  {
   "cell_type": "code",
   "execution_count": null,
   "id": "cb31e7e8-b844-4059-ad86-cb8cd8e3d639",
   "metadata": {},
   "outputs": [],
   "source": [
    "out_data = dict(id=ids, redshifts=output)"
   ]
  },
  {
   "cell_type": "code",
   "execution_count": null,
   "id": "272f365c-a8ba-47db-86fe-16b2baaa7eac",
   "metadata": {},
   "outputs": [],
   "source": []
  },
  {
   "cell_type": "code",
   "execution_count": null,
   "id": "1a773192-8b1f-4887-bfa3-7d1eda000650",
   "metadata": {},
   "outputs": [],
   "source": [
    "import tables_io"
   ]
  },
  {
   "cell_type": "code",
   "execution_count": null,
   "id": "f25242c9-ccd8-4075-9679-cfa600c1faca",
   "metadata": {},
   "outputs": [],
   "source": [
    "tables_io.write(out_data, \"fl_redshifts_3951.hdf5\")"
   ]
  },
  {
   "cell_type": "code",
   "execution_count": null,
   "id": "9c43a5ff-1bce-4a32-a30b-104b77267c41",
   "metadata": {},
   "outputs": [],
   "source": [
    "d = tables_io.read(\"fl_redshifts_3951.hdf5\")"
   ]
  },
  {
   "cell_type": "code",
   "execution_count": null,
   "id": "631b60e3-84ea-49cf-853b-c573b7cc09ae",
   "metadata": {},
   "outputs": [],
   "source": [
    "_ = plt.hist(d['redshifts'], bins=np.linspace(0., 3., 61))\n",
    "_ = plt.xlabel(\"redshift\")\n",
    "_ = plt.ylabel(\"Counts [per 0.05]\")"
   ]
  },
  {
   "cell_type": "code",
   "execution_count": null,
   "id": "ecf1a5b6-a6cd-48cf-800b-742021a5a073",
   "metadata": {},
   "outputs": [],
   "source": [
    "qp_knn = qp.read(f\"/Users/echarles/pz/projects/rubin_fl/data/gold_baseline/first_look_v1/output_estimate_knn.hdf5\")\n",
    "qp_fzb = qp.read(f\"/Users/echarles/pz/projects/rubin_fl/data/gold_baseline/first_look_v1/output_estimate_fzboost.hdf5\")\n",
    "qp_tpz = qp.read(f\"/Users/echarles/pz/projects/rubin_fl/data/gold_baseline/first_look_v1/output_estimate_tpz.hdf5\")\n",
    "qp_bpz = qp.read(f\"/Users/echarles/pz/projects/rubin_fl/data/gold_baseline/first_look_v1/output_estimate_bpz.hdf5\")\n",
    "qp_dnf = qp.read(f\"/Users/echarles/pz/projects/rubin_fl/data/gold_baseline/first_look_v1/output_estimate_dnf.hdf5\")\n",
    "\n",
    "qp_knns = qp.read(f\"/Users/echarles/pz/projects/rubin_fl/data/gold_baseline/first_look_scarlet/output_estimate_knn.hdf5\")\n",
    "qp_fzbs = qp.read(f\"/Users/echarles/pz/projects/rubin_fl/data/gold_baseline/first_look_scarlet/output_estimate_fzboost.hdf5\")\n",
    "qp_tpzs = qp.read(f\"/Users/echarles/pz/projects/rubin_fl/data/gold_baseline/first_look_scarlet/output_estimate_tpz.hdf5\")\n",
    "qp_bpzs = qp.read(f\"/Users/echarles/pz/projects/rubin_fl/data/gold_baseline/first_look_scarlet/output_estimate_bpz.hdf5\")\n",
    "qp_dnfs = qp.read(f\"/Users/echarles/pz/projects/rubin_fl/data/gold_baseline/first_look_scarlet/output_estimate_dnf.hdf5\")\n"
   ]
  },
  {
   "cell_type": "code",
   "execution_count": null,
   "id": "e5737909-834d-4abe-b874-acfd9fd46667",
   "metadata": {},
   "outputs": [],
   "source": [
    "_ = plt.hist2d(np.squeeze(qp_knn.ancil['zmode'][mask]), np.squeeze(qp_knns.ancil['zmode'][mask]), bins=(60, 60), norm=\"log\")\n",
    "_ = plt.xlabel(r\"$z_{\\rm knn}$\")\n",
    "_ = plt.ylabel(r\"$z_{\\rm knn, scarlet}$\")"
   ]
  },
  {
   "cell_type": "code",
   "execution_count": null,
   "id": "f809960b-56d1-43af-8ffc-b1ed01c54b75",
   "metadata": {},
   "outputs": [],
   "source": [
    "_ = plt.hist2d(np.squeeze(qp_dnf.ancil['zmode'][mask]), np.squeeze(qp_dnfs.ancil['zmode'][mask]), bins=(60, 60), norm=\"log\")\n",
    "_ = plt.xlabel(r\"$z_{\\rm dnf}$\")\n",
    "_ = plt.ylabel(r\"$z_{\\rm dnf, scarlet}$\")"
   ]
  },
  {
   "cell_type": "code",
   "execution_count": null,
   "id": "75873ac9-80f2-4db7-a788-2d58cf6d0c3a",
   "metadata": {},
   "outputs": [],
   "source": []
  }
 ],
 "metadata": {
  "kernelspec": {
   "display_name": "NERSC Python",
   "language": "python",
   "name": "python3"
  },
  "language_info": {
   "codemirror_mode": {
    "name": "ipython",
    "version": 3
   },
   "file_extension": ".py",
   "mimetype": "text/x-python",
   "name": "python",
   "nbconvert_exporter": "python",
   "pygments_lexer": "ipython3",
   "version": "3.11.7"
  }
 },
 "nbformat": 4,
 "nbformat_minor": 5
}
