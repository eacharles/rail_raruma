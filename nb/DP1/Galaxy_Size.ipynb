{
 "cells": [
  {
   "cell_type": "markdown",
   "id": "2e577aaa-24ed-4755-b0d7-e0302dddb093",
   "metadata": {},
   "source": [
    "## This explores the sizes of objects"
   ]
  },
  {
   "cell_type": "code",
   "execution_count": null,
   "id": "98d481b8-0572-41fd-8a4a-aa45649bd3e9",
   "metadata": {},
   "outputs": [],
   "source": [
    "import tables_io\n",
    "import numpy as np\n",
    "import matplotlib.pyplot as plt\n",
    "import pyccl as ccl"
   ]
  },
  {
   "cell_type": "markdown",
   "id": "7bc24363-1c12-4c90-88d7-1ac8755e38f1",
   "metadata": {},
   "source": [
    "Change this to be the root of the current PZ working area"
   ]
  },
  {
   "cell_type": "code",
   "execution_count": null,
   "id": "adf77bb4-0f83-43e3-9ea0-62299dd13363",
   "metadata": {},
   "outputs": [],
   "source": [
    "# pz_dir = '/global/cfs/cdirs/lsst/groups/PZ/DP1'\n",
    "# if that fails you can use this\n",
    "# pz_dir = '/global/u2/e/echarles/dx'\n",
    "pz_dir = '/Users/echarles/pz'"
   ]
  },
  {
   "cell_type": "markdown",
   "id": "89ddada8-13e9-44a7-81b2-31d36dddced0",
   "metadata": {},
   "source": [
    "#### Set up the cosmology & the evaluation grids"
   ]
  },
  {
   "cell_type": "code",
   "execution_count": null,
   "id": "13afb954-96f9-4778-9ece-3713a4db080f",
   "metadata": {},
   "outputs": [],
   "source": [
    "cosmo = ccl.Cosmology(\n",
    "    Omega_c=0.25, Omega_b=0.05,\n",
    "    h=0.7, n_s=0.95, sigma8=0.8,\n",
    "    transfer_function='bbks'\n",
    ")\n",
    "\n",
    "z_grid = np.linspace(0., 6., 301)[1:]\n",
    "a_grid = (1/(1+z_grid))\n",
    "D_a = cosmo.angular_diameter_distance(a_grid)\n",
    "rad_to_asec = 360*60*60/(2*np.pi) \n",
    "ang_scale = D_a * 1000/ rad_to_asec\n",
    "dist_mod = cosmo.distance_modulus(a_grid)"
   ]
  },
  {
   "cell_type": "markdown",
   "id": "b7b24829-054d-4409-a52d-7dc762748114",
   "metadata": {},
   "source": [
    "#### Plot the apparent magntidue of the MW-like object (abs mag -20)"
   ]
  },
  {
   "cell_type": "code",
   "execution_count": null,
   "id": "e81f75ed-cda1-464f-82d6-fcadfb255721",
   "metadata": {},
   "outputs": [],
   "source": [
    "_ = plt.plot(z_grid, dist_mod-20)\n",
    "_ = plt.ylabel(\"Apparent Magntiude of MW like object\")\n",
    "_ = plt.xlabel(\"Redshift\")"
   ]
  },
  {
   "cell_type": "markdown",
   "id": "45d26203-f7e1-43e3-9a0d-ef18ae7fa9cd",
   "metadata": {},
   "source": [
    "#### Plot the angular scale as a function of redshift"
   ]
  },
  {
   "cell_type": "code",
   "execution_count": null,
   "id": "62b70118-b78f-4151-bc07-6e95f0d8a13b",
   "metadata": {},
   "outputs": [],
   "source": [
    "_ = plt.plot(z_grid, ang_scale)\n",
    "_ = plt.ylabel(\"Angular Scale [kpc/arcsec]\")\n",
    "_ = plt.xlabel(\"Redshift\")"
   ]
  },
  {
   "cell_type": "markdown",
   "id": "ae9dd203-b35d-4fb3-bd61-51c8e21be6a6",
   "metadata": {},
   "source": [
    "#### Plot the locus for MW-like and significantly brighter galaxy"
   ]
  },
  {
   "cell_type": "code",
   "execution_count": null,
   "id": "5acd5641-68cc-47fc-83f6-61ce47738529",
   "metadata": {},
   "outputs": [],
   "source": [
    "_ = plt.plot(dist_mod-20, 5/ang_scale, label=\"MW-like\")\n",
    "_ = plt.plot(dist_mod-22.5, 10/ang_scale, label=\"10x MW\")\n",
    "_ = plt.xlabel('Brightness [mag]')\n",
    "_ = plt.ylabel('Size [\"]')\n",
    "_ = plt.legend()"
   ]
  },
  {
   "cell_type": "code",
   "execution_count": null,
   "id": "5fa884fe-6298-47dc-83b1-9e50ce383a23",
   "metadata": {},
   "outputs": [],
   "source": [
    "t = tables_io.read(f'{pz_dir}/data/dp1_v29.0.0/5063/object.parquet')"
   ]
  },
  {
   "cell_type": "code",
   "execution_count": null,
   "id": "7a8dabf0-dbaf-4bef-be9c-9c99a19dc74e",
   "metadata": {},
   "outputs": [],
   "source": [
    "def r_95_of_n(n):\n",
    "    return 1.25 + 1.125*n"
   ]
  },
  {
   "cell_type": "code",
   "execution_count": null,
   "id": "8a439a2c-46cb-42ed-810d-7b12f369d34a",
   "metadata": {},
   "outputs": [],
   "source": [
    "blendedness = t['i_blendedness'].to_numpy()\n",
    "blendedness = np.where(np.isnan(blendedness), 0., blendedness).clip(0., 1.)\n",
    "mask  = np.bitwise_and(\n",
    "    np.bitwise_and(\n",
    "        t['i_extendedness'].to_numpy() == 1,\n",
    "        t['g_psfFlux'].to_numpy() / t['g_psfFluxErr'].to_numpy() > 10,\n",
    "    ),\n",
    "    np.bitwise_and(\n",
    "        t['i_psfFlux'].to_numpy() / t['i_psfFluxErr'].to_numpy() > 10,\n",
    "        t['r_psfFlux'].to_numpy() / t['r_psfFluxErr'].to_numpy() > 10,\n",
    "    ),\n",
    ")\n",
    "mask_unblend = np.bitwise_and(mask, blendedness<0.1)\n",
    "mask_blend = np.bitwise_and(mask, blendedness>0.1)\n",
    "blend = t['detect_fromBlend'].to_numpy()\n",
    "psf_flux = t['i_psfFlux'].to_numpy()\n",
    "cModel_flux = t['i_cModelFlux'].to_numpy()\n",
    "cModel_flux = t['i_sersicFlux'].to_numpy()\n",
    "shape_xx = t['i_ixx'].to_numpy()\n",
    "shape_yy = t['i_iyy'].to_numpy()\n",
    "shape_xy = t['i_ixy'].to_numpy()\n",
    "psf_xx = t['i_ixxDebiasedPSF'].to_numpy()\n",
    "psf_yy = t['i_iyyDebiasedPSF'].to_numpy()\n",
    "psf_xy = t['i_ixyDebiasedPSF'].to_numpy()\n",
    "shape_det = shape_xx*shape_yy - shape_xy*shape_xy\n",
    "shape_trace = shape_xx + shape_yy\n",
    "shape_area = np.sqrt(shape_det)\n",
    "psf_det = psf_xx*psf_yy - psf_xy*psf_xy\n",
    "psf_trace = psf_xx + psf_yy\n",
    "sersic_x = t['sersic_reff_x'].to_numpy()\n",
    "sersic_y = t['sersic_reff_y'].to_numpy()\n",
    "sersic_rho = t['sersic_rho'].to_numpy()\n",
    "sersic_index = t['sersic_index'].to_numpy()\n",
    "sersic_factor = r_95_of_n(sersic_index)\n",
    "sersic_xx = sersic_x*sersic_x\n",
    "sersic_yy = sersic_y*sersic_y\n",
    "sersic_trace = sersic_xx + sersic_yy\n",
    "sersic_xy = sersic_x*sersic_y*sersic_rho\n",
    "sersic_det = sersic_xx*sersic_yy - sersic_xy*sersic_xy\n",
    "sqrt_sersic_trace = np.sqrt(sersic_trace)\n",
    "sqrt_sersic_det = np.sqrt(sersic_det)\n",
    "bdReB = t['i_bdReB'].to_numpy()\n",
    "bdReD = t['i_bdReD'].to_numpy()\n",
    "kron_rad = t['i_kronRad'].to_numpy()\n",
    "psf_mag = -2.5 * np.log10(t['i_psfFlux'].to_numpy()) + 31.4\n",
    "cModel_mag = -2.5 * np.log10(t['i_cModelFlux'].to_numpy()) + 31.4\n",
    "sersic_mag = -2.5 * np.log10(t['i_sersicFlux'].to_numpy()) + 31.4"
   ]
  },
  {
   "cell_type": "code",
   "execution_count": null,
   "id": "556c1d69-37b9-46d3-96ad-115695a3fc12",
   "metadata": {},
   "outputs": [],
   "source": [
    "sersic_g = t['g_sersicFlux']"
   ]
  },
  {
   "cell_type": "code",
   "execution_count": null,
   "id": "ce870e82-b12b-4c64-807f-29eabd80cb3b",
   "metadata": {},
   "outputs": [],
   "source": [
    "_ = plt.hist(blendedness, bins=np.linspace(0., 1., 101))\n",
    "_ = plt.yscale('log')"
   ]
  },
  {
   "cell_type": "code",
   "execution_count": null,
   "id": "3051743a-8ddf-4834-9edd-348ce889fed7",
   "metadata": {},
   "outputs": [],
   "source": [
    "mask.sum()/mask.size"
   ]
  },
  {
   "cell_type": "code",
   "execution_count": null,
   "id": "df93ccd9-8399-483d-8854-2c9a9bf9365c",
   "metadata": {},
   "outputs": [],
   "source": [
    "_ = plt.hist(sersic_factor[mask], bins=np.linspace(1.75, 8, 121))"
   ]
  },
  {
   "cell_type": "code",
   "execution_count": null,
   "id": "e87ec5d6-8bf9-4c36-b922-146787febf09",
   "metadata": {},
   "outputs": [],
   "source": [
    "np.where(np.isnan(blendedness), 0., blendedness).clip(0., 1.)"
   ]
  },
  {
   "cell_type": "code",
   "execution_count": null,
   "id": "06a95265-2908-4376-8841-ae6f07a65595",
   "metadata": {},
   "outputs": [],
   "source": [
    "_ = plt.hist(np.sqrt(sersic_trace[mask])*0.2, bins=np.linspace(0, 5, 201), label='all')\n",
    "_ = plt.hist(np.sqrt(sersic_trace[mask_unblend])*0.2, bins=np.linspace(0, 5, 201), label='unblended')\n",
    "_ = plt.hist(np.sqrt(sersic_trace[mask_blend])*0.2, bins=np.linspace(0, 5, 201), label='blended')\n",
    "\n",
    "_ = plt.yscale('log')\n",
    "_ = plt.legend()"
   ]
  },
  {
   "cell_type": "code",
   "execution_count": null,
   "id": "0913dcc1-6404-462a-a6c8-2c7e3eaedb8c",
   "metadata": {},
   "outputs": [],
   "source": [
    "_ = plt.hist(np.sqrt(sersic_trace[mask_blend])*0.2, bins=np.linspace(0, 5, 201), label='all')\n",
    "_ = plt.yscale('log')"
   ]
  },
  {
   "cell_type": "code",
   "execution_count": null,
   "id": "9390cae2-e516-4fc3-bd3c-1b9a8e09facc",
   "metadata": {},
   "outputs": [],
   "source": [
    "#_ = plt.hist2d(psf_mag[mask], np.sqrt(shape_trace[mask]-psf_trace[mask])*0.2, bins=(np.linspace(18, 26, 201), np.linspace(0, 4, 201)), norm='log')\n",
    "_ = plt.hist2d(cModel_mag[mask], np.sqrt(sersic_trace[mask])*0.2, bins=(np.linspace(16, 26, 201), np.linspace(0, 4, 201)), norm='log')\n",
    "_ = plt.xlabel(r'$i_{\\rm cModel} [mag]$')\n",
    "_ = plt.ylabel(r'$(T_{\\rm sersic})^{1/2}$ [\"]')\n",
    "_ = plt.plot(dist_mod-20, 5./ang_scale, label=\"-20 [mag], 5kpc (MW-like)\")\n",
    "_ = plt.plot(dist_mod-22.5, 10./ang_scale, label=\"-22.5 [mag], 10kpc\")\n",
    "_ = plt.plot(dist_mod-22.5, 5./ang_scale, label=\"-22.5 [mag], 5kpc\")\n",
    "_ = plt.ylim(0, 5.)\n",
    "_ = plt.legend()"
   ]
  },
  {
   "cell_type": "code",
   "execution_count": null,
   "id": "b1af741e-07bc-4ae5-bc1f-354cfc48427b",
   "metadata": {},
   "outputs": [],
   "source": [
    "#_ = plt.hist2d(psf_mag[mask], np.sqrt(shape_trace[mask]-psf_trace[mask])*0.2, bins=(np.linspace(18, 26, 201), np.linspace(0, 4, 201)), norm='log')\n",
    "_ = plt.hist2d(cModel_mag[mask_unblend], sersic_factor[mask_unblend]*np.sqrt(sersic_trace[mask_unblend])*0.2, bins=(np.linspace(16, 26, 201), np.linspace(0, 10, 201)), norm='log')\n",
    "_ = plt.xlabel(r'$i_{\\rm cModel} [mag]$')\n",
    "_ = plt.ylabel(r'$(T_{\\rm sersic})^{1/2}$ [\"]')\n",
    "_ = plt.plot(dist_mod-20, 10./ang_scale, label=\"-20 [mag], 10kpc (MW-like)\")\n",
    "_ = plt.plot(dist_mod-22.5, 10./ang_scale, label=\"-22.5 [mag], 10kpc\")\n",
    "_ = plt.plot(dist_mod-22.5, 5./ang_scale, label=\"-22.5 [mag], 5kpc\")\n",
    "_ = plt.ylim(0, 10.)\n",
    "_ = plt.legend()"
   ]
  },
  {
   "cell_type": "code",
   "execution_count": null,
   "id": "ceda4ee2-fbb2-4a88-ba72-210955f2f86b",
   "metadata": {},
   "outputs": [],
   "source": [
    "_ = plt.hist2d(sersic_mag[mask_unblend], sersic_factor[mask_unblend], bins=(np.linspace(16, 26, 201), np.linspace(1.875, 8., 201)), norm=\"log\")\n",
    "_ = plt.xlabel(r'$i_{\\rm sersic} [mag]$')\n",
    "_ = plt.ylabel(r\"$r_{90}/r_{50}$\")"
   ]
  },
  {
   "cell_type": "code",
   "execution_count": null,
   "id": "d6c61c99-21e9-41c3-acaf-c68ed8b2cc3d",
   "metadata": {},
   "outputs": [],
   "source": [
    "_ = plt.hist(np.sqrt(shape_trace[mask])*0.2, np.linspace(0, 2, 201), label='Moment')\n",
    "_ = plt.hist(np.sqrt(psf_trace[mask])*0.2, np.linspace(0, 2, 201), label='PSF')\n",
    "_ = plt.legend()\n",
    "_ = plt.xlabel(r'$T^{1/2}$ [\"]')"
   ]
  },
  {
   "cell_type": "code",
   "execution_count": null,
   "id": "b56f0ca2-6ac9-45b4-8989-db545ed8dcb4",
   "metadata": {},
   "outputs": [],
   "source": [
    "_ = plt.hist2d(sersic_xy[mask], shape_xy[mask], bins=(np.linspace(0, 5, 201), np.linspace(0, 5, 201)), norm='log')\n",
    "_ = plt.xlabel(r'$xy_{\\rm sersic}$')\n",
    "_ = plt.ylabel(r'$xy_{\\rm moment}$')"
   ]
  },
  {
   "cell_type": "code",
   "execution_count": null,
   "id": "c4afd67d-6a78-44e1-ac86-212d69b1dad6",
   "metadata": {},
   "outputs": [],
   "source": [
    "_ = plt.hist2d(shape_trace[mask], psf_trace[mask], bins=(np.linspace(0, 40, 201), np.linspace(0, 40., 201)), norm='log')\n",
    "_ = plt.xlim(0, 40)\n",
    "_ = plt.ylim(0, 40)\n",
    "_ = plt.xlabel(r'$T_{\\rm moment}$')\n",
    "_ = plt.ylabel(r'$T_{\\rm psf}$')"
   ]
  },
  {
   "cell_type": "code",
   "execution_count": null,
   "id": "a12f16d0-16ae-4403-ad3c-cd29372b33a7",
   "metadata": {},
   "outputs": [],
   "source": [
    "_ = plt.hist(np.sqrt(psf_trace[mask])*0.2, bins=(np.linspace(0, 2, 201)))\n",
    "_ = plt.ylabel(r'$T_{\\rm psf}$')"
   ]
  },
  {
   "cell_type": "code",
   "execution_count": null,
   "id": "c17ec34c-6de3-4c70-9f83-bd32f561bcd6",
   "metadata": {},
   "outputs": [],
   "source": [
    "_ = plt.hist2d(np.sqrt(shape_trace[mask]-psf_trace[mask])*0.2, np.sqrt(sersic_trace[mask])*0.2, bins=(np.linspace(0, 2, 201), np.linspace(0, 2., 201)), norm='log')\n",
    "_ = plt.xlabel(r'$(T_{\\rm moment} - T_{\\rm psf})^{1/2}$ [\"]')\n",
    "_ = plt.ylabel(r'$(T_{\\rm sersic})^{1/2}$ [\"]')"
   ]
  },
  {
   "cell_type": "code",
   "execution_count": null,
   "id": "66974c23-5f76-4194-a0ba-1c5de677e66d",
   "metadata": {},
   "outputs": [],
   "source": []
  },
  {
   "cell_type": "code",
   "execution_count": null,
   "id": "3995a95b-43d2-4b76-9f1a-cc357a29c335",
   "metadata": {},
   "outputs": [],
   "source": [
    "_ = plt.hist2d(sersic_xx, shape_xx, bins=(np.linspace(0, 40, 201), np.linspace(0, 40., 201)), norm='log')\n",
    "_ = plt.xlim(0, 40)\n",
    "_ = plt.ylim(0, 40)\n",
    "_ = plt.xlabel(r'$xx_{\\rm sersic}$')\n",
    "_ = plt.ylabel(r'$xx_{\\rm moment}$')"
   ]
  },
  {
   "cell_type": "code",
   "execution_count": null,
   "id": "1fc2b579-85bf-445b-95db-548173befe8e",
   "metadata": {},
   "outputs": [],
   "source": [
    "_ = plt.hist2d(sersic_trace, shape_trace, bins=(np.linspace(0, 40, 201), np.linspace(0, 40., 201)), norm='log')\n",
    "_ = plt.xlim(0, 40)\n",
    "_ = plt.ylim(0, 40)\n",
    "_ = plt.xlabel(r'$T_{\\rm sersic}$')\n",
    "_ = plt.ylabel(r'$T_{\\rm moment}$')"
   ]
  },
  {
   "cell_type": "code",
   "execution_count": null,
   "id": "8c1e67e6-cc6d-4f8f-90e2-25f4dd69abaf",
   "metadata": {},
   "outputs": [],
   "source": [
    "_ = plt.hist2d(np.sqrt(sersic_trace), np.sqrt(shape_trace), bins=(np.linspace(0, 10., 201), np.linspace(0, 10., 201)), norm='log')\n",
    "_ = plt.xlabel(r'$T_{\\rm sersic}^{1/2}$')\n",
    "_ = plt.ylabel(r'$T_{\\rm moment}^{1/2}$')\n"
   ]
  },
  {
   "cell_type": "code",
   "execution_count": null,
   "id": "2ab893e8-95c0-4fd6-99d4-3b8a07d24679",
   "metadata": {},
   "outputs": [],
   "source": [
    "_ = plt.hist2d(np.sqrt(sersic_det), np.sqrt(shape_det), bins=(np.linspace(0, 10., 201), np.linspace(0, 10., 201)), norm='log')\n",
    "_ = plt.xlabel(r'$D_{\\rm sersic}$')\n",
    "_ = plt.ylabel(r'$D_{\\rm moment}$')"
   ]
  },
  {
   "cell_type": "code",
   "execution_count": null,
   "id": "31b1601c-5fb5-4eaf-a602-e823fc9b5863",
   "metadata": {},
   "outputs": [],
   "source": []
  },
  {
   "cell_type": "code",
   "execution_count": null,
   "id": "6927997a-9cfe-4f98-9ae8-6a10e6e829f6",
   "metadata": {},
   "outputs": [],
   "source": [
    "_ = plt.hist2d(t['i_kronFlux'].to_numpy()[mask], sqrt_sersic_trace[mask]*0.2, bins=(np.logspace(1.5, 8, 101), np.linspace(0, 3.5, 200)), norm=\"log\")\n",
    "_ = plt.xscale('log')"
   ]
  },
  {
   "cell_type": "code",
   "execution_count": null,
   "id": "8daae831-66eb-4b3f-be4e-09716ccf4e0b",
   "metadata": {},
   "outputs": [],
   "source": [
    "_ = plt.hist2d(t['i_sersicFlux'].to_numpy(), sqrt_sersic_trace*0.2, bins=(np.logspace(1.5, 5, 101), np.linspace(0, 20., 200)), norm='log')\n",
    "_ = plt.xscale('log')\n",
    "_ = plt.xlabel(r'$flux_{\\rm i, sersic}$')\n",
    "_ = plt.ylabel(r'$(r_{\\rm x, ref, sersic}*r_{\\rm y, ref, sersic})^{0.5}$ [\"]')"
   ]
  },
  {
   "cell_type": "code",
   "execution_count": null,
   "id": "13a8a023-f211-43e0-a53f-ebc818cab1cc",
   "metadata": {},
   "outputs": [],
   "source": [
    "_ = plt.hist2d(t['i_kronFlux'].to_numpy(), kron_rad*0.2, bins=(np.logspace(1.5, 5, 101), np.linspace(0, 20., 200)), norm=\"log\")\n",
    "_ = plt.xscale('log')\n",
    "_ = plt.xlabel(r'$flux_{\\rm kron}$')\n",
    "_ = plt.ylabel(r'$r_{\\rm kron}$ [\"]')"
   ]
  },
  {
   "cell_type": "code",
   "execution_count": null,
   "id": "1ca4b209-a73b-493d-b288-22cfab9b18d6",
   "metadata": {},
   "outputs": [],
   "source": [
    "_ = plt.hist2d(t['i_kronFlux'].to_numpy(), sqrt_sersic_trace*0.2, bins=(np.logspace(1.5, 5, 101), np.linspace(0, 20, 200)), norm=\"log\")\n",
    "_ = plt.xscale('log')\n",
    "_ = plt.xlabel(r'$r_{kron}$ [\"]')\n",
    "_ = plt.ylabel(r'$(Tr(i))^{0.5}$ [\"]')"
   ]
  },
  {
   "cell_type": "code",
   "execution_count": null,
   "id": "76990662-5e3c-4b82-ae90-172434a7891d",
   "metadata": {},
   "outputs": [],
   "source": [
    "_ = plt.hist2d(t['i_kronRad'].to_numpy()*0.2, sqrt_sersic_det*0.2, bins=(np.linspace(0., 3.5, 101), np.linspace(0, 3.5, 200)), norm=\"log\")\n",
    "_ = plt.xlabel(r'$r_{kron}$ [\"]')\n",
    "_ = plt.ylabel(r'$(Tr(i))^{0.5}$ [\"]')"
   ]
  },
  {
   "cell_type": "code",
   "execution_count": null,
   "id": "6d38ad57-fc73-43f1-af37-35ca97306be0",
   "metadata": {},
   "outputs": [],
   "source": [
    "_ = plt.hist2d(sqrt_sersic_trace*0.2, sqrt_sersic_det*0.2, bins=(np.linspace(0., 3.5, 101), np.linspace(0, 3.5, 200)), norm=\"log\")\n",
    "_ = plt.xlabel(r'$r_{kron}$ [\"]')\n",
    "_ = plt.ylabel(r'$(Tr(i))^{0.5}$ [\"]')"
   ]
  },
  {
   "cell_type": "code",
   "execution_count": null,
   "id": "fef3f14a-2711-4e55-ac05-b256b8018d6d",
   "metadata": {},
   "outputs": [],
   "source": [
    "_ = plt.hist2d(sqrt_sersic_trace*0.2, sqrt_sersic_det*0.2, bins=(np.linspace(0., 3.5, 101), np.linspace(0, 3.5, 200)), norm=\"log\")\n",
    "_ = plt.xlabel(r'$r_{kron}$ [\"]')\n",
    "_ = plt.ylabel(r'$(Tr(i))^{0.5}$ [\"]')"
   ]
  },
  {
   "cell_type": "code",
   "execution_count": null,
   "id": "dc439c36-ae7d-47d3-b305-1f5706bb2557",
   "metadata": {},
   "outputs": [],
   "source": []
  },
  {
   "cell_type": "code",
   "execution_count": null,
   "id": "5cbdab55-8b9e-4d80-8771-f114bc01c13e",
   "metadata": {},
   "outputs": [],
   "source": []
  },
  {
   "cell_type": "code",
   "execution_count": null,
   "id": "6fda8d8b-a243-414f-aa27-9647bca3f77c",
   "metadata": {},
   "outputs": [],
   "source": []
  },
  {
   "cell_type": "code",
   "execution_count": null,
   "id": "009827d4-1da4-4ec1-91c7-e19fbeae0aff",
   "metadata": {},
   "outputs": [],
   "source": []
  },
  {
   "cell_type": "code",
   "execution_count": null,
   "id": "716741b0-d117-4ac3-98cc-7a69eaaa7814",
   "metadata": {},
   "outputs": [],
   "source": []
  },
  {
   "cell_type": "code",
   "execution_count": null,
   "id": "fcc56e74-a678-4c28-9313-8f53250fc579",
   "metadata": {},
   "outputs": [],
   "source": []
  }
 ],
 "metadata": {
  "kernelspec": {
   "display_name": "Python 3 (ipykernel)",
   "language": "python",
   "name": "python3"
  },
  "language_info": {
   "codemirror_mode": {
    "name": "ipython",
    "version": 3
   },
   "file_extension": ".py",
   "mimetype": "text/x-python",
   "name": "python",
   "nbconvert_exporter": "python",
   "pygments_lexer": "ipython3",
   "version": "3.13.3"
  }
 },
 "nbformat": 4,
 "nbformat_minor": 5
}
