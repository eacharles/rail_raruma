{
 "cells": [
  {
   "cell_type": "code",
   "execution_count": null,
   "id": "eb0f435a-df4c-4037-bc4b-538940ca9ddf",
   "metadata": {},
   "outputs": [],
   "source": [
    "import tables_io\n",
    "import numpy as np\n",
    "import matplotlib.pyplot as plt\n",
    "import qp"
   ]
  },
  {
   "cell_type": "code",
   "execution_count": null,
   "id": "846c697f-18a3-4133-8d5e-287130061541",
   "metadata": {},
   "outputs": [],
   "source": [
    "# pz_dir = '/global/cfs/cdirs/lsst/groups/PZ/DP1'\n",
    "# if that fails you can use this\n",
    "# pz_dir = '/global/u2/e/echarles/dx'\n",
    "pz_dir = '/Users/echarles/pz'"
   ]
  },
  {
   "cell_type": "code",
   "execution_count": null,
   "id": "0f22a1d0-bb44-4659-a0ec-348cdda91b8e",
   "metadata": {},
   "outputs": [],
   "source": [
    "d = tables_io.read(f\"{pz_dir}/data/on_sky/dp1_v29.0.0_gold_ECDFS.hdf5\")"
   ]
  },
  {
   "cell_type": "code",
   "execution_count": null,
   "id": "e11f624c-69d3-4592-8489-48d19ea066df",
   "metadata": {},
   "outputs": [],
   "source": [
    "flux_type = 'psf'\n",
    "bands = 'ugrizy'"
   ]
  },
  {
   "cell_type": "code",
   "execution_count": null,
   "id": "683fae3a-77fd-4473-bd46-47dc14c9fa9f",
   "metadata": {},
   "outputs": [],
   "source": [
    "def pretty_plot(d, flux_type, bands):\n",
    "    fig = plt.figure()\n",
    "    axes = fig.subplots(3, 2)\n",
    "    for i, band in enumerate(bands):\n",
    "        icol = i%2\n",
    "        irow = int(i/2)\n",
    "        axs = axes[irow][icol]\n",
    "        axs.hist(d[f\"{band}_{flux_type}Mag\"], np.linspace(15, 30, 151))\n",
    "        axs.set_xlabel(f\"{band} [mag]\")\n",
    "    fig.tight_layout()"
   ]
  },
  {
   "cell_type": "code",
   "execution_count": null,
   "id": "456aa8a4-6c67-48b8-bb08-dacea017857c",
   "metadata": {},
   "outputs": [],
   "source": [
    "pretty_plot(d, flux_type, bands)"
   ]
  },
  {
   "cell_type": "code",
   "execution_count": null,
   "id": "5c2a8fde-4106-4398-a070-2f3d925425cd",
   "metadata": {},
   "outputs": [],
   "source": [
    "t2 = tables_io.read(f'{pz_dir}/data/dp1_v29.0.0/5063/object.parquet')"
   ]
  },
  {
   "cell_type": "code",
   "execution_count": null,
   "id": "8a429702-22b3-4b78-a9df-8e81833b5d6f",
   "metadata": {},
   "outputs": [],
   "source": [
    "mask  = np.bitwise_and(\n",
    "    np.bitwise_and(\n",
    "        t2['i_extendedness'].to_numpy() == 1,\n",
    "        t2['g_psfFlux'].to_numpy() / t2['g_psfFluxErr'].to_numpy() > 10,\n",
    "    ),\n",
    "    np.bitwise_and(\n",
    "        t2['i_psfFlux'].to_numpy() / t2['i_psfFluxErr'].to_numpy() > 10,\n",
    "        t2['r_psfFlux'].to_numpy() / t2['r_psfFluxErr'].to_numpy() > 10,\n",
    "    ),\n",
    ")\n",
    "mask_extend = t2['i_extendedness'].to_numpy() == 1"
   ]
  },
  {
   "cell_type": "code",
   "execution_count": null,
   "id": "aafc3189-be89-452f-b228-1d557d32e32b",
   "metadata": {},
   "outputs": [],
   "source": [
    "def fluxes_to_mags(\n",
    "    fluxes: np.ndarray, zero_points: float | np.ndarray = 31.4\n",
    ") -> np.ndarray:\n",
    "    return -2.5 * np.log10(fluxes) + zero_points\n",
    "\n",
    "def pretty_plot2(d, flux_type, bands, mask, mask_extend):\n",
    "    fig = plt.figure()\n",
    "    axes = fig.subplots(3, 2)\n",
    "    for i, band in enumerate(bands):\n",
    "        icol = i%2\n",
    "        irow = int(i/2)\n",
    "        axs = axes[irow][icol]\n",
    "        mags = fluxes_to_mags(d[f\"{band}_{flux_type}Flux\"])\n",
    "        axs.hist(mags, np.linspace(15, 30, 151))\n",
    "        axs.hist(mags[mask_extend], np.linspace(15, 30, 151))     \n",
    "        axs.hist(mags[mask], np.linspace(15, 30, 151))\n",
    "        \n",
    "        axs.set_xlabel(f\"{band} [mag]\")\n",
    "    fig.tight_layout()"
   ]
  },
  {
   "cell_type": "code",
   "execution_count": null,
   "id": "ee83081c-8abf-48b0-929c-952e8e2e577c",
   "metadata": {},
   "outputs": [],
   "source": [
    "pretty_plot2(t2, 'psf', 'ugrizy', mask, mask_extend)"
   ]
  },
  {
   "cell_type": "code",
   "execution_count": null,
   "id": "34905a7c-fae5-427e-905c-ebfd07e680c7",
   "metadata": {},
   "outputs": [],
   "source": [
    "def pretty_plot3(d, flux_type, bands, mask, mask_extend):\n",
    "    fig = plt.figure()\n",
    "    axes = fig.subplots(3, 2)\n",
    "    for i, band in enumerate(bands):\n",
    "        icol = i%2\n",
    "        irow = int(i/2)\n",
    "        axs = axes[irow][icol]\n",
    "        sigmas = d[f\"{band}_{flux_type}Flux\"].to_numpy() / d[f\"{band}_{flux_type}FluxErr\"].to_numpy() \n",
    "        axs.hist(sigmas, np.logspace(-1, 3, 151))\n",
    "        axs.hist(sigmas[mask_extend], np.logspace(-1, 3, 151))\n",
    "        axs.hist(sigmas[mask], np.logspace(-1, 3, 151))\n",
    "        axs.set_xscale('log')\n",
    "        axs.set_xlabel(f\"{band} [signif]\")\n",
    "    fig.tight_layout()"
   ]
  },
  {
   "cell_type": "code",
   "execution_count": null,
   "id": "13a3a8a8-12f4-4684-8d17-d5c4b1d5f82d",
   "metadata": {},
   "outputs": [],
   "source": [
    "pretty_plot3(t2, 'psf', 'ugrizy', mask, mask_extend)"
   ]
  },
  {
   "cell_type": "code",
   "execution_count": null,
   "id": "6d85cecc-734b-47ad-a0f9-bd6bfd3d0d8a",
   "metadata": {},
   "outputs": [],
   "source": []
  },
  {
   "cell_type": "code",
   "execution_count": null,
   "id": "87d37618-2ab9-423a-9c16-1d2653f7cab1",
   "metadata": {},
   "outputs": [],
   "source": []
  }
 ],
 "metadata": {
  "kernelspec": {
   "display_name": "Python 3 (ipykernel)",
   "language": "python",
   "name": "python3"
  },
  "language_info": {
   "codemirror_mode": {
    "name": "ipython",
    "version": 3
   },
   "file_extension": ".py",
   "mimetype": "text/x-python",
   "name": "python",
   "nbconvert_exporter": "python",
   "pygments_lexer": "ipython3",
   "version": "3.13.3"
  }
 },
 "nbformat": 4,
 "nbformat_minor": 5
}
