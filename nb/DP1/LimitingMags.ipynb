{
 "cells": [
  {
   "cell_type": "code",
   "execution_count": null,
   "id": "eb0f435a-df4c-4037-bc4b-538940ca9ddf",
   "metadata": {},
   "outputs": [],
   "source": [
    "import tables_io\n",
    "import numpy as np\n",
    "import matplotlib.pyplot as plt\n",
    "import qp"
   ]
  },
  {
   "cell_type": "code",
   "execution_count": null,
   "id": "846c697f-18a3-4133-8d5e-287130061541",
   "metadata": {},
   "outputs": [],
   "source": [
    "pz_dir = '/global/cfs/cdirs/lsst/groups/PZ/DP1'\n",
    "# if that fails you can use this\n",
    "# pz_dir = '/global/u2/e/echarles/dx'"
   ]
  },
  {
   "cell_type": "code",
   "execution_count": null,
   "id": "0f22a1d0-bb44-4659-a0ec-348cdda91b8e",
   "metadata": {},
   "outputs": [],
   "source": [
    "d = tables_io.read(f\"{pz_dir}/data/on_sky/dp1_v29.0.0_gold_ECDFS.hdf5\")"
   ]
  },
  {
   "cell_type": "code",
   "execution_count": null,
   "id": "e11f624c-69d3-4592-8489-48d19ea066df",
   "metadata": {},
   "outputs": [],
   "source": [
    "flux_type = 'psf'\n",
    "bands = 'ugrizy'"
   ]
  },
  {
   "cell_type": "code",
   "execution_count": null,
   "id": "683fae3a-77fd-4473-bd46-47dc14c9fa9f",
   "metadata": {},
   "outputs": [],
   "source": [
    "def pretty_plot(d, flux_type, bands):\n",
    "    fig = plt.figure()\n",
    "    axes = fig.subplots(3, 2)\n",
    "    for i, band in enumerate(bands):\n",
    "        icol = i%2\n",
    "        irow = int(i/2)\n",
    "        axs = axes[irow][icol]\n",
    "        axs.hist(d[f\"{band}_{flux_type}Mag\"], np.linspace(15, 30, 151))\n",
    "        axs.set_xlabel(f\"{band} [mag]\")\n",
    "    fig.tight_layout()"
   ]
  },
  {
   "cell_type": "code",
   "execution_count": null,
   "id": "456aa8a4-6c67-48b8-bb08-dacea017857c",
   "metadata": {},
   "outputs": [],
   "source": [
    "pretty_plot(d, flux_type, bands)"
   ]
  },
  {
   "cell_type": "code",
   "execution_count": null,
   "id": "5c2a8fde-4106-4398-a070-2f3d925425cd",
   "metadata": {},
   "outputs": [],
   "source": []
  }
 ],
 "metadata": {
  "kernelspec": {
   "display_name": "rail-1.2",
   "language": "python",
   "name": "rail-1.2"
  },
  "language_info": {
   "codemirror_mode": {
    "name": "ipython",
    "version": 3
   },
   "file_extension": ".py",
   "mimetype": "text/x-python",
   "name": "python",
   "nbconvert_exporter": "python",
   "pygments_lexer": "ipython3",
   "version": "3.13.5"
  }
 },
 "nbformat": 4,
 "nbformat_minor": 5
}
