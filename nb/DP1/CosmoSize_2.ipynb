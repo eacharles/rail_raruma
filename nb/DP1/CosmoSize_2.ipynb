{
 "cells": [
  {
   "cell_type": "markdown",
   "id": "7de0414f-5ba3-4f43-af3a-5da1b36a2d57",
   "metadata": {},
   "source": [
    "## This notebook explores the sizes of objects\n",
    "\n",
    "This needs a bit of fix-up to get a data-sample that we can join with the input parquet file"
   ]
  },
  {
   "cell_type": "markdown",
   "id": "9be07587-f9b9-4fa0-812f-e94b2c08caae",
   "metadata": {},
   "source": [
    "#### Standard imports"
   ]
  },
  {
   "cell_type": "code",
   "execution_count": null,
   "id": "a35419a5-ff1b-46d7-a3a2-c82d16f90242",
   "metadata": {},
   "outputs": [],
   "source": [
    "import tables_io\n",
    "import numpy as np\n",
    "import matplotlib.pyplot as plt\n",
    "import qp\n",
    "import pyccl as ccl"
   ]
  },
  {
   "cell_type": "markdown",
   "id": "d955d779-8aca-4995-9401-b32758bc87af",
   "metadata": {},
   "source": [
    "#### Change this to match your root data area"
   ]
  },
  {
   "cell_type": "code",
   "execution_count": null,
   "id": "f8c0de64-c8b2-4acc-9c40-5757b93df672",
   "metadata": {},
   "outputs": [],
   "source": [
    "# pz_dir = '/global/cfs/cdirs/lsst/groups/PZ/DP1'\n",
    "# if that fails you can use this\n",
    "# pz_dir = '/global/u2/e/echarles/dx'\n",
    "pz_dir = '/Users/echarles/pz'"
   ]
  },
  {
   "cell_type": "code",
   "execution_count": null,
   "id": "355b5b69-a53e-463e-9e8b-62b39220aa72",
   "metadata": {},
   "outputs": [],
   "source": [
    "t = tables_io.read(f'{pz_dir}/data/dp1_v29.0.0/5063/object.parquet')"
   ]
  },
  {
   "cell_type": "markdown",
   "id": "6314e2f3-166c-4342-8c8b-dcba0323a60d",
   "metadata": {},
   "source": [
    "#### Set up the cosmology & evaluation grid"
   ]
  },
  {
   "cell_type": "code",
   "execution_count": null,
   "id": "7795705e-64ea-4ce8-9366-83b1c37a87c8",
   "metadata": {},
   "outputs": [],
   "source": [
    "cosmo = ccl.Cosmology(\n",
    "    Omega_c=0.25, Omega_b=0.05,\n",
    "    h=0.7, n_s=0.95, sigma8=0.8,\n",
    "    transfer_function='bbks'\n",
    ")\n",
    "z_grid = np.linspace(0., 15., 301)[1:]\n",
    "a_grid = (1/(1+z_grid))\n",
    "D_a = cosmo.angular_diameter_distance(a_grid)\n",
    "rad_to_asec = 360*60*60/(2*np.pi) \n",
    "ang_scale = D_a * 1000/ rad_to_asec\n",
    "dist_mod = cosmo.distance_modulus(a_grid)"
   ]
  },
  {
   "cell_type": "code",
   "execution_count": null,
   "id": "6ffd0117-6817-4b46-85b1-f6ba80bfa310",
   "metadata": {},
   "outputs": [],
   "source": [
    "_ = plt.plot(z_grid, D_a) "
   ]
  },
  {
   "cell_type": "code",
   "execution_count": null,
   "id": "98882eb6-d0c0-4137-a4c4-84329e8f7a83",
   "metadata": {},
   "outputs": [],
   "source": [
    "t_gold = tables_io.read(f'{pz_dir}/data/on_sky/dp1_v29.0.0_gold_all.hdf5')\n",
    "#t_in = tables_io.read(f'{pz_dir}/data/dp1_v29.0.0_gold/5063/object.pq')\n",
    "t_in = tables_io.read(f'{pz_dir}/data/test/dp1_matched_v4_test.hdf5')"
   ]
  },
  {
   "cell_type": "code",
   "execution_count": null,
   "id": "c4171591-630b-4641-9aa4-5b4122cbf4d8",
   "metadata": {},
   "outputs": [],
   "source": [
    "#qp_ens = qp.read(f'{pz_dir}/projects/dp1/data/gold_baseline/dp1_all/output_estimate_bpz.hdf5')\n",
    "qp_ens = qp.read(f'{pz_dir}/projects/dp1_v4/data/gold_dp1_6band/output_estimate_bpz.hdf5')"
   ]
  },
  {
   "cell_type": "code",
   "execution_count": null,
   "id": "a6612e63-6d81-4a17-872c-56ef64718ab3",
   "metadata": {},
   "outputs": [],
   "source": [
    "import pandas as pd"
   ]
  },
  {
   "cell_type": "code",
   "execution_count": null,
   "id": "a08473c6-982f-42a9-9793-65488c11c68a",
   "metadata": {},
   "outputs": [],
   "source": [
    "t_gold_pd = pd.DataFrame(t_gold)\n",
    "#t_in_pd = t_in.to_pandas()\n",
    "t_in_pd = pd.DataFrame(t_in)"
   ]
  },
  {
   "cell_type": "code",
   "execution_count": null,
   "id": "3b56c6a2-ff20-48a2-be0d-0872d95192e7",
   "metadata": {},
   "outputs": [],
   "source": [
    "def r_95_of_n(n):\n",
    "    return 1.25 + 1.125*n"
   ]
  },
  {
   "cell_type": "code",
   "execution_count": null,
   "id": "6757ac38-c777-4514-93fe-6c48c6f95f8a",
   "metadata": {},
   "outputs": [],
   "source": [
    "print(t_gold_pd['objectId'].min(),t_gold_pd['objectId'].max())\n",
    "print(t_in_pd['objectId'].min(),t_in_pd['objectId'].max())"
   ]
  },
  {
   "cell_type": "code",
   "execution_count": null,
   "id": "63b1c842-980b-43b7-9b6e-625affc852f6",
   "metadata": {},
   "outputs": [],
   "source": [
    "t = t_gold_pd.join(t_in_pd, on='objectId', how='inner', lsuffix='a', rsuffix='b')"
   ]
  },
  {
   "cell_type": "code",
   "execution_count": null,
   "id": "7882547f-d89e-4aa0-b426-7d732978a442",
   "metadata": {},
   "outputs": [],
   "source": [
    "len(t)"
   ]
  },
  {
   "cell_type": "code",
   "execution_count": null,
   "id": "cac5cc44-00d3-42f8-a436-40037d57fd82",
   "metadata": {},
   "outputs": [],
   "source": [
    "blendedness = t['i_blendedness'].to_numpy()\n",
    "blendedness = np.where(np.isnan(blendedness), 0., blendedness).clip(0., 1.)\n",
    "mask  = np.bitwise_and(\n",
    "    np.bitwise_and(\n",
    "        t['i_extendedness'].to_numpy() == 1,\n",
    "        t['g_psfFlux'].to_numpy() / t['g_psfFluxErr'].to_numpy() > 10,\n",
    "    ),\n",
    "    np.bitwise_and(\n",
    "        t['i_psfFlux'].to_numpy() / t['i_psfFluxErr'].to_numpy() > 10,\n",
    "        t['r_psfFlux'].to_numpy() / t['r_psfFluxErr'].to_numpy() > 10,\n",
    "    ),\n",
    ")\n",
    "mask_unblend = np.bitwise_and(mask, blendedness<0.1)\n",
    "mask_blend = np.bitwise_and(mask, blendedness>0.1)\n",
    "blend = t['detect_fromBlend'].to_numpy()\n",
    "psf_flux = t['i_psfFlux'].to_numpy()\n",
    "cModel_flux = t['i_cModelFlux'].to_numpy()\n",
    "cModel_flux = t['i_sersicFlux'].to_numpy()\n",
    "shape_xx = t['i_ixx'].to_numpy()\n",
    "shape_yy = t['i_iyy'].to_numpy()\n",
    "shape_xy = t['i_ixy'].to_numpy()\n",
    "psf_xx = t['i_ixxDebiasedPSF'].to_numpy()\n",
    "psf_yy = t['i_iyyDebiasedPSF'].to_numpy()\n",
    "psf_xy = t['i_ixyDebiasedPSF'].to_numpy()\n",
    "shape_det = shape_xx*shape_yy - shape_xy*shape_xy\n",
    "shape_trace = shape_xx + shape_yy\n",
    "shape_area = np.sqrt(shape_det)\n",
    "psf_det = psf_xx*psf_yy - psf_xy*psf_xy\n",
    "psf_trace = psf_xx + psf_yy\n",
    "sersic_x = t['sersic_reff_x'].to_numpy()\n",
    "sersic_y = t['sersic_reff_y'].to_numpy()\n",
    "sersic_rho = t['sersic_rho'].to_numpy()\n",
    "sersic_index = t['sersic_index'].to_numpy()\n",
    "sersic_factor = r_95_of_n(sersic_index)\n",
    "sersic_xx = sersic_x*sersic_x\n",
    "sersic_yy = sersic_y*sersic_y\n",
    "sersic_trace = sersic_xx + sersic_yy\n",
    "sersic_xy = sersic_x*sersic_y*sersic_rho\n",
    "sersic_det = sersic_xx*sersic_yy - sersic_xy*sersic_xy\n",
    "bdReB = t['i_bdReB'].to_numpy()\n",
    "bdReD = t['i_bdReD'].to_numpy()\n",
    "kron_rad = t['i_kronRad'].to_numpy()\n",
    "psf_mag = -2.5 * np.log10(t['i_psfFlux'].to_numpy()) + 31.4\n",
    "cModel_mag = -2.5 * np.log10(t['i_cModelFlux'].to_numpy()) + 31.4\n",
    "sersic_mag = -2.5 * np.log10(t['i_sersicFlux'].to_numpy()) + 31.4"
   ]
  },
  {
   "cell_type": "code",
   "execution_count": null,
   "id": "f13568a6-562a-44e1-9ab0-c82d2238e991",
   "metadata": {},
   "outputs": [],
   "source": [
    "z = qp_ens.ancil['zmode']\n",
    "a_scale = 1./(1+z)"
   ]
  },
  {
   "cell_type": "code",
   "execution_count": null,
   "id": "64ced320-13f8-4cd9-9686-f8fd5bf18830",
   "metadata": {},
   "outputs": [],
   "source": [
    "D_a = cosmo.angular_diameter_distance(a_scale)\n",
    "rad_to_asec = 360*60*60/(2*np.pi) \n",
    "ang_scale = D_a * 1000/ rad_to_asec"
   ]
  },
  {
   "cell_type": "code",
   "execution_count": null,
   "id": "e568eace-858c-4bcd-8370-c118f55727fe",
   "metadata": {},
   "outputs": [],
   "source": [
    "int_size = np.sqrt(sersic_trace)*0.2 / ang_scale"
   ]
  },
  {
   "cell_type": "code",
   "execution_count": null,
   "id": "a6613029-c722-446f-9292-2a742b32f65c",
   "metadata": {},
   "outputs": [],
   "source": [
    "blendedness = t['i_blendedness']"
   ]
  },
  {
   "cell_type": "code",
   "execution_count": null,
   "id": "e1ccad80-026f-47a5-84dc-22629d5efc76",
   "metadata": {},
   "outputs": [],
   "source": [
    "psf_flux"
   ]
  },
  {
   "cell_type": "code",
   "execution_count": null,
   "id": "dc888302-dee0-4d12-9451-55818a421d89",
   "metadata": {},
   "outputs": [],
   "source": []
  },
  {
   "cell_type": "code",
   "execution_count": null,
   "id": "71497db8-8e94-4e54-8434-d703f66230fc",
   "metadata": {},
   "outputs": [],
   "source": []
  }
 ],
 "metadata": {
  "kernelspec": {
   "display_name": "Python 3 (ipykernel)",
   "language": "python",
   "name": "python3"
  },
  "language_info": {
   "codemirror_mode": {
    "name": "ipython",
    "version": 3
   },
   "file_extension": ".py",
   "mimetype": "text/x-python",
   "name": "python",
   "nbconvert_exporter": "python",
   "pygments_lexer": "ipython3",
   "version": "3.13.3"
  }
 },
 "nbformat": 4,
 "nbformat_minor": 5
}
