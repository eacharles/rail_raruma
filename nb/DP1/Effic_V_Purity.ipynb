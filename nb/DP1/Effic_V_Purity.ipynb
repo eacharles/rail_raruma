{
 "cells": [
  {
   "cell_type": "markdown",
   "id": "5e931623-f730-4a6a-aed7-2f51366d7d4f",
   "metadata": {},
   "source": [
    "## This notebook shows how to optimize a cut on the standard deviation of p(z) by exploring the trade between efficiency and purity "
   ]
  },
  {
   "cell_type": "markdown",
   "id": "0e012162-d7c6-4255-9a5b-4c6698a785d0",
   "metadata": {},
   "source": [
    "#### Do the usual imports"
   ]
  },
  {
   "cell_type": "code",
   "execution_count": null,
   "id": "127eb60a-2893-4ea1-8987-157e8f03f028",
   "metadata": {},
   "outputs": [],
   "source": [
    "import tables_io\n",
    "import numpy as np\n",
    "import matplotlib.pyplot as plt\n",
    "import qp\n",
    "from rail.raruma import plotting_functions as raruma_plot\n",
    "from rail.raruma import utility_functions as raruma_util"
   ]
  },
  {
   "cell_type": "markdown",
   "id": "95de7c57-ac0e-465e-a53e-25b505b6eb63",
   "metadata": {},
   "source": [
    "#### Change this to be the root of the current PZ working area"
   ]
  },
  {
   "cell_type": "code",
   "execution_count": null,
   "id": "22f802a1-64b8-4853-a694-28a25b7869d9",
   "metadata": {},
   "outputs": [],
   "source": [
    "# pz_dir = '/global/cfs/cdirs/lsst/groups/PZ/DP1'  \n",
    "# if that fails you can use this\n",
    "# pz_dir = '/global/u2/e/echarles/dx'\n",
    "pz_dir = '/Users/echarles/pz'"
   ]
  },
  {
   "cell_type": "markdown",
   "id": "8252c2a0-c9fa-4b4f-917c-c9082d471cb4",
   "metadata": {},
   "source": [
    "#### Get the data.  First the reference redshifts, then the estimates"
   ]
  },
  {
   "cell_type": "code",
   "execution_count": null,
   "id": "4831424b-2b96-4f74-baac-110a2319d368",
   "metadata": {},
   "outputs": [],
   "source": [
    "d = tables_io.read(f\"{pz_dir}/data/test/dp1_matched_v4_test.hdf5\")\n",
    "redshifts = d['redshift']"
   ]
  },
  {
   "cell_type": "code",
   "execution_count": null,
   "id": "d70ed3a4-5270-4e7e-ad08-120989be4e63",
   "metadata": {},
   "outputs": [],
   "source": [
    "pz_dict = {}\n",
    "algos = ['knn', 'fzboost', 'tpz', 'bpz', 'dnf', 'lephare', 'gpz', 'cmnn']\n",
    "for algo in algos:\n",
    "    pz_dict[algo] = qp.read(f\"{pz_dir}/projects/dp1_v4/data/gold_dp1_6band_paper/output_estimate_{algo}.hdf5\")"
   ]
  },
  {
   "cell_type": "markdown",
   "id": "f4170f0d-e5bf-47ce-aa1d-8a4063eb739c",
   "metadata": {},
   "source": [
    "#### Functions we will use to do the optimization"
   ]
  },
  {
   "cell_type": "code",
   "execution_count": null,
   "id": "fb14d4cb-027b-4e21-8be5-84c4215e8744",
   "metadata": {},
   "outputs": [],
   "source": [
    "def calc_frac_dels(qp_dstn, truth):\n",
    "    delta = np.squeeze(qp_dstn.ancil['zmode']) - truth\n",
    "    return delta / (1 + truth)"
   ]
  },
  {
   "cell_type": "code",
   "execution_count": null,
   "id": "37db3508-85d9-455b-a8b5-b9faeea9f0c3",
   "metadata": {},
   "outputs": [],
   "source": [
    "def calc_std(qp_dstn, grid):\n",
    "    pdfs = qp_dstn.pdf(grid)\n",
    "    norms = pdfs.sum(axis=1)\n",
    "    means = np.sum(pdfs * grid, axis=1) / norms\n",
    "    diffs = (np.expand_dims(grid, -1) - means).T\n",
    "    wt_diffs = diffs * diffs * pdfs\n",
    "    stds = np.sqrt((wt_diffs).sum(axis=1)/norms)\n",
    "    return np.expand_dims(stds, -1)"
   ]
  },
  {
   "cell_type": "code",
   "execution_count": null,
   "id": "bc15166b-56ab-416b-9ff7-d2e8bfed6a9d",
   "metadata": {},
   "outputs": [],
   "source": [
    "def effic_and_purirty_curves(std, frac_dels, cuts, purity_cut=0.05):\n",
    "    effic_list = []\n",
    "    purity_list = []    \n",
    "    for cut_ in cuts:\n",
    "        mask = np.abs(np.squeeze(std)) < cut_\n",
    "        effic = mask.sum() / mask.size\n",
    "        good_mask = np.abs(np.squeeze(frac_dels[mask])) < purity_cut\n",
    "        purtiy = good_mask.sum() / good_mask.size        \n",
    "        effic_list.append(effic)\n",
    "        purity_list.append(purtiy)        \n",
    "    return np.array(effic_list), np.array(purity_list)"
   ]
  },
  {
   "cell_type": "markdown",
   "id": "0fd09a9b-ab9c-4143-9342-a1afcf49aa31",
   "metadata": {},
   "source": [
    "#### Compute the standard deviations of p(z) using a grid from 0 to 4."
   ]
  },
  {
   "cell_type": "code",
   "execution_count": null,
   "id": "3ce49039-f3ef-44b3-933f-a1727cb684fe",
   "metadata": {},
   "outputs": [],
   "source": [
    "grid = np.linspace(0., 4., 401)\n",
    "std = calc_std(pz_dict['knn'], grid)\n"
   ]
  },
  {
   "cell_type": "code",
   "execution_count": null,
   "id": "a0922278-c0e4-458a-ad2b-ac05adc0a14a",
   "metadata": {},
   "outputs": [],
   "source": [
    "std_dict = {}\n",
    "for algo in algos:\n",
    "    std_dict[algo] = calc_std(pz_dict[algo], grid)"
   ]
  },
  {
   "cell_type": "markdown",
   "id": "1bf38123-ed30-47ec-ac49-3e3b3fec695f",
   "metadata": {},
   "source": [
    "#### Compute the fractional deviations"
   ]
  },
  {
   "cell_type": "code",
   "execution_count": null,
   "id": "0db2e8d7-bfd2-4d7b-b700-bb37e7093903",
   "metadata": {},
   "outputs": [],
   "source": [
    "frac_dels = calc_frac_dels(pz_dict['knn'], redshifts)"
   ]
  },
  {
   "cell_type": "code",
   "execution_count": null,
   "id": "a891f876-ad51-419b-bd00-e4c2642dd34f",
   "metadata": {},
   "outputs": [],
   "source": [
    "frac_del_dict = {}\n",
    "for algo in algos:\n",
    "    frac_del_dict[algo] = calc_frac_dels(pz_dict[algo], redshifts)"
   ]
  },
  {
   "cell_type": "markdown",
   "id": "5e04609c-b8cf-49d0-ac92-385cfd374374",
   "metadata": {},
   "source": [
    "#### Make a grid to scan the cut on p(z)"
   ]
  },
  {
   "cell_type": "code",
   "execution_count": null,
   "id": "7b7aad69-7622-48cf-90a8-7c87119e5e02",
   "metadata": {},
   "outputs": [],
   "source": [
    "cuts = np.linspace(0.01, 1.50, 100)"
   ]
  },
  {
   "cell_type": "markdown",
   "id": "ecbac78c-8d45-4550-8e07-30e315ee4ad2",
   "metadata": {},
   "source": [
    "#### \n",
    "Get the efficiency and purity as a fuction of the cut"
   ]
  },
  {
   "cell_type": "code",
   "execution_count": null,
   "id": "2a293228-4ca3-4fde-a269-f1cdac2bce0c",
   "metadata": {},
   "outputs": [],
   "source": [
    "effic, purity = effic_and_purirty_curves(std, frac_dels, cuts, 0.15)"
   ]
  },
  {
   "cell_type": "code",
   "execution_count": null,
   "id": "8399769a-f168-429f-be0c-9115237ac890",
   "metadata": {},
   "outputs": [],
   "source": [
    "eff_dict = {}\n",
    "pur_dict = {}\n",
    "for algo in algos:\n",
    "    eff_dict[algo], pur_dict[algo] = effic_and_purirty_curves(std_dict[algo], frac_del_dict[algo], cuts, 0.15)"
   ]
  },
  {
   "cell_type": "markdown",
   "id": "86156e08-f805-44a1-9b61-a0e42623ac80",
   "metadata": {},
   "source": [
    "### Make some plots"
   ]
  },
  {
   "cell_type": "markdown",
   "id": "a58b69ca-e553-4165-9f79-41588188bdc7",
   "metadata": {},
   "source": [
    "#### Efficiency v. cut value curve"
   ]
  },
  {
   "cell_type": "code",
   "execution_count": null,
   "id": "1250cf75-3035-4536-b817-ff8e870d8961",
   "metadata": {},
   "outputs": [],
   "source": [
    "fig = plt.figure()\n",
    "for algo in algos:\n",
    "    _ = plt.plot(cuts, eff_dict[algo], label=algo)\n",
    "_ = plt.xlabel(r'cut on $\\sigma_{p(z)}$')\n",
    "_ = plt.ylabel('Efficiency')\n",
    "_ = plt.legend()\n",
    "fig.savefig('efficiency.pdf')"
   ]
  },
  {
   "cell_type": "markdown",
   "id": "99974369-45e8-47be-9e95-b6892af76bc1",
   "metadata": {},
   "source": [
    "#### Purity v. cut value curve"
   ]
  },
  {
   "cell_type": "code",
   "execution_count": null,
   "id": "c6265f29-1ed8-46b1-9553-c13a92870b3c",
   "metadata": {},
   "outputs": [],
   "source": [
    "fig = plt.figure()\n",
    "for algo in algos:\n",
    "    _ = plt.plot(cuts, pur_dict[algo], label=algo)\n",
    "_ = plt.xlabel(r'cut on $\\sigma_{p(z)}$')\n",
    "_ = plt.ylabel(r'Purity: ($\\frac{\\delta z}{1 + z_{\\rm spec}} < 0.15)$')\n",
    "_ = plt.ylim(0.8, 1.)\n",
    "_ = plt.legend()\n",
    "fig.savefig('purity.pdf')"
   ]
  },
  {
   "cell_type": "markdown",
   "id": "34be2bbd-28d7-442e-9022-2d4d0928203c",
   "metadata": {},
   "source": [
    "#### Efficency v. Purity curve with cut value in color"
   ]
  },
  {
   "cell_type": "code",
   "execution_count": null,
   "id": "ca3dc518-4170-410a-b2a2-3de9ddf59bc2",
   "metadata": {},
   "outputs": [],
   "source": [
    "fig = plt.figure()\n",
    "_ = plt.scatter(purity, effic, c=cuts)\n",
    "mask = np.abs(cuts-0.15) < 0.0001\n",
    "_ = plt.scatter(purity[mask], effic[mask], marker=\"*\", s=50, color=\"red\")\n",
    "\n",
    "_ = plt.xlabel('Purity')\n",
    "_ = plt.ylabel('Efficiency')\n",
    "_ = plt.ylim(0, 1.)\n",
    "_ = plt.xlim(0.875, 1.)\n",
    "_ = plt.colorbar()\n",
    "fig.savefig('purity_v_effic.pdf')"
   ]
  },
  {
   "cell_type": "markdown",
   "id": "30cd0c33-f800-4ad7-8359-1fb6a6bf64f7",
   "metadata": {},
   "source": [
    "#### Efficency v. Purity curve for all algos"
   ]
  },
  {
   "cell_type": "code",
   "execution_count": null,
   "id": "08c00688-a1c6-41b5-9b8e-c554eadf3770",
   "metadata": {},
   "outputs": [],
   "source": [
    "fig = plt.figure()\n",
    "for algo in algos:\n",
    "    _ = plt.plot(pur_dict[algo], eff_dict[algo], label=algo)\n",
    "#mask = np.abs(cuts-0.15) < 0.0001\n",
    "#_ = plt.scatter(purity[mask], effic[mask], marker=\"*\", s=50, color=\"red\")\n",
    "\n",
    "_ = plt.xlabel('Purity')\n",
    "_ = plt.ylabel('Efficiency')\n",
    "_ = plt.ylim(0, 1.)\n",
    "_ = plt.xlim(0.80, 1.)\n",
    "_ = plt.legend()\n",
    "#_ = plt.colorbar()\n",
    "#fig.savefig('purity_v_effic.pdf')"
   ]
  },
  {
   "cell_type": "code",
   "execution_count": null,
   "id": "0e47421b-1117-403a-b9e5-4b3f57805839",
   "metadata": {},
   "outputs": [],
   "source": []
  },
  {
   "cell_type": "code",
   "execution_count": null,
   "id": "dde975a4-b2f2-4c3e-81b5-237dce06e269",
   "metadata": {},
   "outputs": [],
   "source": []
  }
 ],
 "metadata": {
  "kernelspec": {
   "display_name": "Python 3 (ipykernel)",
   "language": "python",
   "name": "python3"
  },
  "language_info": {
   "codemirror_mode": {
    "name": "ipython",
    "version": 3
   },
   "file_extension": ".py",
   "mimetype": "text/x-python",
   "name": "python",
   "nbconvert_exporter": "python",
   "pygments_lexer": "ipython3",
   "version": "3.13.3"
  }
 },
 "nbformat": 4,
 "nbformat_minor": 5
}
