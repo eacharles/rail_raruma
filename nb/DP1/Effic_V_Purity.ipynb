{
 "cells": [
  {
   "cell_type": "markdown",
   "id": "5e931623-f730-4a6a-aed7-2f51366d7d4f",
   "metadata": {},
   "source": [
    "### This notebook shows how to optimize a cut on the standard deviation of p(z) by exploring the trade between efficiency and purity "
   ]
  },
  {
   "cell_type": "markdown",
   "id": "678bfcae-9553-4b7c-b71c-f109a8acf275",
   "metadata": {},
   "source": [
    "The usual imports"
   ]
  },
  {
   "cell_type": "code",
   "execution_count": null,
   "id": "65415f18-fd29-487a-8e51-c7624685a887",
   "metadata": {},
   "outputs": [],
   "source": [
    "import tables_io\n",
    "import numpy as np\n",
    "import matplotlib.pyplot as plt\n",
    "import qp\n",
    "from rail.core.data import DATA_STORE\n",
    "from rail.utils.catalog_utils import RomanRubinCatalogConfig\n",
    "DS = DATA_STORE()"
   ]
  },
  {
   "cell_type": "code",
   "execution_count": null,
   "id": "2e2d5845-bbeb-476f-8c80-3f85efdff5d9",
   "metadata": {},
   "outputs": [],
   "source": [
    "from rail.raruma import utility_functions as raruma_util\n",
    "from rail.raruma import plotting_functions as raruma_plot"
   ]
  },
  {
   "cell_type": "markdown",
   "id": "e522acc8-c42b-4513-a92f-6ef019d9975f",
   "metadata": {},
   "source": [
    "Change this to be the root of the current PZ working area"
   ]
  },
  {
   "cell_type": "code",
   "execution_count": null,
   "id": "687e5dfe-42a0-4995-a928-eab1fcad6899",
   "metadata": {},
   "outputs": [],
   "source": [
    "pz_dir = '/global/cfs/cdirs/lsst/groups/PZ/DP1'\n",
    "# if that fails you can use this\n",
    "# pz_dir = '/global/u2/e/echarles/dx'"
   ]
  },
  {
   "cell_type": "markdown",
   "id": "33cb3dee-cdd5-422d-aa17-d7ceeefa4fed",
   "metadata": {},
   "source": [
    "Get the data, note the switch between different algorithms"
   ]
  },
  {
   "cell_type": "code",
   "execution_count": null,
   "id": "4831424b-2b96-4f74-baac-110a2319d368",
   "metadata": {},
   "outputs": [],
   "source": [
    "algo = 'knn'\n",
    "d = tables_io.read(f\"{pz_dir}/data/test/dp1_matched_test.hdf5\")\n",
    "pz = qp.read(f\"{pz_dir}/projects/dp1/data/gold_dp1_optimize/output_estimate_{algo}.hdf5\")\n",
    "redshifts = d['redshift']"
   ]
  },
  {
   "cell_type": "markdown",
   "id": "f4170f0d-e5bf-47ce-aa1d-8a4063eb739c",
   "metadata": {},
   "source": [
    "Functions we will use to do the optimization"
   ]
  },
  {
   "cell_type": "code",
   "execution_count": null,
   "id": "fb14d4cb-027b-4e21-8be5-84c4215e8744",
   "metadata": {},
   "outputs": [],
   "source": [
    "def calc_frac_dels(qp_dstn, truth):\n",
    "    delta = np.squeeze(qp_dstn.ancil['zmode']) - truth\n",
    "    return delta / (1 + truth)"
   ]
  },
  {
   "cell_type": "code",
   "execution_count": null,
   "id": "37db3508-85d9-455b-a8b5-b9faeea9f0c3",
   "metadata": {},
   "outputs": [],
   "source": [
    "def calc_std(qp_dstn, grid):\n",
    "    pdfs = qp_dstn.pdf(grid)\n",
    "    norms = pdfs.sum(axis=1)\n",
    "    means = np.sum(pdfs * grid, axis=1) / norms\n",
    "    diffs = (np.expand_dims(grid, -1) - means).T\n",
    "    wt_diffs = diffs * diffs * pdfs\n",
    "    stds = np.sqrt((wt_diffs).sum(axis=1)/norms)\n",
    "    return np.expand_dims(stds, -1)"
   ]
  },
  {
   "cell_type": "code",
   "execution_count": null,
   "id": "bc15166b-56ab-416b-9ff7-d2e8bfed6a9d",
   "metadata": {},
   "outputs": [],
   "source": [
    "def effic_and_purirty_curves(std, frac_dels, cuts, purity_cut=0.05):\n",
    "    effic_list = []\n",
    "    purity_list = []    \n",
    "    for cut_ in cuts:\n",
    "        mask = np.abs(np.squeeze(std)) < cut_\n",
    "        effic = mask.sum() / mask.size\n",
    "        good_mask = np.abs(np.squeeze(frac_dels[mask])) < purity_cut\n",
    "        purtiy = good_mask.sum() / good_mask.size        \n",
    "        effic_list.append(effic)\n",
    "        purity_list.append(purtiy)        \n",
    "    return np.array(effic_list), np.array(purity_list)"
   ]
  },
  {
   "cell_type": "markdown",
   "id": "0fd09a9b-ab9c-4143-9342-a1afcf49aa31",
   "metadata": {},
   "source": [
    "Compute the standard deviations of p(z) using a grid from 0 to 4."
   ]
  },
  {
   "cell_type": "code",
   "execution_count": null,
   "id": "3ce49039-f3ef-44b3-933f-a1727cb684fe",
   "metadata": {},
   "outputs": [],
   "source": [
    "grid = np.linspace(0., 4., 401)\n",
    "std = calc_std(pz, grid)"
   ]
  },
  {
   "cell_type": "markdown",
   "id": "1bf38123-ed30-47ec-ac49-3e3b3fec695f",
   "metadata": {},
   "source": [
    "Compute the fractional deviations"
   ]
  },
  {
   "cell_type": "code",
   "execution_count": null,
   "id": "0db2e8d7-bfd2-4d7b-b700-bb37e7093903",
   "metadata": {},
   "outputs": [],
   "source": [
    "frac_dels = calc_frac_dels(pz, redshifts)"
   ]
  },
  {
   "cell_type": "markdown",
   "id": "5e04609c-b8cf-49d0-ac92-385cfd374374",
   "metadata": {},
   "source": [
    "Make a grid to scan the cut on p(z)"
   ]
  },
  {
   "cell_type": "code",
   "execution_count": null,
   "id": "7b7aad69-7622-48cf-90a8-7c87119e5e02",
   "metadata": {},
   "outputs": [],
   "source": [
    "cuts = np.linspace(0.01, 1.00, 100)"
   ]
  },
  {
   "cell_type": "markdown",
   "id": "ecbac78c-8d45-4550-8e07-30e315ee4ad2",
   "metadata": {},
   "source": [
    "Get the efficiency and purity as a fuction of the cut"
   ]
  },
  {
   "cell_type": "code",
   "execution_count": null,
   "id": "2a293228-4ca3-4fde-a269-f1cdac2bce0c",
   "metadata": {},
   "outputs": [],
   "source": [
    "effic, purity = effic_and_purirty_curves(std, frac_dels, cuts, 0.20)"
   ]
  },
  {
   "cell_type": "markdown",
   "id": "86156e08-f805-44a1-9b61-a0e42623ac80",
   "metadata": {},
   "source": [
    "Make some plots"
   ]
  },
  {
   "cell_type": "code",
   "execution_count": null,
   "id": "1250cf75-3035-4536-b817-ff8e870d8961",
   "metadata": {},
   "outputs": [],
   "source": [
    "fig = plt.figure()\n",
    "_ = plt.plot(cuts, effic)\n",
    "_ = plt.xlabel(r'cut on $\\sigma_{p(z)}$')\n",
    "_ = plt.ylabel('Efficiency')\n",
    "fig.savefig('efficiency.pdf')"
   ]
  },
  {
   "cell_type": "code",
   "execution_count": null,
   "id": "c6265f29-1ed8-46b1-9553-c13a92870b3c",
   "metadata": {},
   "outputs": [],
   "source": [
    "fig = plt.figure()\n",
    "_ = plt.plot(cuts, purity)\n",
    "_ = plt.xlabel(r'cut on $\\sigma_{p(z)}$')\n",
    "_ = plt.ylabel(r'Purity: ($\\frac{\\delta z}{1 + z_{\\rm spec}} < 0.20)$')\n",
    "_ = plt.ylim(0.8, 1.)\n",
    "fig.savefig('purity.pdf')"
   ]
  },
  {
   "cell_type": "code",
   "execution_count": null,
   "id": "ca3dc518-4170-410a-b2a2-3de9ddf59bc2",
   "metadata": {},
   "outputs": [],
   "source": [
    "fig = plt.figure()\n",
    "_ = plt.scatter(purity, effic, c=cuts)\n",
    "mask = np.abs(cuts-0.15) < 0.0001\n",
    "_ = plt.scatter(purity[mask], effic[mask], marker=\"*\", s=50, color=\"red\")\n",
    "\n",
    "_ = plt.xlabel('Purity')\n",
    "_ = plt.ylabel('Efficiency')\n",
    "_ = plt.ylim(0, 1.)\n",
    "_ = plt.xlim(0.875, 1.)\n",
    "_ = plt.colorbar()\n",
    "fig.savefig('purity_v_effic.pdf')"
   ]
  },
  {
   "cell_type": "code",
   "execution_count": null,
   "id": "43a79431-d5a6-45bf-8eeb-d206f7591da5",
   "metadata": {},
   "outputs": [],
   "source": []
  }
 ],
 "metadata": {
  "kernelspec": {
   "display_name": "rail-1.2",
   "language": "python",
   "name": "rail-1.2"
  },
  "language_info": {
   "codemirror_mode": {
    "name": "ipython",
    "version": 3
   },
   "file_extension": ".py",
   "mimetype": "text/x-python",
   "name": "python",
   "nbconvert_exporter": "python",
   "pygments_lexer": "ipython3",
   "version": "3.13.5"
  }
 },
 "nbformat": 4,
 "nbformat_minor": 5
}
