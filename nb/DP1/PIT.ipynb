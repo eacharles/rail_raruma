{
 "cells": [
  {
   "cell_type": "code",
   "execution_count": null,
   "id": "c37eb0cb-e8b0-425b-b98a-7b912adc4e2f",
   "metadata": {},
   "outputs": [],
   "source": [
    "import tables_io\n",
    "import numpy as np\n",
    "import matplotlib.pyplot as plt\n",
    "import qp\n",
    "from rail.core.data import DATA_STORE\n",
    "from rail.utils.catalog_utils import RomanRubinCatalogConfig\n",
    "DS = DATA_STORE()"
   ]
  },
  {
   "cell_type": "code",
   "execution_count": null,
   "id": "f6837c62-6b74-43df-88b2-e33d0757fa3b",
   "metadata": {},
   "outputs": [],
   "source": [
    "from rail.raruma import utility_functions as raruma_util\n",
    "from rail.raruma import plotting_functions as raruma_plot"
   ]
  },
  {
   "cell_type": "code",
   "execution_count": null,
   "id": "ebfbfb1c-aede-41c7-8f86-8546d3b0ea09",
   "metadata": {},
   "outputs": [],
   "source": [
    "# pz_dir = '/global/cfs/cdirs/lsst/groups/PZ/DP1'\n",
    "# if that fails you can use this\n",
    "# pz_dir = '/global/u2/e/echarles/dx'\n",
    "pz_dir = '/Users/echarles/pz'\n"
   ]
  },
  {
   "cell_type": "code",
   "execution_count": null,
   "id": "5ebdbcd1-63e7-4104-984b-8cd0f6284544",
   "metadata": {},
   "outputs": [],
   "source": [
    "algo = 'knn'\n",
    "d = tables_io.read(f\"{pz_dir}/data/test/dp1_matched_v4_test.hdf5\")\n",
    "xx = qp.read_dict(f\"{pz_dir}/projects/dp1_v4/data/gold_dp1_6band_paper/single_distribution_summary_evaluate_{algo}.hdf5\")\n",
    "redshifts = d['redshift']"
   ]
  },
  {
   "cell_type": "code",
   "execution_count": null,
   "id": "b9922e78-93cc-4c56-8426-7fdfdbc7305c",
   "metadata": {},
   "outputs": [],
   "source": [
    "algos = ['knn', 'fzboost', 'tpz', 'bpz', 'dnf', 'lephare', 'gpz', 'cmnn']\n",
    "pz_dict = {}\n",
    "for algo in algos:\n",
    "    pz_dict[algo] = qp.read_dict(f\"{pz_dir}/projects/dp1_v4/data/gold_dp1_6band_paper/single_distribution_summary_evaluate_{algo}.hdf5\")"
   ]
  },
  {
   "cell_type": "code",
   "execution_count": null,
   "id": "e68dc251-ddf6-4916-89f6-64ad209fce29",
   "metadata": {},
   "outputs": [],
   "source": [
    "grid = np.linspace(0, 1, 201)[:-1]"
   ]
  },
  {
   "cell_type": "code",
   "execution_count": null,
   "id": "30e2d4f2-37f5-49bf-a349-14b2c4edacf0",
   "metadata": {},
   "outputs": [],
   "source": [
    "for algo in algos:\n",
    "    if algo in ['knn', 'dnf']:\n",
    "        vals = pz_dict[algo]['pit_redshift'].pdf(grid)\n",
    "        _ = plt.plot(grid, (np.cumsum(vals)/200)-vals[0], label=algo)\n",
    "    else:\n",
    "        _ = plt.plot(grid, pz_dict[algo]['pit_redshift'].cdf(grid), label=algo)\n",
    "_ = plt.ylim(0, 1)\n",
    "_ = plt.legend()"
   ]
  },
  {
   "cell_type": "code",
   "execution_count": null,
   "id": "caf72478-7785-4950-980f-b3d81c7cd2da",
   "metadata": {},
   "outputs": [],
   "source": []
  }
 ],
 "metadata": {
  "kernelspec": {
   "display_name": "Python 3 (ipykernel)",
   "language": "python",
   "name": "python3"
  },
  "language_info": {
   "codemirror_mode": {
    "name": "ipython",
    "version": 3
   },
   "file_extension": ".py",
   "mimetype": "text/x-python",
   "name": "python",
   "nbconvert_exporter": "python",
   "pygments_lexer": "ipython3",
   "version": "3.13.3"
  }
 },
 "nbformat": 4,
 "nbformat_minor": 5
}
