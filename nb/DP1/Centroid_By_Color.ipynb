{
 "cells": [
  {
   "cell_type": "markdown",
   "id": "38bf46c2-a382-4d5c-85fd-20d6b1a6b674",
   "metadata": {},
   "source": [
    "## This notebook shows a study of using the scatter in the centroid between different bands to look for effect of blending"
   ]
  },
  {
   "cell_type": "code",
   "execution_count": null,
   "id": "355d7a3c-2d71-4200-8c8f-50aea30e69c1",
   "metadata": {},
   "outputs": [],
   "source": [
    "#### Do the usual imports"
   ]
  },
  {
   "cell_type": "code",
   "execution_count": null,
   "id": "cad2ff79-4d72-4e35-adf2-8f2fe20d1f09",
   "metadata": {},
   "outputs": [],
   "source": [
    "import tables_io\n",
    "import numpy as np\n",
    "import matplotlib.pyplot as plt"
   ]
  },
  {
   "cell_type": "code",
   "execution_count": null,
   "id": "de111a6c-2efe-4b5f-b223-b1ed7c50b08f",
   "metadata": {},
   "outputs": [],
   "source": [
    "#### Change this to be the root of the current PZ working area"
   ]
  },
  {
   "cell_type": "code",
   "execution_count": null,
   "id": "70e9ad51-ae07-4af1-9ee4-4f5271dc913b",
   "metadata": {},
   "outputs": [],
   "source": [
    "# pz_dir = '/global/cfs/cdirs/lsst/groups/PZ/DP1'\n",
    "# if that fails you can use this\n",
    "# pz_dir = '/global/u2/e/echarles/dx'\n",
    "pz_dir = '/Users/echarles/pz'"
   ]
  },
  {
   "cell_type": "code",
   "execution_count": null,
   "id": "1673228c-2fe3-4efb-a931-19693a778ba9",
   "metadata": {},
   "outputs": [],
   "source": [
    "#### Get the data. "
   ]
  },
  {
   "cell_type": "code",
   "execution_count": null,
   "id": "4206bbbe-ef80-44d6-9774-999906a0e60c",
   "metadata": {},
   "outputs": [],
   "source": [
    "t = tables_io.read(f'{pz_dir}/data/dp1_v29.0.0/5063/object.parquet')"
   ]
  },
  {
   "cell_type": "markdown",
   "id": "9f47e4a6-00d5-4a15-bc83-e145993e5af0",
   "metadata": {},
   "source": [
    "#### Extract the centroids and the blendedness"
   ]
  },
  {
   "cell_type": "code",
   "execution_count": null,
   "id": "baf77995-354d-4ce5-b326-ae7fd7137371",
   "metadata": {},
   "outputs": [],
   "source": [
    "blendedness = t['i_blendedness'].to_numpy()\n",
    "blendedness = np.where(np.isnan(blendedness), 0., blendedness).clip(0., 1.)\n",
    "mask  = np.bitwise_and(\n",
    "    np.bitwise_and(\n",
    "        t['i_extendedness'].to_numpy() == 1,\n",
    "        t['g_psfFlux'].to_numpy() / t['g_psfFluxErr'].to_numpy() > 10,\n",
    "    ),\n",
    "    np.bitwise_and(\n",
    "        t['i_psfFlux'].to_numpy() / t['i_psfFluxErr'].to_numpy() > 10,\n",
    "        t['r_psfFlux'].to_numpy() / t['r_psfFluxErr'].to_numpy() > 10,\n",
    "    ),\n",
    ")\n",
    "mask_unblend = np.bitwise_and(mask, blendedness<0.1)\n",
    "mask_blend = np.bitwise_and(mask, blendedness>0.1)\n",
    "g_ra = t['g_ra'].to_numpy()\n",
    "g_raErr = t['g_raErr'].to_numpy()\n",
    "g_dec = t['g_dec'].to_numpy()\n",
    "g_decErr = t['g_decErr'].to_numpy()\n",
    "cos_g_dec = np.cos(np.radians(g_dec))\n",
    "cos_g_raErr = cos_g_dec*g_raErr\n",
    "r_ra = t['r_ra'].to_numpy()\n",
    "r_raErr = t['r_raErr'].to_numpy()\n",
    "r_dec = t['r_dec'].to_numpy()\n",
    "r_decErr = t['r_decErr'].to_numpy()\n",
    "cos_r_dec = np.cos(np.radians(r_dec))\n",
    "i_ra = t['i_ra'].to_numpy()\n",
    "i_raErr = t['i_raErr'].to_numpy()\n",
    "i_dec = t['i_dec'].to_numpy()\n",
    "i_decErr = t['i_decErr'].to_numpy()\n",
    "cos_i_dec = np.cos(np.radians(i_dec))\n",
    "z_ra = t['z_ra'].to_numpy()\n",
    "z_raErr = t['z_raErr'].to_numpy()\n",
    "z_dec = t['z_dec'].to_numpy()\n",
    "z_decErr = t['z_decErr'].to_numpy()\n",
    "cos_z_dec = np.cos(np.radians(z_dec))\n",
    "ra_vals = np.vstack([g_ra*cos_g_dec, r_ra*cos_r_dec, i_ra*cos_i_dec, z_ra*cos_z_dec])\n",
    "dec_vals = np.vstack([g_dec, r_dec, i_dec, z_dec])\n",
    "errs = np.sqrt(cos_g_raErr*cos_g_raErr+g_decErr*g_decErr)"
   ]
  },
  {
   "cell_type": "markdown",
   "id": "1be8b49a-f365-49b4-8f0d-cffca1ff22f0",
   "metadata": {},
   "source": [
    "#### compute thet scatter in the centroids"
   ]
  },
  {
   "cell_type": "code",
   "execution_count": null,
   "id": "f39c8d35-0992-4f29-a5f1-437ef0dc56cd",
   "metadata": {},
   "outputs": [],
   "source": [
    "cent_scatter = np.sqrt(np.var(ra_vals, axis=0) + np.var(dec_vals, axis=0))\n",
    "cent_scatter_scaled = np.sqrt(np.var(ra_vals, axis=0) + np.var(dec_vals, axis=0))/errs"
   ]
  },
  {
   "cell_type": "markdown",
   "id": "24fe8c6a-cb75-4f2f-9459-291e47ee4b0e",
   "metadata": {},
   "source": [
    "#### Plot the scaled scatter in the centroids"
   ]
  },
  {
   "cell_type": "code",
   "execution_count": null,
   "id": "58550eca-ed36-4940-ad8f-71f0fa531e36",
   "metadata": {},
   "outputs": [],
   "source": [
    "_ = plt.hist(cent_scatter_scaled[mask_unblend], bins=np.linspace(0, 5, 51), label='unblended')\n",
    "_ = plt.hist(cent_scatter_scaled[mask_blend], bins=np.linspace(0, 5, 51), label='blended')\n",
    "_ = plt.xlabel(r'Scaled scatter: $\\sigma_{\\rm cent} / \\delta_{\\rm cent}$')\n",
    "_ = plt.ylabel('Objects / 0.1')\n",
    "_ = plt.legend()"
   ]
  },
  {
   "cell_type": "code",
   "execution_count": null,
   "id": "c16202a7-e720-4d1c-8ef3-2c8490e6a870",
   "metadata": {},
   "outputs": [],
   "source": [
    "_ = plt.hist(3600*cent_scatter[mask_unblend], bins=np.linspace(0, 0.2, 201), label='unblended')\n",
    "_ = plt.hist(3600*cent_scatter[mask_blend], bins=np.linspace(0, 0.2, 201), label='blended')\n",
    "_ = plt.xlabel(r'Scatter: $\\sigma_{\\rm cent}$ [\"]')\n",
    "_ = plt.yscale('log')\n",
    "_ = plt.ylabel('Objects / 1.0 mas')\n",
    "_ = plt.legend()"
   ]
  },
  {
   "cell_type": "code",
   "execution_count": null,
   "id": "d16b8404-7663-4eda-8e65-2e2cb21fcff4",
   "metadata": {},
   "outputs": [],
   "source": [
    "_ = plt.hist(3600*errs[mask_unblend], bins=np.linspace(0, 1.0, 101), label='unblended')\n",
    "_ = plt.hist(3600*errs[mask_blend], bins=np.linspace(0, 1.0, 101), label='blended')\n",
    "_ = plt.xlabel(r'Reported errors: $\\delta_{\\rm cent}$ [\"]')\n",
    "_ = plt.yscale('log')\n",
    "_ = plt.ylabel('Objects / 0.01 mas')\n",
    "_ = plt.legend()"
   ]
  },
  {
   "cell_type": "code",
   "execution_count": null,
   "id": "12db242a-9ad7-4098-b52d-6dce9fe96abe",
   "metadata": {},
   "outputs": [],
   "source": []
  }
 ],
 "metadata": {
  "kernelspec": {
   "display_name": "Python 3 (ipykernel)",
   "language": "python",
   "name": "python3"
  },
  "language_info": {
   "codemirror_mode": {
    "name": "ipython",
    "version": 3
   },
   "file_extension": ".py",
   "mimetype": "text/x-python",
   "name": "python",
   "nbconvert_exporter": "python",
   "pygments_lexer": "ipython3",
   "version": "3.13.3"
  }
 },
 "nbformat": 4,
 "nbformat_minor": 5
}
