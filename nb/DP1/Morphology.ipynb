{
 "cells": [
  {
   "cell_type": "markdown",
   "id": "e9e2e342-247b-4426-8443-edad7074a580",
   "metadata": {},
   "source": [
    "## \"Sandbox\" notebook for morphology / size studies"
   ]
  },
  {
   "cell_type": "code",
   "execution_count": null,
   "id": "570af49f-f997-4d31-8446-4de9824717a6",
   "metadata": {},
   "outputs": [],
   "source": [
    "import tables_io\n",
    "import numpy as np\n",
    "import matplotlib.pyplot as plt\n",
    "import qp\n",
    "import pyccl as ccl\n",
    "import corner"
   ]
  },
  {
   "cell_type": "code",
   "execution_count": null,
   "id": "b67810e6-a875-4d00-b66a-836af7cc3781",
   "metadata": {},
   "outputs": [],
   "source": [
    "# pz_dir = '/global/cfs/cdirs/lsst/groups/PZ/DP1'\n",
    "# if that fails you can use this\n",
    "# pz_dir = '/global/u2/e/echarles/dx'\n",
    "pz_dir = '/Users/echarles/pz'"
   ]
  },
  {
   "cell_type": "code",
   "execution_count": null,
   "id": "063c8eac-6968-40e5-9c8b-59fd0ed005a0",
   "metadata": {},
   "outputs": [],
   "source": [
    "ot = tables_io.read(f'{pz_dir}/sandbox_data/ecdfs/lsst_cat_matched_nonan_train.hdf5')\n",
    "t = ot"
   ]
  },
  {
   "cell_type": "code",
   "execution_count": null,
   "id": "732365e4-ef96-4dff-945d-00dabd11d9e8",
   "metadata": {},
   "outputs": [],
   "source": [
    "def r_90_of_n(n):\n",
    "    return 1.25 + 1.125*n"
   ]
  },
  {
   "cell_type": "code",
   "execution_count": null,
   "id": "d7adeaad-49af-4c32-803b-ede2007639d4",
   "metadata": {},
   "outputs": [],
   "source": [
    "cosmo = ccl.Cosmology(\n",
    "    Omega_c=0.25, Omega_b=0.05,\n",
    "    h=0.7, n_s=0.95, sigma8=0.8,\n",
    "    transfer_function='bbks'\n",
    ")\n",
    "z_grid = np.linspace(0., 6., 301)[1:]\n",
    "a_grid = (1/(1+z_grid))\n",
    "D_a = cosmo.angular_diameter_distance(a_grid)\n",
    "rad_to_asec = 360*60*60/(2*np.pi) \n",
    "ang_scale_z = D_a * 1000/ rad_to_asec\n",
    "dist_mod = cosmo.distance_modulus(a_grid)"
   ]
  },
  {
   "cell_type": "code",
   "execution_count": null,
   "id": "36e1bc20-bb6c-4629-9270-d8a6910d87b4",
   "metadata": {},
   "outputs": [],
   "source": [
    "mask  = (t['refExtendedness'] == 1) *\\\n",
    "        (t['g_psfFlux']/ t['g_psfFluxErr'] > 10) *\\\n",
    "        (t['i_psfFlux'] / t['i_psfFluxErr'] > 10) *\\\n",
    "        (t['r_psfFlux'] / t['r_psfFluxErr'] > 10) *\\\n",
    "        (t['z_psfFlux'] / t['z_psfFluxErr'] > 10)\n",
    "\n"
   ]
  },
  {
   "cell_type": "code",
   "execution_count": null,
   "id": "0a49a3dc-bb2b-4169-82af-e11ae4775d76",
   "metadata": {},
   "outputs": [],
   "source": [
    "_ = plt.hist(t['i_blendedness'], bins=100)\n",
    "_ = plt.yscale('log')"
   ]
  },
  {
   "cell_type": "code",
   "execution_count": null,
   "id": "4f23cc8e-6b80-4699-b976-c89c2ba1fedf",
   "metadata": {},
   "outputs": [],
   "source": [
    "sersic_x = ot['sersic_reff_x']\n",
    "sersic_y = ot['sersic_reff_y']\n",
    "sersic_index = ot['sersic_index']\n",
    "sersic_ratio = r_90_of_n(sersic_index)\n",
    "sersic_chord = np.sqrt(sersic_x*sersic_x + sersic_y*sersic_y)\n",
    "spiral_mask = sersic_index < 3\n",
    "ellip_mask = sersic_index > 3"
   ]
  },
  {
   "cell_type": "code",
   "execution_count": null,
   "id": "170347ca-6b15-47f8-8887-f665c6ebb68f",
   "metadata": {},
   "outputs": [],
   "source": [
    "ss = np.nan_to_num(np.vstack([sersic_index.clip(0.5, 6)[mask], sersic_chord.clip(0, 10)[mask], t['g_psfMag'].clip(16, 28)[mask]]), 0)"
   ]
  },
  {
   "cell_type": "code",
   "execution_count": null,
   "id": "611f395c-d9b3-4682-b6b5-2c60969c4212",
   "metadata": {},
   "outputs": [],
   "source": [
    "ss"
   ]
  },
  {
   "cell_type": "code",
   "execution_count": null,
   "id": "e8c9e9de-2bc2-401c-8a0d-e1654bd20ec8",
   "metadata": {},
   "outputs": [],
   "source": [
    "_  = corner.corner(ss.T)"
   ]
  },
  {
   "cell_type": "code",
   "execution_count": null,
   "id": "36f0175b-4b85-4a52-ab93-6ad44f282e9d",
   "metadata": {},
   "outputs": [],
   "source": [
    "mag = ot['i_sersicMag']\n",
    "psfmag = ot['i_psfMag']"
   ]
  },
  {
   "cell_type": "code",
   "execution_count": null,
   "id": "218f69d9-026a-4c1d-b12a-306604eb2fea",
   "metadata": {},
   "outputs": [],
   "source": [
    "redshifts = ot['redshift']\n",
    "redshifts = np.where(np.isfinite(redshifts), redshifts, 9).clip(0.0001, 10.)\n",
    "\n",
    "scale = 1/(1+redshifts)\n",
    "scale = np.where(np.isfinite(scale), scale, 0.1)"
   ]
  },
  {
   "cell_type": "code",
   "execution_count": null,
   "id": "b8be5690-394a-4725-b5f0-02887b95794c",
   "metadata": {},
   "outputs": [],
   "source": [
    "D_a_vals = cosmo.angular_diameter_distance(scale)\n",
    "rad_to_asec = 360*60*60/(2*np.pi) \n",
    "ang_scale = D_a_vals * 1000/ rad_to_asec\n",
    "dist_mods = cosmo.distance_modulus(scale)"
   ]
  },
  {
   "cell_type": "code",
   "execution_count": null,
   "id": "f6ec91d6-4a24-471b-9f7f-b906caa65f7b",
   "metadata": {},
   "outputs": [],
   "source": [
    "traces = {}\n",
    "for band in 'ugrizy':\n",
    "   traces[band] = ot[f\"{band}_ixx\"] + ot[f\"{band}_iyy\"]\n"
   ]
  },
  {
   "cell_type": "code",
   "execution_count": null,
   "id": "db11c011-6010-4274-b779-3854ecb4f273",
   "metadata": {},
   "outputs": [],
   "source": [
    "chords = {}\n",
    "for band in 'ugrizy':\n",
    "   chords[band] = np.sqrt(ot[f\"{band}_ixx\"] + ot[f\"{band}_iyy\"])\n",
    "\n",
    "chords2d = np.vstack( [chords[band] for band in 'griz'] )\n",
    "chord_scatter = np.var(chords2d, axis=0)\n",
    "chord_mean = np.mean(chords2d, axis=0)"
   ]
  },
  {
   "cell_type": "code",
   "execution_count": null,
   "id": "b4af21f0-369f-4d08-b3f5-1bd739371f98",
   "metadata": {},
   "outputs": [],
   "source": []
  },
  {
   "cell_type": "code",
   "execution_count": null,
   "id": "532e8646-af14-4369-b0dc-c41dc0aa06cc",
   "metadata": {},
   "outputs": [],
   "source": [
    "g_z_size_ratio = np.log10(chords['g'] / chords['z'])\n",
    "g_z_1p0_color_diff = (ot['g_psfMag'] - ot['z_psfMag']) - (ot['g_gaap1p0Mag'] - ot['z_gaap1p0Mag'])\n",
    "g_z_1p5_color_diff = (ot['g_psfMag'] - ot['z_psfMag']) - (ot['g_gaap1p5Mag'] - ot['z_gaap1p5Mag'])\n",
    "g_z_2p5_color_diff = (ot['g_psfMag'] - ot['z_psfMag']) - (ot['g_gaap2p5Mag'] - ot['z_gaap2p5Mag'])\n",
    "g_z_3p0_color_diff = (ot['g_psfMag'] - ot['z_psfMag']) - (ot['g_gaap3p0Mag'] - ot['z_gaap3p0Mag'])\n",
    "size_mask = np.bitwise_and(\n",
    "    np.bitwise_and(\n",
    "        np.isfinite(g_z_size_ratio[mask]),\n",
    "        np.isfinite(g_z_2p5_color_diff[mask]),\n",
    "    ),\n",
    "    np.isfinite(g_z_3p0_color_diff[mask]),\n",
    ")\n"
   ]
  },
  {
   "cell_type": "code",
   "execution_count": null,
   "id": "a3aa8ede-b603-40db-91b7-324c21ae3ac3",
   "metadata": {},
   "outputs": [],
   "source": [
    "np.corrcoef(g_z_size_ratio[mask][size_mask], g_z_1p0_color_diff[mask][size_mask])[1,0]"
   ]
  },
  {
   "cell_type": "code",
   "execution_count": null,
   "id": "c72d8a69-b212-48fc-8968-cd30df29a501",
   "metadata": {},
   "outputs": [],
   "source": [
    "correl = np.corrcoef(g_z_size_ratio[mask][size_mask], g_z_1p0_color_diff[mask][size_mask])[1,0]\n",
    "_ = plt.scatter(g_z_size_ratio[mask], g_z_1p0_color_diff[mask], c=redshifts[mask], label=f\"Correl = {correl:0.3f}\")\n",
    "_ = plt.xlim(-1, 1)\n",
    "_ = plt.ylim(-1, 1)\n",
    "_ = plt.legend()"
   ]
  },
  {
   "cell_type": "code",
   "execution_count": null,
   "id": "787fe7e4-d12b-4808-bb77-c397b77c4f77",
   "metadata": {},
   "outputs": [],
   "source": [
    "#_ = plt.scatter((t['g_psfMag'] - t['z_psfMag'])[mask], g_z_1p5_color_diff[mask], c=redshifts[mask], s=1)\n",
    "_ = plt.hist2d((t['g_psfMag'] - t['z_psfMag'])[mask], g_z_1p5_color_diff[mask], bins=(np.linspace(-1,4, 101), np.linspace(-1,1,101)), norm='log')\n",
    "\n",
    "_ = plt.xlim(-1, 4)\n",
    "_ = plt.ylim(-1, 1)\n",
    "_ = plt.colorbar()"
   ]
  },
  {
   "cell_type": "code",
   "execution_count": null,
   "id": "f3b704cf-fb3f-4086-8df5-e968ebb8106e",
   "metadata": {},
   "outputs": [],
   "source": [
    "correl = np.corrcoef(2*g_z_size_ratio[mask][size_mask], g_z_1p5_color_diff[mask][size_mask])[1,0]\n",
    "_ = plt.scatter(2*g_z_size_ratio[mask], g_z_1p5_color_diff[mask], c=redshifts[mask], s=1, label=f\"Correl = {correl:0.3f}\")\n",
    "_ = plt.xlim(-1, 1)\n",
    "_ = plt.ylim(-1, 1)\n",
    "_ = plt.legend()\n",
    "_ = plt.colorbar()\n",
    "_ = plt.xlabel(r'$\\log_{10}{\\frac{T_{\\rm g}}{T_{\\rm z}}}$')\n",
    "_ = plt.ylabel(r'$(g-z)_{\\rm PSF} - (g-z)_{\\rm gaap 1.5}$ [mag]')"
   ]
  },
  {
   "cell_type": "code",
   "execution_count": null,
   "id": "8a2b0c38-4f97-430c-b6b6-3810bc813ebf",
   "metadata": {},
   "outputs": [],
   "source": [
    "_ = plt.scatter(redshifts[mask], 2*g_z_size_ratio[mask], c=(t['g_psfMag']-t['z_psfMag'])[mask], s=1)\n",
    "_ = plt.colorbar()\n",
    "_ = plt.xlim(0, 4)\n",
    "_ = plt.ylim(-1, 1)"
   ]
  },
  {
   "cell_type": "code",
   "execution_count": null,
   "id": "a37cf98b-c326-4978-a3c0-e6a560cc4feb",
   "metadata": {},
   "outputs": [],
   "source": [
    "_ = plt.scatter(redshifts[spiral_mask], 2*g_z_size_ratio[spiral_mask], c=(t['g_psfMag']-t['z_psfMag'])[spiral_mask], s=1)\n",
    "_ = plt.colorbar()\n",
    "_ = plt.xlim(0, 4)\n",
    "_ = plt.ylim(-1, 1)"
   ]
  },
  {
   "cell_type": "code",
   "execution_count": null,
   "id": "306b56fd-cea0-4b74-978b-c4424a62ceab",
   "metadata": {},
   "outputs": [],
   "source": [
    "_ = plt.scatter((t['g_psfMag']-t['z_psfMag'])[mask], sersic_index[mask], c=redshifts[mask], s=1, norm='log')\n",
    "_ = plt.colorbar()"
   ]
  },
  {
   "cell_type": "code",
   "execution_count": null,
   "id": "7e29748f-c5ed-414f-a949-ccf9ee42899e",
   "metadata": {},
   "outputs": [],
   "source": [
    "_ = plt.scatter(sersic_chord[mask], sersic_index[mask], c=mag[mask], s=1)\n",
    "_ = plt.xlim(0, 10)\n",
    "_ = plt.colorbar()"
   ]
  },
  {
   "cell_type": "code",
   "execution_count": null,
   "id": "61053f55-77ea-4207-bf87-764c287eb0ca",
   "metadata": {},
   "outputs": [],
   "source": [
    "_ = plt.scatter(sersic_chord[mask], mag[mask], c=sersic_index[mask], s=1)\n",
    "_ = plt.xlim(0, 10)\n",
    "_ = plt.colorbar()"
   ]
  },
  {
   "cell_type": "code",
   "execution_count": null,
   "id": "21042ef7-7474-4308-9a3f-71a8ae2ac575",
   "metadata": {},
   "outputs": [],
   "source": [
    "_ = plt.scatter(sersic_index[mask], mag[mask], s=1, c=sersic_chord[mask])\n",
    "_ = plt.xlim(0, 6)\n",
    "_ = plt.colorbar()"
   ]
  },
  {
   "cell_type": "code",
   "execution_count": null,
   "id": "7ca887d0-d01a-4e41-a3de-b4be3ca38bea",
   "metadata": {},
   "outputs": [],
   "source": [
    "_ = plt.scatter(redshifts[ellip_mask], 2*g_z_size_ratio[ellip_mask], c=(t['g_psfMag']-t['z_psfMag'])[ellip_mask], s=1)\n",
    "_ = plt.colorbar()\n",
    "_ = plt.xlim(0, 4)\n",
    "_ = plt.ylim(-1, 1)"
   ]
  },
  {
   "cell_type": "code",
   "execution_count": null,
   "id": "77e0f5b5-1777-4da8-848f-e8ca144cd41d",
   "metadata": {},
   "outputs": [],
   "source": [
    "correl = np.corrcoef(g_z_size_ratio[mask][size_mask], g_z_2p5_color_diff[mask][size_mask])[1,0]\n",
    "_ = plt.scatter(g_z_size_ratio[mask], g_z_2p5_color_diff[mask], c=redshifts[mask], label=f\"Correl = {correl:0.3f}\")\n",
    "_ = plt.xlim(-1, 1)\n",
    "_ = plt.ylim(-1, 1)\n",
    "_ = plt.legend()"
   ]
  },
  {
   "cell_type": "code",
   "execution_count": null,
   "id": "1a50bf3c-a82d-4ebb-aee8-12eaa9e3757b",
   "metadata": {},
   "outputs": [],
   "source": [
    "_ = plt.hist2d(redshifts[mask], sersic_ratio[mask], bins=(np.linspace(0.,4.,101), np.linspace(1.5, 8., 101)), norm='log')"
   ]
  },
  {
   "cell_type": "code",
   "execution_count": null,
   "id": "fe525640-2a41-483d-9802-bf1bdde376e3",
   "metadata": {},
   "outputs": [],
   "source": [
    "_ = plt.hist2d(redshifts[mask], sersic_index[mask], bins=(np.linspace(0.,4.,101), np.linspace(0.5, 6., 101)), norm='log')"
   ]
  },
  {
   "cell_type": "code",
   "execution_count": null,
   "id": "42107227-adea-42db-8cfb-e4da9b4486c1",
   "metadata": {},
   "outputs": [],
   "source": [
    "_ = plt.scatter(sersic_index[mask], sersic_ratio[mask])"
   ]
  },
  {
   "cell_type": "code",
   "execution_count": null,
   "id": "365dbf57-fa73-40f1-89df-a117c5885b86",
   "metadata": {},
   "outputs": [],
   "source": [
    "correl = np.corrcoef(g_z_size_ratio[mask][size_mask], g_z_3p0_color_diff[mask][size_mask])[1,0]\n",
    "_ = plt.scatter(g_z_size_ratio[mask], g_z_3p0_color_diff[mask], c=redshifts[mask], label=f\"Correl = {correl:0.3f}\")\n",
    "_ = plt.xlim(-1, 1)\n",
    "_ = plt.ylim(-1, 1)\n",
    "_ = plt.legend()"
   ]
  },
  {
   "cell_type": "code",
   "execution_count": null,
   "id": "836cac5d-690c-4f6e-8923-35c7b4285bb0",
   "metadata": {},
   "outputs": [],
   "source": [
    "_ = plt.plot(z_grid, ang_scale_z)\n",
    "_ = plt.ylabel(r'Angular Scale [kpc $arcsec^{-1}$]')\n",
    "_ = plt.xlabel('redshift')"
   ]
  },
  {
   "cell_type": "code",
   "execution_count": null,
   "id": "12ac3102-44c3-4b95-9925-40395ebf5708",
   "metadata": {},
   "outputs": [],
   "source": [
    "_ = plt.hist2d(redshifts, sersic_chord*0.2*ang_scale, bins=(np.linspace(0., 3., 301), np.linspace(0, 50, 101)), norm='log', cmap='gray')\n",
    "_ = plt.xlabel('Redshift')\n",
    "_ = plt.ylabel(r'$r_{90}$ [kpc]')\n",
    "_ = plt.plot(z_grid, 0.6*ang_scale_z, label=\"PSF (0.5\\\")\")\n",
    "_ = plt.legend()"
   ]
  },
  {
   "cell_type": "code",
   "execution_count": null,
   "id": "b10ce304-1f32-4e36-ac1f-8cd1f0623d35",
   "metadata": {},
   "outputs": [],
   "source": [
    "_ = plt.hist2d(redshifts, sersic_ratio*sersic_chord*0.2*ang_scale, bins=(np.linspace(0., 3., 301), np.linspace(0, 50, 101)), norm='log', cmap='gray')\n",
    "_ = plt.xlabel('Redshift')\n",
    "_ = plt.ylabel(r'$r_{90}$ [kpc]')\n",
    "_ = plt.plot(z_grid, 0.6*ang_scale_z, label=\"PSF (0.5\\\")\")\n",
    "_ = plt.legend()"
   ]
  },
  {
   "cell_type": "code",
   "execution_count": null,
   "id": "be5a7e7b-2d58-4975-b1f6-dd2beecc45ff",
   "metadata": {},
   "outputs": [],
   "source": [
    "_ = plt.hist2d(sersic_ratio*sersic_chord*0.2*ang_scale, psfmag-dist_mods, bins=(np.linspace(0, 50, 101), np.linspace(-25, -10, 101)), norm='log', cmap='gray')\n",
    "_ = plt.ylabel('Absolute Magntidue [mag]')\n",
    "_ = plt.xlabel(r'$r_{90}$ [kpc]')"
   ]
  },
  {
   "cell_type": "code",
   "execution_count": null,
   "id": "077b4d08-cc34-479d-913b-513c8451ef5d",
   "metadata": {},
   "outputs": [],
   "source": [
    "_ = plt.scatter(sersic_ratio*sersic_chord*0.2*ang_scale, mag-dist_mods, c=redshifts, cmap='rainbow', s=1)\n",
    "_ = plt.ylim(-30, -5)\n",
    "_ = plt.xlim(0, 50)\n",
    "_ = plt.xlabel(r'$r_{90}$ [kpc]')\n",
    "_ = plt.ylabel('Absolute Magntidue [mag]')\n",
    "_ = plt.colorbar()"
   ]
  },
  {
   "cell_type": "code",
   "execution_count": null,
   "id": "bed18c27-7e11-424c-bcb5-54703144c1bc",
   "metadata": {},
   "outputs": [],
   "source": [
    "mask_lo = redshifts < 1\n",
    "mask_hi = redshifts > 1"
   ]
  },
  {
   "cell_type": "code",
   "execution_count": null,
   "id": "a9133844-7358-4ade-a986-095e3db0808c",
   "metadata": {},
   "outputs": [],
   "source": [
    "_ = plt.scatter((sersic_ratio*sersic_chord*0.2*ang_scale)[mask_lo], (mag-dist_mods)[mask_lo], c=redshifts[mask_lo], cmap='rainbow', s=1)\n",
    "_ = plt.ylim(-30, -5)\n",
    "_ = plt.xlim(0, 50)\n",
    "_ = plt.xlabel(r'$r_{90}$ [kpc]')\n",
    "_ = plt.ylabel('Absolute Magntidue [mag]')\n",
    "_ = plt.colorbar()"
   ]
  },
  {
   "cell_type": "code",
   "execution_count": null,
   "id": "8f06a4c7-a026-4ff0-8287-9782529226f1",
   "metadata": {},
   "outputs": [],
   "source": [
    "_ = plt.scatter((sersic_chord*0.2*ang_scale)[mask_lo], (mag-dist_mods)[mask_lo], c=redshifts[mask_lo], cmap='rainbow', s=1)\n",
    "_ = plt.ylim(-30, -5)\n",
    "_ = plt.xlim(0, 15)\n",
    "_ = plt.xlabel(r'$r_{50}$ [kpc]')\n",
    "_ = plt.ylabel('Absolute Magntidue [mag]')\n",
    "_ = plt.colorbar()"
   ]
  },
  {
   "cell_type": "code",
   "execution_count": null,
   "id": "351058b4-67a0-4c8f-b2c1-c0d19613ba42",
   "metadata": {},
   "outputs": [],
   "source": [
    "_ = plt.scatter((sersic_ratio*sersic_chord*0.2*ang_scale)[mask_hi], (mag-dist_mods)[mask_hi], c=redshifts[mask_hi], cmap='rainbow', s=1)\n",
    "_ = plt.ylim(-30, -5)\n",
    "_ = plt.xlim(0, 50)\n",
    "_ = plt.xlabel(r'$r_{90}$ [kpc]')\n",
    "_ = plt.ylabel('Absolute Magntidue [mag]')\n",
    "_ = plt.colorbar()"
   ]
  },
  {
   "cell_type": "code",
   "execution_count": null,
   "id": "fba2e672-e07a-41a0-9a70-f1b886e00783",
   "metadata": {},
   "outputs": [],
   "source": [
    "_ = plt.scatter((sersic_chord*0.2*ang_scale)[mask_hi], (mag-dist_mods)[mask_hi], c=redshifts[mask_hi], cmap='rainbow', s=1)\n",
    "_ = plt.ylim(-30, -5)\n",
    "_ = plt.xlim(0, 15)\n",
    "_ = plt.xlabel(r'$r_{50}$ [kpc]')\n",
    "_ = plt.ylabel('Absolute Magntidue [mag]')\n",
    "_ = plt.colorbar()"
   ]
  },
  {
   "cell_type": "code",
   "execution_count": null,
   "id": "b2e56600-ee09-46b7-80da-8e1e5c03bdb4",
   "metadata": {},
   "outputs": [],
   "source": [
    "_ = plt.hist2d(redshifts, mag-dist_mods, bins=(np.linspace(0., 3., 301), np.linspace(-25, -10, 101)), norm='log', cmap='gray')\n",
    "_ = plt.plot(z_grid, 26.0-dist_mod, label=r'$i_{\\rm mag} < 26$')\n",
    "_ = plt.xlabel('Redshift')\n",
    "_ = plt.ylabel('Absolute Magntidue [mag]')\n",
    "_ = plt.legend()"
   ]
  },
  {
   "cell_type": "code",
   "execution_count": null,
   "id": "aa039326-1764-41c3-af09-bfdb34b6f9b4",
   "metadata": {},
   "outputs": [],
   "source": [
    "_ = plt.hist2d(redshifts, sersic_chord*0.2*ang_scale, bins=(np.linspace(0., 3., 301), np.linspace(0, 20, 101)), norm='log', cmap='gray')\n",
    "_ = plt.xlabel('Redshift')\n",
    "_ = plt.ylabel(r'$r_{50}$ [kpc]')\n",
    "_ = plt.plot(z_grid, 0.6*ang_scale_z, label=\"PSF (0.6\\\")\")\n",
    "_ = plt.legend()"
   ]
  },
  {
   "cell_type": "code",
   "execution_count": null,
   "id": "0814712c-b6b6-42d4-a933-c4eee837e80f",
   "metadata": {},
   "outputs": [],
   "source": [
    "_ = plt.hist2d(redshifts, sersic_ratio*sersic_chord*0.2*ang_scale, bins=(np.linspace(0., 3., 301), np.logspace(-1, 3, 101)), norm='log', cmap='gray')\n",
    "_ = plt.xlabel('Redshift')\n",
    "_ = plt.ylabel(r'$r_{90}$ [kpc]')\n",
    "_ = plt.yscale('log')\n",
    "_ = plt.plot(z_grid, 0.6*ang_scale_z, label=\"PSF (0.6\\\")\")\n",
    "_ = plt.legend()"
   ]
  },
  {
   "cell_type": "code",
   "execution_count": null,
   "id": "2df35a0f-0f48-42e8-935e-3f9a86f73f12",
   "metadata": {},
   "outputs": [],
   "source": [
    "chord_mean"
   ]
  },
  {
   "cell_type": "code",
   "execution_count": null,
   "id": "bfaf2c87-58c0-4bc3-9eff-caeaea3b0b17",
   "metadata": {},
   "outputs": [],
   "source": [
    "_ = plt.hist2d(chord_mean, sersic_chord, bins=(np.linspace(0, 15, 101), np.linspace(0, 15, 101)), norm='log', cmap='gray')"
   ]
  },
  {
   "cell_type": "code",
   "execution_count": null,
   "id": "8fccdced-5de8-4e88-ba29-60bc52d1234b",
   "metadata": {},
   "outputs": [],
   "source": []
  }
 ],
 "metadata": {
  "kernelspec": {
   "display_name": "Python 3 (ipykernel)",
   "language": "python",
   "name": "python3"
  },
  "language_info": {
   "codemirror_mode": {
    "name": "ipython",
    "version": 3
   },
   "file_extension": ".py",
   "mimetype": "text/x-python",
   "name": "python",
   "nbconvert_exporter": "python",
   "pygments_lexer": "ipython3",
   "version": "3.13.3"
  }
 },
 "nbformat": 4,
 "nbformat_minor": 5
}
