{
 "cells": [
  {
   "cell_type": "markdown",
   "id": "031e96e2-e971-4e59-a1a2-b5b4c1911cb9",
   "metadata": {},
   "source": [
    "## Simple Notebook to evaluate the concertation (r_90 / r_50) vs. Sersic index"
   ]
  },
  {
   "cell_type": "markdown",
   "id": "3bc7a763-3ad9-435c-989c-6ffd8d5c3805",
   "metadata": {},
   "source": [
    "#### Standard imports"
   ]
  },
  {
   "cell_type": "code",
   "execution_count": null,
   "id": "e69f7655-74e0-42cb-9e9c-c430af4681ea",
   "metadata": {},
   "outputs": [],
   "source": [
    "import numpy as np\n",
    "import matplotlib.pyplot as plt\n"
   ]
  },
  {
   "cell_type": "markdown",
   "id": "506b1178-8cc6-41d9-be74-60482f5dfd62",
   "metadata": {},
   "source": [
    "#### Useful functions"
   ]
  },
  {
   "cell_type": "code",
   "execution_count": null,
   "id": "85bfc240-17af-4c2b-bf58-49ad1cb42c82",
   "metadata": {},
   "outputs": [],
   "source": [
    "def sersic_intensity(n, r_over_re):\n",
    "    b_n = 2.*n - (1./3.)\n",
    "    exp_arg = -1.0 * b_n * ( np.power(r_over_re, 1./n) -1 )\n",
    "    return np.exp(exp_arg)\n",
    "\n",
    "def sersic_flux(n, r_over_re):\n",
    "    intensities = sersic_intensity(n, r_over_re)\n",
    "    r_times_i = intensities*r_over_re\n",
    "    fluxes = np.cumsum(r_times_i)\n",
    "    return fluxes/ fluxes[50]\n",
    "\n",
    "def r_x(x, fluxes, r_over_re):\n",
    "    idx = np.searchsorted(fluxes, 2*x)\n",
    "    return r_over_re[idx]\n",
    "\n",
    "def r_of_x(x, n, r_over_re):\n",
    "    fluxes = sersic_flux(n, r_over_re)\n",
    "    return r_x(x, fluxes, r_over_re)"
   ]
  },
  {
   "cell_type": "code",
   "execution_count": null,
   "id": "fa4b58b2-f533-4875-a566-101eeb4fc768",
   "metadata": {},
   "outputs": [],
   "source": [
    "r_vals = np.linspace(0., 10., 501)\n",
    "n_vals = np.linspace(0.5, 6, 56)"
   ]
  },
  {
   "cell_type": "code",
   "execution_count": null,
   "id": "78305bc4-b44a-4ed9-893b-5637b6fd4641",
   "metadata": {},
   "outputs": [],
   "source": [
    "r_out = []\n",
    "for n in n_vals:\n",
    "    r_out.append(r_of_x(0.9, n, r_vals))\n",
    "r = np.array(r_out)"
   ]
  },
  {
   "cell_type": "code",
   "execution_count": null,
   "id": "3e91d245-d485-4b41-a6ed-e4ee75605ac9",
   "metadata": {},
   "outputs": [],
   "source": [
    "def r_90_of_n(n):\n",
    "    return 1.25 + 1.125*n"
   ]
  },
  {
   "cell_type": "markdown",
   "id": "d06a0b17-d2d4-4393-bfa3-dcd9ed82319e",
   "metadata": {},
   "source": [
    "#### Compare the numerical version and the super-simple approximation"
   ]
  },
  {
   "cell_type": "code",
   "execution_count": null,
   "id": "bea9115d-2229-44ae-ace9-31ffc8792722",
   "metadata": {},
   "outputs": [],
   "source": [
    "_ = plt.plot(n_vals, r, label=\"numerical\")\n",
    "#_ = plt.plot([n_vals[0], n_vals[-1]], [r[0], r[-1]], \n",
    "_ = plt.plot(n_vals, r_90_of_n(n_vals), label=r\"approx: $r_{90} = r_{50}\\frac{10 + 9n}{8}$\")\n",
    "_ = plt.xlabel(\"sersic index, n\")\n",
    "_ = plt.ylabel(r\"$r_{90}/r_{50}$\")\n",
    "_ = plt.legend()\n",
    "_ = plt.xlim(0, 9)\n",
    "_ = plt.ylim(0, 9)"
   ]
  },
  {
   "cell_type": "code",
   "execution_count": null,
   "id": "ac531f40-7432-49b8-928b-76ba653db7c5",
   "metadata": {},
   "outputs": [],
   "source": []
  },
  {
   "cell_type": "code",
   "execution_count": null,
   "id": "6a7b1f93-58d2-433c-bf82-9804fae22343",
   "metadata": {},
   "outputs": [],
   "source": []
  },
  {
   "cell_type": "code",
   "execution_count": null,
   "id": "8e51e1a7-8e77-4a97-9ef4-3745d02de15d",
   "metadata": {},
   "outputs": [],
   "source": []
  }
 ],
 "metadata": {
  "kernelspec": {
   "display_name": "Python 3 (ipykernel)",
   "language": "python",
   "name": "python3"
  },
  "language_info": {
   "codemirror_mode": {
    "name": "ipython",
    "version": 3
   },
   "file_extension": ".py",
   "mimetype": "text/x-python",
   "name": "python",
   "nbconvert_exporter": "python",
   "pygments_lexer": "ipython3",
   "version": "3.13.3"
  }
 },
 "nbformat": 4,
 "nbformat_minor": 5
}
