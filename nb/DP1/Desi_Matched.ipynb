{
 "cells": [
  {
   "cell_type": "markdown",
   "id": "8c1b4e32-664d-4179-8c7f-3eef35729deb",
   "metadata": {},
   "source": [
    "### This notebook compares DESI \"magnitudes\" with LSSTComCom magnitdues"
   ]
  },
  {
   "cell_type": "markdown",
   "id": "27631cdb-b1c0-446a-8100-de6fad56ef18",
   "metadata": {},
   "source": [
    "#### Usual imports"
   ]
  },
  {
   "cell_type": "code",
   "execution_count": null,
   "id": "c362b16c-1ff2-46e4-802c-266d5aaedcac",
   "metadata": {},
   "outputs": [],
   "source": [
    "import tables_io\n",
    "import numpy as np\n",
    "import matplotlib.pyplot as plt\n",
    "from rail.raruma import utility_functions as raruma_util\n",
    "from rail.raruma import plotting_functions as raruma_plot"
   ]
  },
  {
   "cell_type": "markdown",
   "id": "ecbe7b5d-7312-4f64-9be1-a6854d856b20",
   "metadata": {},
   "source": [
    "#### Change this to be the root of the current PZ working area"
   ]
  },
  {
   "cell_type": "code",
   "execution_count": null,
   "id": "410b0716-73af-491e-845e-ee2cebaf6651",
   "metadata": {},
   "outputs": [],
   "source": [
    "# pz_dir = '/global/cfs/cdirs/lsst/groups/PZ/DP1'\n",
    "# if that fails you can use this\n",
    "# pz_dir = '/global/u2/e/echarles/dx'\n",
    "pz_dir = '/Users/echarles/pz'"
   ]
  },
  {
   "cell_type": "markdown",
   "id": "578f2395-70af-44d5-8235-4747d6142fee",
   "metadata": {},
   "source": [
    "#### Get the data"
   ]
  },
  {
   "cell_type": "code",
   "execution_count": null,
   "id": "721fb462-b599-4321-8e7b-cb01a8ae8ef8",
   "metadata": {},
   "outputs": [],
   "source": [
    "t = tables_io.read(f'{pz_dir}/sandbox_data/desi/desi_dp1_matches.fits')"
   ]
  },
  {
   "cell_type": "code",
   "execution_count": null,
   "id": "dd2c49f5-4f00-447d-933c-0282f2aa4d04",
   "metadata": {},
   "outputs": [],
   "source": [
    "t.columns"
   ]
  },
  {
   "cell_type": "code",
   "execution_count": null,
   "id": "0bd183f6-2a6f-4ae6-b7ca-bbe75c4eb818",
   "metadata": {},
   "outputs": [],
   "source": [
    "#### Scatter plot of i magntidue v. redshift"
   ]
  },
  {
   "cell_type": "code",
   "execution_count": null,
   "id": "c763fd19-f5b7-4745-ad66-5ab461a15e2a",
   "metadata": {},
   "outputs": [],
   "source": [
    "_ = plt.hist2d(t['zred_DESI'], t['i_psfMag'],  bins=(np.linspace(0, 1.6, 101), np.linspace(16, 26, 101)), cmap='gray', norm='log')\n",
    "_ = plt.colorbar()\n",
    "_ = plt.xlabel(r'$z_{\\rm ref}$')\n",
    "_ = plt.ylabel('i [mag]')\n",
    "               "
   ]
  },
  {
   "cell_type": "markdown",
   "id": "fc02ecfa-c9c5-4c68-abe2-53e3a261ad19",
   "metadata": {},
   "source": [
    "#### Get various set of colors for the different flux measures"
   ]
  },
  {
   "cell_type": "code",
   "execution_count": null,
   "id": "bb39b0c9-a466-4ef4-a9c7-f18f2502445c",
   "metadata": {},
   "outputs": [],
   "source": [
    "colors_desi = raruma_util.make_colors(t, '{band}_DESI', 'griz')\n",
    "colors_psf = raruma_util.make_colors(t, '{band}_psfMag', 'griz')\n",
    "colors_cmodel = raruma_util.make_colors(t, '{band}_cModelMag', 'griz')\n",
    "colors_1p0 = raruma_util.make_colors(t, '{band}_gaap1p0Mag', 'griz')\n",
    "colors_3p0 = raruma_util.make_colors(t, '{band}_gaap3p0Mag', 'griz')\n",
    "colors_sersic = raruma_util.make_colors(t, '{band}_sersicMag', 'griz')\n",
    "redshifts = t['zred_DESI']"
   ]
  },
  {
   "cell_type": "markdown",
   "id": "d008f0a1-94dd-41a7-9bac-65af180c2fb0",
   "metadata": {},
   "source": [
    "#### Desi v. Sersic r-i colors"
   ]
  },
  {
   "cell_type": "code",
   "execution_count": null,
   "id": "f6605872-04db-44bf-9457-d51ab24697af",
   "metadata": {},
   "outputs": [],
   "source": [
    "_ = plt.hist2d(colors_desi['r-i'], colors_sersic['r-i'], bins=(np.linspace(-2.5, 2.5, 101), np.linspace(-2.5, 2.5, 101)), cmap='gray', norm='log')\n",
    "_ = plt.plot([-2.5,-2.5],[2.5,2.5])\n",
    "_ = plt.ylabel(r'$g-r_{\\rm Psf}$ [mag]')\n",
    "_ = plt.xlabel(r'$g-r_{\\rm DESI}$ [mag]')"
   ]
  },
  {
   "cell_type": "markdown",
   "id": "d10327f3-5c9c-4bd7-bed6-cec8acbee3c8",
   "metadata": {},
   "source": [
    "#### Differences between 3p0  and PSF colors vs. PSF colors (r-i and g-r)"
   ]
  },
  {
   "cell_type": "code",
   "execution_count": null,
   "id": "a46f7e70-28e6-493a-9d1c-672fa20644a8",
   "metadata": {},
   "outputs": [],
   "source": [
    "_ = plt.hist2d(colors_psf['r-i'], colors_psf['r-i']-colors_3p0['r-i'], bins=(np.linspace(-0.5, 2.5, 101), np.linspace(-0.5, 0.5, 101)), cmap='gray', norm='log')\n"
   ]
  },
  {
   "cell_type": "code",
   "execution_count": null,
   "id": "0933d3b2-66bb-4511-aa46-2203c4dea0ef",
   "metadata": {},
   "outputs": [],
   "source": [
    "_ = plt.hist2d(colors_psf['g-r'], colors_psf['g-r']-colors_3p0['g-r'], bins=(np.linspace(-0.5, 2.5, 101), np.linspace(-0.5, 0.5, 101)), cmap='gray', norm='log')\n"
   ]
  },
  {
   "cell_type": "markdown",
   "id": "7635841d-24cd-4de1-96d5-2964a13d95d5",
   "metadata": {},
   "source": [
    "#### Histograms of the color differences"
   ]
  },
  {
   "cell_type": "code",
   "execution_count": null,
   "id": "c5d62b7f-4671-440c-913a-fb78677ab186",
   "metadata": {},
   "outputs": [],
   "source": [
    "_ = plt.hist(colors_3p0['r-i']-colors_psf['r-i'], bins=np.linspace(-0.5, 0.5, 101))\n",
    "_ = plt.hist(colors_1p0['r-i']-colors_psf['r-i'], bins=np.linspace(-0.5, 0.5, 101))\n",
    "_ = plt.hist(colors_cmodel['r-i']-colors_psf['r-i'], bins=np.linspace(-0.5, 0.5, 101))\n",
    "_ = plt.hist(colors_sersic['r-i']-colors_psf['r-i'], bins=np.linspace(-0.5, 0.5, 101))"
   ]
  },
  {
   "cell_type": "markdown",
   "id": "bae4d87c-c31c-4ec5-93e4-5f609da423e2",
   "metadata": {},
   "source": [
    "### PSF v. Sersic colors.  "
   ]
  },
  {
   "cell_type": "code",
   "execution_count": null,
   "id": "6b50a223-f297-4c05-b845-5b3ee5974d65",
   "metadata": {},
   "outputs": [],
   "source": [
    "_ = plt.hist2d(colors_sersic['r-i'], colors_psf['r-i'], bins=(np.linspace(-2.5, 2.5, 101), np.linspace(-2.5, 2.5, 101)), cmap='gray', norm='log')\n",
    "_ = plt.plot([-2.5,-2.5],[2.5,2.5])\n",
    "_ = plt.ylabel(r'$g-r_{\\rm cModel}$ [mag]')\n",
    "_ = plt.xlabel(r'$g-r_{\\rm DESI}$ [mag]')"
   ]
  },
  {
   "cell_type": "code",
   "execution_count": null,
   "id": "403894b3-7133-4dee-aa70-6a85d0776b9b",
   "metadata": {},
   "outputs": [],
   "source": [
    "_ = plt.hist(colors_sersic['g-r']-colors_psf['g-r'], bins=(np.linspace(-1.0, 1.0, 101)))\n",
    "_ = plt.xlabel(r'$g-r_{\\rm sersic}$ $g-r_{\\rm PSF}$ [mag]')"
   ]
  },
  {
   "cell_type": "markdown",
   "id": "5baa0072-2382-4355-b6d4-ff0368bb7112",
   "metadata": {},
   "source": [
    "#### psf v. 3p0 colors"
   ]
  },
  {
   "cell_type": "code",
   "execution_count": null,
   "id": "e0cdc752-756d-4aa5-91e9-005cea8e0b06",
   "metadata": {},
   "outputs": [],
   "source": [
    "_ = plt.hist2d(colors_3p0['r-i'], colors_psf['r-i'], bins=(np.linspace(-2.5, 2.5, 101), np.linspace(-2.5, 2.5, 101)), cmap='gray', norm='log')\n",
    "_ = plt.plot([-2.5,-2.5],[2.5,2.5])\n",
    "_ = plt.ylabel(r'$g-r_{\\rm cModel}$ [mag]')\n",
    "_ = plt.xlabel(r'$g-r_{\\rm DESI}$ [mag]')"
   ]
  },
  {
   "cell_type": "code",
   "execution_count": null,
   "id": "68389fd3-1840-4e41-a4cf-d1ab1c76c522",
   "metadata": {},
   "outputs": [],
   "source": [
    "_ = plt.hist(colors_3p0['g-r']-colors_psf['g-r'], bins=(np.linspace(-1.0, 1.0, 101)))\n",
    "_ = plt.xlabel(r'$g-r_{\\rm sersic}$ $g-r_{\\rm PSF}$ [mag]')"
   ]
  },
  {
   "cell_type": "code",
   "execution_count": null,
   "id": "8f9cc84b-654e-462a-b6d8-2ab06d9c2047",
   "metadata": {},
   "outputs": [],
   "source": [
    "_ = plt.hist2d(t['zred_DESI'], colors_sersic['g-r']-colors_psf['g-r'], bins=(np.linspace(0, 1.5, 101), np.linspace(-0.5, 0.5, 101)), norm='log')\n",
    "_ = plt.ylabel(r'$g-r_{\\rm cModel}$ $g-r_{\\rm PSF}$ [mag]')"
   ]
  },
  {
   "cell_type": "code",
   "execution_count": null,
   "id": "1ba04a0b-4c1c-4cf6-8e67-0f8fa99aa6d6",
   "metadata": {},
   "outputs": [],
   "source": [
    "_ = plt.hist2d(t['zred_DESI'], colors_sersic['g-r']-colors_psf['g-r'], bins=(np.linspace(0, 1.5, 101), np.linspace(-0.5, 0.5, 101)), norm='log')\n",
    "_ = plt.ylabel(r'$g-r_{\\rm cModel}$ $g-r_{\\rm PSF}$ [mag]')"
   ]
  },
  {
   "cell_type": "code",
   "execution_count": null,
   "id": "7fe7359b-1132-4479-a2cd-5d8715a537ab",
   "metadata": {},
   "outputs": [],
   "source": [
    "_ = plt.hist2d(t['zred_DESI'], t['g_psfMag']-t['g_cModelMag'], bins=(np.linspace(0, 1.5, 101), np.linspace(-0.25, 1.25, 101)))\n",
    "_ = plt.ylabel(r'$g-r_{\\rm cModel}$ $g-r_{\\rm PSF}$ [mag]')"
   ]
  },
  {
   "cell_type": "code",
   "execution_count": null,
   "id": "8432e39b-70c7-43f2-9ff3-45c0e4775d91",
   "metadata": {},
   "outputs": [],
   "source": [
    "_ = plt.hist2d(t['zred_DESI'], t['g_psfMag']-t['r_psfMag'], bins=(np.linspace(0, 1.5, 101), np.linspace(-0.25, 2.25, 101)))\n",
    "_ = plt.ylabel(r'$g-r_{\\rm cModel}$ $g-r_{\\rm PSF}$ [mag]')"
   ]
  },
  {
   "cell_type": "code",
   "execution_count": null,
   "id": "8d0d9259-d68d-4d10-822c-d10775e063c3",
   "metadata": {},
   "outputs": [],
   "source": [
    "_ = plt.hist2d(t['g_cModelMag'], t['g_cModelMagErr'], bins=(np.linspace(20, 26, 101), np.linspace(0., 0.3, 101)))\n"
   ]
  },
  {
   "cell_type": "code",
   "execution_count": null,
   "id": "451283a7-9569-445f-a0ce-3b453a425bef",
   "metadata": {},
   "outputs": [],
   "source": [
    "_ = plt.scatter(t['g_psfMag'], t['g_psfMagErr'], color='red', s=1)\n",
    "_ = plt.scatter(t['g_cModelMag'], t['g_cModelMagErr'], color='blue', s=1)\n",
    "_ = plt.ylim(0., 2.)"
   ]
  },
  {
   "cell_type": "code",
   "execution_count": null,
   "id": "66378dcc-f4ed-4c67-98df-544b63e78516",
   "metadata": {},
   "outputs": [],
   "source": [
    "_ = plt.hist2d(t['g_cModelMag'], t['g_psfMag']-t['g_cModelMag'], bins=(np.linspace(20, 25, 101), np.linspace(-0.25, 3.25, 101)))\n",
    "_ = plt.ylabel(r'$g-r_{\\rm cModel}$ $g-r_{\\rm PSF}$ [mag]')"
   ]
  },
  {
   "cell_type": "code",
   "execution_count": null,
   "id": "90add03e-6ded-43e3-ad99-9a143982a808",
   "metadata": {},
   "outputs": [],
   "source": [
    "_ = plt.hist(colors_desi['r-i']-colors_psf['r-i'], bins=(np.linspace(-1.0, 1.0, 101)))\n",
    "_ = plt.xlabel(r'$g-r_{\\rm Psf}$ - $g-r_{\\rm DESI}$ [mag]')\n"
   ]
  },
  {
   "cell_type": "code",
   "execution_count": null,
   "id": "d4d2ed9b-4534-4759-86a5-515ae67ebb4c",
   "metadata": {},
   "outputs": [],
   "source": [
    "_ = plt.hist(colors_desi['r-i']-colors_cmodel['r-i'], bins=(np.linspace(-1.0, 1.0, 101)))\n",
    "_ = plt.ylabel(r'$g-r_{\\rm Psf}$ - $g-r_{\\rm DESI}$ [mag]')\n"
   ]
  },
  {
   "cell_type": "code",
   "execution_count": null,
   "id": "4670dda6-ff82-4ade-bd45-d4bb13153153",
   "metadata": {},
   "outputs": [],
   "source": [
    "_ = plt.hist2d(colors_desi['r-i'], colors_cmodel['r-i'], bins=(np.linspace(-2.5, 2.5, 101), np.linspace(-2.5, 2.5, 101)), cmap='gray', norm='log')\n",
    "_ = plt.plot([-2.5,-2.5],[2.5,2.5])\n",
    "_ = plt.ylabel(r'$g-r_{\\rm cModel}$ [mag]')\n",
    "_ = plt.xlabel(r'$g-r_{\\rm DESI}$ [mag]')"
   ]
  },
  {
   "cell_type": "code",
   "execution_count": null,
   "id": "c9aca78f-d7ca-446e-8503-5cd0d1a27954",
   "metadata": {},
   "outputs": [],
   "source": []
  },
  {
   "cell_type": "code",
   "execution_count": null,
   "id": "3cb31ffd-9616-4733-b318-2c379aa7175c",
   "metadata": {},
   "outputs": [],
   "source": [
    "_ = plt.hist2d(t['g_psfMag'], t['g_DESI'], bins=(np.linspace(16, 26, 101), np.linspace(16, 26, 101)), cmap='gray', norm='log')\n",
    "_ = plt.plot([16,26],[16,26])\n",
    "_ = plt.xlabel(r'$g_{\\rm Psf}$ [mag]')\n",
    "_ = plt.ylabel(r'$g_{\\rm DESI}$ [mag]')"
   ]
  },
  {
   "cell_type": "code",
   "execution_count": null,
   "id": "c52fed49-5b62-4890-b924-3c44ba922e96",
   "metadata": {},
   "outputs": [],
   "source": [
    "t"
   ]
  },
  {
   "cell_type": "code",
   "execution_count": null,
   "id": "ad1c965a-05fd-4f09-9bbf-fa5b341c3e49",
   "metadata": {},
   "outputs": [],
   "source": [
    "def plot_scatter(t, flux_type, bands):\n",
    "    fig = plt.figure()\n",
    "    axes = fig.subplots(2, 2)\n",
    "    for i, band in enumerate(bands):\n",
    "        icol = i%2\n",
    "        irow = int(i/2)\n",
    "        axs = axes[irow][icol]\n",
    "        axs.hist2d(t[f\"{band}_{flux_type}Mag\"], t[f'{band}_DESI'], bins=(np.linspace(16, 26, 101), np.linspace(16, 26, 101)), cmap='gray', norm='log')\n",
    "        axs.plot([16,26],[16,26])\n",
    "        axs.set_xlabel(f'{band} {flux_type} [mag]')\n",
    "        axs.set_ylabel(f'{band} DESI [mag]')\n",
    "    fig.tight_layout()"
   ]
  },
  {
   "cell_type": "code",
   "execution_count": null,
   "id": "05250034-2754-4d8c-864e-5975d3d651fa",
   "metadata": {},
   "outputs": [],
   "source": [
    "def plot_resid(t, flux_type, bands):\n",
    "    fig = plt.figure()\n",
    "    axes = fig.subplots(2, 2)\n",
    "    for i, band in enumerate(bands):\n",
    "        icol = i%2\n",
    "        irow = int(i/2)\n",
    "        axs = axes[irow][icol]\n",
    "        axs.hist2d(t[f\"{band}_{flux_type}Mag\"], t[f'{band}_DESI']-t[f\"{band}_{flux_type}Mag\"], bins=(np.linspace(16, 26, 101), np.linspace(-2, 2, 101)), cmap='gray', norm='log')\n",
    "        axs.plot([16,26],[16,26])\n",
    "        axs.set_xlabel(f'{band} {flux_type} [mag]')\n",
    "        axs.set_ylabel(f'{band} DESI [mag]')\n",
    "    fig.tight_layout()"
   ]
  },
  {
   "cell_type": "code",
   "execution_count": null,
   "id": "8a37cbe1-6d23-4e2b-b5fe-e08486e5294b",
   "metadata": {},
   "outputs": [],
   "source": [
    "raruma_plot.plot_DESI_scatter(t, 'psf', 'griz')"
   ]
  },
  {
   "cell_type": "code",
   "execution_count": null,
   "id": "50e8e39c-dde2-4b3a-bb42-36af423d3b79",
   "metadata": {},
   "outputs": [],
   "source": [
    "raruma_plot.plot_DESI_scatter(t, 'sersic', 'griz')"
   ]
  },
  {
   "cell_type": "code",
   "execution_count": null,
   "id": "ae20d227-a3eb-4a9c-a481-9b98c6004f7c",
   "metadata": {},
   "outputs": [],
   "source": []
  },
  {
   "cell_type": "code",
   "execution_count": null,
   "id": "8edda250-f740-4737-8a55-33073e31d1e4",
   "metadata": {},
   "outputs": [],
   "source": [
    "raruma_plot.plot_DESI_resid(t, 'psf', 'griz')"
   ]
  },
  {
   "cell_type": "code",
   "execution_count": null,
   "id": "a1371a88-717c-4db0-98f1-ea0297609b95",
   "metadata": {},
   "outputs": [],
   "source": []
  }
 ],
 "metadata": {
  "kernelspec": {
   "display_name": "Python 3 (ipykernel)",
   "language": "python",
   "name": "python3"
  },
  "language_info": {
   "codemirror_mode": {
    "name": "ipython",
    "version": 3
   },
   "file_extension": ".py",
   "mimetype": "text/x-python",
   "name": "python",
   "nbconvert_exporter": "python",
   "pygments_lexer": "ipython3",
   "version": "3.13.3"
  }
 },
 "nbformat": 4,
 "nbformat_minor": 5
}
