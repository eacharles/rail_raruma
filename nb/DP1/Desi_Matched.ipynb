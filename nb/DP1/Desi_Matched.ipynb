{
 "cells": [
  {
   "cell_type": "markdown",
   "id": "8c1b4e32-664d-4179-8c7f-3eef35729deb",
   "metadata": {},
   "source": [
    "### This notebook compares DESI \"magnitudes\" with LSSTComCom magnitdues"
   ]
  },
  {
   "cell_type": "markdown",
   "id": "27631cdb-b1c0-446a-8100-de6fad56ef18",
   "metadata": {},
   "source": [
    "Usual imports"
   ]
  },
  {
   "cell_type": "code",
   "execution_count": null,
   "id": "c362b16c-1ff2-46e4-802c-266d5aaedcac",
   "metadata": {},
   "outputs": [],
   "source": [
    "import tables_io\n",
    "import numpy as np\n",
    "import matplotlib.pyplot as plt"
   ]
  },
  {
   "cell_type": "markdown",
   "id": "ecbe7b5d-7312-4f64-9be1-a6854d856b20",
   "metadata": {},
   "source": [
    "Change this to be the root of the current PZ working area"
   ]
  },
  {
   "cell_type": "code",
   "execution_count": null,
   "id": "410b0716-73af-491e-845e-ee2cebaf6651",
   "metadata": {},
   "outputs": [],
   "source": [
    "pz_dir = '/global/cfs/cdirs/lsst/groups/PZ/DP1'"
   ]
  },
  {
   "cell_type": "markdown",
   "id": "578f2395-70af-44d5-8235-4747d6142fee",
   "metadata": {},
   "source": [
    "Get the data"
   ]
  },
  {
   "cell_type": "code",
   "execution_count": null,
   "id": "721fb462-b599-4321-8e7b-cb01a8ae8ef8",
   "metadata": {},
   "outputs": [],
   "source": [
    "t = tables_io.read(f'{pz_dir}/data/sandbox_data/desi/desi_dp1_matches.fits')"
   ]
  },
  {
   "cell_type": "code",
   "execution_count": null,
   "id": "dd2c49f5-4f00-447d-933c-0282f2aa4d04",
   "metadata": {},
   "outputs": [],
   "source": [
    "t.columns"
   ]
  },
  {
   "cell_type": "markdown",
   "id": "9823917e-aa2d-454b-9baa-702cd0472f53",
   "metadata": {},
   "source": [
    "Plot the DESI magnitude v the ComCam PSF magnitude"
   ]
  },
  {
   "cell_type": "code",
   "execution_count": null,
   "id": "3cb31ffd-9616-4733-b318-2c379aa7175c",
   "metadata": {},
   "outputs": [],
   "source": [
    "_ = plt.hist2d(t['g_psfMag'], t['g_DESI'], bins=(np.linspace(16, 26, 101), np.linspace(16, 26, 101)), cmap='gray', norm='log')\n",
    "_ = plt.plot([16,26],[16,26])\n",
    "_ = plt.xlabel(r'$g_{\\rm Psf}$ [mag]')\n",
    "_ = plt.ylabel(r'$g_{\\rm DESI}$ [mag]')"
   ]
  },
  {
   "cell_type": "code",
   "execution_count": null,
   "id": "c52fed49-5b62-4890-b924-3c44ba922e96",
   "metadata": {},
   "outputs": [],
   "source": []
  },
  {
   "cell_type": "code",
   "execution_count": null,
   "id": "ad1c965a-05fd-4f09-9bbf-fa5b341c3e49",
   "metadata": {},
   "outputs": [],
   "source": []
  }
 ],
 "metadata": {
  "kernelspec": {
   "display_name": "rail-1.2",
   "language": "python",
   "name": "rail-1.2"
  },
  "language_info": {
   "codemirror_mode": {
    "name": "ipython",
    "version": 3
   },
   "file_extension": ".py",
   "mimetype": "text/x-python",
   "name": "python",
   "nbconvert_exporter": "python",
   "pygments_lexer": "ipython3",
   "version": "3.13.5"
  }
 },
 "nbformat": 4,
 "nbformat_minor": 5
}
