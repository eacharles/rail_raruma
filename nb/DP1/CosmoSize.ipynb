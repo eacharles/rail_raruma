{
 "cells": [
  {
   "cell_type": "markdown",
   "id": "bda013ea-4b46-47fe-9219-dff18ab28bed",
   "metadata": {},
   "source": [
    "## Explore the sizes and magntidues of objects"
   ]
  },
  {
   "cell_type": "markdown",
   "id": "c6c2a7eb-655e-4fd7-ae56-9a812404fdf3",
   "metadata": {},
   "source": [
    "#### Standard imports"
   ]
  },
  {
   "cell_type": "code",
   "execution_count": null,
   "id": "27e5c10e-d00a-4a65-9f4f-51b529073c72",
   "metadata": {},
   "outputs": [],
   "source": [
    "import tables_io\n",
    "import numpy as np\n",
    "import matplotlib.pyplot as plt\n",
    "import pyccl as ccl"
   ]
  },
  {
   "cell_type": "markdown",
   "id": "05832e9f-359e-4186-b139-bbcdba46a1b4",
   "metadata": {},
   "source": [
    "#### Change this to match your data location"
   ]
  },
  {
   "cell_type": "code",
   "execution_count": null,
   "id": "bbb817fd-7869-454f-8bae-e12df84e1e9f",
   "metadata": {},
   "outputs": [],
   "source": [
    "# pz_dir = '/global/cfs/cdirs/lsst/groups/PZ/DP1'\n",
    "# if that fails you can use this\n",
    "# pz_dir = '/global/u2/e/echarles/dx'\n",
    "pz_dir = '/Users/echarles/pz'"
   ]
  },
  {
   "cell_type": "code",
   "execution_count": null,
   "id": "9ebc3828-cd0c-4587-bbf5-f2523238d7a1",
   "metadata": {},
   "outputs": [],
   "source": [
    "t = tables_io.read(f'{pz_dir}/data/dp1_v29.0.0/5063/object.parquet')"
   ]
  },
  {
   "cell_type": "markdown",
   "id": "6ef20b0b-230e-49d9-b3e1-6f0353ca4f04",
   "metadata": {},
   "source": [
    "#### Set up the cosmology and a evaluation grid"
   ]
  },
  {
   "cell_type": "code",
   "execution_count": null,
   "id": "30050278-156b-411d-8e8c-68bd53e9d502",
   "metadata": {},
   "outputs": [],
   "source": [
    "cosmo = ccl.Cosmology(\n",
    "    Omega_c=0.25, Omega_b=0.05,\n",
    "    h=0.7, n_s=0.95, sigma8=0.8,\n",
    "    transfer_function='bbks'\n",
    ")\n",
    "z_grid = np.linspace(0., 6., 301)[1:]\n",
    "a_grid = (1/(1+z_grid))\n",
    "D_a = cosmo.angular_diameter_distance(a_grid)\n",
    "rad_to_asec = 360*60*60/(2*np.pi) \n",
    "ang_scale = D_a * 1000/ rad_to_asec\n",
    "dist_mod = cosmo.distance_modulus(a_grid)"
   ]
  },
  {
   "cell_type": "markdown",
   "id": "0813630a-44f8-408c-bcea-196790a20265",
   "metadata": {},
   "source": [
    "#### Some useful functions"
   ]
  },
  {
   "cell_type": "code",
   "execution_count": null,
   "id": "fff674b7-cfcc-448e-9e20-16a97012c960",
   "metadata": {},
   "outputs": [],
   "source": [
    "def r_95_of_n(n):\n",
    "    return 1.25 + 1.125*n\n",
    "\n",
    "def pix_to_radians(pix):\n",
    "    return np.radians(0.2*pix/3600)\n",
    "\n",
    "def mag_to_dL(mag, abs_mag=20):\n",
    "    return np.power(10, 1+(mag+abs_mag)/5)\n",
    "\n",
    "def pix_to_dA(pix, size=5e3):\n",
    "    return size/pix_to_radians(pix)"
   ]
  },
  {
   "cell_type": "markdown",
   "id": "900ca07d-2913-437c-90d8-3f16a42d1295",
   "metadata": {},
   "source": [
    "#### Extract lots of interesting quantities"
   ]
  },
  {
   "cell_type": "code",
   "execution_count": null,
   "id": "f7d21756-ae27-4b3e-8d66-94cde316ca6d",
   "metadata": {},
   "outputs": [],
   "source": [
    "blendedness = t['i_blendedness'].to_numpy()\n",
    "blendedness = np.where(np.isnan(blendedness), 0., blendedness).clip(0., 1.)\n",
    "mask  = np.bitwise_and(\n",
    "    np.bitwise_and(\n",
    "        t['i_extendedness'].to_numpy() == 1,\n",
    "        t['g_psfFlux'].to_numpy() / t['g_psfFluxErr'].to_numpy() > 10,\n",
    "    ),\n",
    "    np.bitwise_and(\n",
    "        t['i_psfFlux'].to_numpy() / t['i_psfFluxErr'].to_numpy() > 10,\n",
    "        t['r_psfFlux'].to_numpy() / t['r_psfFluxErr'].to_numpy() > 10,\n",
    "    ),\n",
    ")\n",
    "mask_unblend = np.bitwise_and(mask, blendedness<0.1)\n",
    "mask_blend = np.bitwise_and(mask, blendedness>0.1)\n",
    "blend = t['detect_fromBlend'].to_numpy()\n",
    "psf_flux = t['i_psfFlux'].to_numpy()\n",
    "cModel_flux = t['i_cModelFlux'].to_numpy()\n",
    "cModel_flux = t['i_sersicFlux'].to_numpy()\n",
    "shape_xx = t['i_ixx'].to_numpy()\n",
    "shape_yy = t['i_iyy'].to_numpy()\n",
    "shape_xy = t['i_ixy'].to_numpy()\n",
    "psf_xx = t['i_ixxDebiasedPSF'].to_numpy()\n",
    "psf_yy = t['i_iyyDebiasedPSF'].to_numpy()\n",
    "psf_xy = t['i_ixyDebiasedPSF'].to_numpy()\n",
    "shape_det = shape_xx*shape_yy - shape_xy*shape_xy\n",
    "shape_trace = shape_xx + shape_yy\n",
    "shape_area = np.sqrt(shape_det)\n",
    "psf_det = psf_xx*psf_yy - psf_xy*psf_xy\n",
    "psf_trace = psf_xx + psf_yy\n",
    "sersic_x = t['sersic_reff_x'].to_numpy()\n",
    "sersic_y = t['sersic_reff_y'].to_numpy()\n",
    "sersic_rho = t['sersic_rho'].to_numpy()\n",
    "sersic_index = t['sersic_index'].to_numpy()\n",
    "sersic_factor = r_95_of_n(sersic_index)\n",
    "sersic_xx = sersic_x*sersic_x\n",
    "sersic_yy = sersic_y*sersic_y\n",
    "sersic_trace = sersic_xx + sersic_yy\n",
    "sersic_xy = sersic_x*sersic_y*sersic_rho\n",
    "sersic_det = sersic_xx*sersic_yy - sersic_xy*sersic_xy\n",
    "bdReB = t['i_bdReB'].to_numpy()\n",
    "bdReD = t['i_bdReD'].to_numpy()\n",
    "kron_rad = t['i_kronRad'].to_numpy()\n",
    "psf_mag = -2.5 * np.log10(t['i_psfFlux'].to_numpy()) + 31.4\n",
    "cModel_mag = -2.5 * np.log10(t['i_cModelFlux'].to_numpy()) + 31.4\n",
    "sersic_mag = -2.5 * np.log10(t['i_sersicFlux'].to_numpy()) + 31.4"
   ]
  },
  {
   "cell_type": "markdown",
   "id": "ae272a25-9a49-4fe9-a5c7-4bd911c5d62c",
   "metadata": {},
   "source": [
    "#### Angular sizes in radians"
   ]
  },
  {
   "cell_type": "code",
   "execution_count": null,
   "id": "05424706-5dfe-496a-87a1-49473f596417",
   "metadata": {},
   "outputs": [],
   "source": [
    "pix_to_radians(np.sqrt(sersic_trace))"
   ]
  },
  {
   "cell_type": "markdown",
   "id": "03100858-980c-479f-96ae-90a741444363",
   "metadata": {},
   "source": [
    "#### Equivaltent distance for an object with a 5kpc size"
   ]
  },
  {
   "cell_type": "code",
   "execution_count": null,
   "id": "c8911e97-51e5-4f81-81ee-e6ec744f7bea",
   "metadata": {},
   "outputs": [],
   "source": [
    "5e3/pix_to_radians(np.sqrt(sersic_trace))"
   ]
  },
  {
   "cell_type": "markdown",
   "id": "e57010bf-2402-4c01-861d-c5e3bda935dc",
   "metadata": {},
   "source": [
    "#### Magntidue to luminosity distance"
   ]
  },
  {
   "cell_type": "code",
   "execution_count": null,
   "id": "ffab1b2c-93c0-4e6c-b22f-2ae813b31640",
   "metadata": {},
   "outputs": [],
   "source": [
    "mag_to_dL(sersic_mag)"
   ]
  },
  {
   "cell_type": "markdown",
   "id": "36f5f67a-2da3-4794-8b8d-89fdf124155b",
   "metadata": {},
   "source": [
    "#### Plot estimated angular diameter distance (assuming 5kpc scale) v. lumi distance (assuing -20 abs mag)"
   ]
  },
  {
   "cell_type": "code",
   "execution_count": null,
   "id": "7681d8ca-e1df-42c2-9b0d-3b2ffe8e4c28",
   "metadata": {},
   "outputs": [],
   "source": [
    "_ = plt.hist2d(mag_to_dL(sersic_mag)/1e9, pix_to_dA(np.sqrt(sersic_trace))/1e9, bins=(np.linspace(0., 20., 101), np.linspace(0, 20., 101)), norm='log')\n",
    "_ = plt.xlabel(r'$d_{L}$ [Gpc]')\n",
    "_ = plt.ylabel(r'$d_{A}$ [Gpc]')"
   ]
  },
  {
   "cell_type": "markdown",
   "id": "c7d91fc5-02f2-4411-8d0c-41ba392871bf",
   "metadata": {},
   "source": [
    "#### Infer the redshift from the ratio of the estimated lumi distance to angular diameter distance"
   ]
  },
  {
   "cell_type": "code",
   "execution_count": null,
   "id": "db6ac7d5-1983-4813-98e3-e44d41ed5d3a",
   "metadata": {},
   "outputs": [],
   "source": [
    "_ = plt.hist(np.sqrt(mag_to_dL(sersic_mag)/pix_to_dA(np.sqrt(sersic_trace)))-1, bins=np.linspace(-1., 30., 101))\n",
    "_ = plt.xlabel(r'Implied Redshit: $z_{\\rm imp} = \\sqrt{\\frac{D_{L}}{D_{A}}}-1$')"
   ]
  },
  {
   "cell_type": "code",
   "execution_count": null,
   "id": "b7f1fabf-4dae-4189-8514-da4a8ce09e66",
   "metadata": {},
   "outputs": [],
   "source": []
  },
  {
   "cell_type": "code",
   "execution_count": null,
   "id": "65a8870b-bdf7-4a2a-befa-c66d64cf7f95",
   "metadata": {},
   "outputs": [],
   "source": []
  }
 ],
 "metadata": {
  "kernelspec": {
   "display_name": "Python 3 (ipykernel)",
   "language": "python",
   "name": "python3"
  },
  "language_info": {
   "codemirror_mode": {
    "name": "ipython",
    "version": 3
   },
   "file_extension": ".py",
   "mimetype": "text/x-python",
   "name": "python",
   "nbconvert_exporter": "python",
   "pygments_lexer": "ipython3",
   "version": "3.13.3"
  }
 },
 "nbformat": 4,
 "nbformat_minor": 5
}
