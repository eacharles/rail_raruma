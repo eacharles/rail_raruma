{
 "cells": [
  {
   "cell_type": "markdown",
   "id": "e7cec270-5e1d-433e-9ece-b82317399a48",
   "metadata": {},
   "source": [
    "### This note shows how to use sklearn to set up a regression for p(z)"
   ]
  },
  {
   "cell_type": "markdown",
   "id": "f68f994c-8a0f-4a57-96f0-bf3decb48dbb",
   "metadata": {},
   "source": [
    "Do the usual imports"
   ]
  },
  {
   "cell_type": "code",
   "execution_count": null,
   "id": "e3482fe6-6462-484c-ab29-88642774f9c0",
   "metadata": {},
   "outputs": [],
   "source": [
    "import tables_io\n",
    "import numpy as np\n",
    "import matplotlib.pyplot as plt\n",
    "from rail.raruma import plotting_functions as raruma_plot\n",
    "from rail.raruma import utility_functions as raruma_util"
   ]
  },
  {
   "cell_type": "code",
   "execution_count": null,
   "id": "02ad760c-f276-44b9-8832-cc3357daa77c",
   "metadata": {},
   "outputs": [],
   "source": [
    "from rail.estimation.algos.k_nearneigh import KNearNeighInformer, KNearNeighEstimator\n",
    "from rail.core.data import Hdf5Handle, DataStore, DATA_STORE\n",
    "from rail.utils.catalog_utils import RomanRubinCatalogConfig\n",
    "DS = DATA_STORE()\n",
    "DataStore.allow_overwrite = True\n",
    "RomanRubinCatalogConfig.apply(RomanRubinCatalogConfig.tag)"
   ]
  },
  {
   "cell_type": "markdown",
   "id": "1143ddbb-bb5c-48ea-a9ed-3487a360fd39",
   "metadata": {},
   "source": [
    "Change this to be the root of the current PZ working area"
   ]
  },
  {
   "cell_type": "code",
   "execution_count": null,
   "id": "9afc4c43-3191-442f-b0e7-e276bfd65328",
   "metadata": {},
   "outputs": [],
   "source": [
    "pz_dir = '/global/cfs/cdirs/lsst/groups/PZ/DP1'"
   ]
  },
  {
   "cell_type": "markdown",
   "id": "d5244ba4-f24d-4374-b9ab-6f7c1df3588b",
   "metadata": {},
   "source": [
    "Load the test/ train data"
   ]
  },
  {
   "cell_type": "code",
   "execution_count": null,
   "id": "f044517a-7967-4db5-8fdb-b6da6f84734c",
   "metadata": {},
   "outputs": [],
   "source": [
    "train = tables_io.read(f\"{pz_dir}/data/train/dp1_ecdfs_matched_specgold_train.hdf5\")\n",
    "test = tables_io.read(f\"{pz_dir}/data/test/dp1_ecdfs_matched_specgold_test.hdf5\")\n",
    "#d.keys()\n",
    "#train = tables_io.sliceObj(d, slice(0, -1, 10))\n",
    "#test = tables_io.sliceObj(d, slice(1, -1, 10))"
   ]
  },
  {
   "cell_type": "code",
   "execution_count": null,
   "id": "61d5d95f-1f69-4e76-b9a9-b31f4738b3ed",
   "metadata": {},
   "outputs": [],
   "source": [
    "train_targets, train_features = raruma_util.prepare_data_total_mag_and_colors(train, '{band}_gaap1p0Mag', 'ugrizy')\n",
    "test_targets, test_features = raruma_util.prepare_data_total_mag_and_colors(test, '{band}_gaap1p0Mag', 'ugrizy')"
   ]
  },
  {
   "cell_type": "code",
   "execution_count": null,
   "id": "235a9ac5-02af-4b11-9038-4c828a3b2f2d",
   "metadata": {},
   "outputs": [],
   "source": [
    "_ = raruma_plot.plot_true_nz(train_targets)"
   ]
  },
  {
   "cell_type": "markdown",
   "id": "a51c676c-7a0d-4c86-8e02-ba54a484010b",
   "metadata": {},
   "source": [
    "Do PCA for kicks"
   ]
  },
  {
   "cell_type": "code",
   "execution_count": null,
   "id": "b2d85dff-6edb-406a-a507-b2654dbc74fa",
   "metadata": {},
   "outputs": [],
   "source": [
    "from sklearn import preprocessing\n",
    "from sklearn.decomposition import PCA"
   ]
  },
  {
   "cell_type": "code",
   "execution_count": null,
   "id": "64c1b49c-20fd-4419-b207-316c23051763",
   "metadata": {},
   "outputs": [],
   "source": [
    "scaler = preprocessing.StandardScaler().fit(train_features)\n",
    "pca = PCA(n_components=train_features.shape[-1], whiten=False)"
   ]
  },
  {
   "cell_type": "code",
   "execution_count": null,
   "id": "2246ca0c-9fe1-4146-a226-0d725a870cff",
   "metadata": {},
   "outputs": [],
   "source": [
    "scaled_train = scaler.transform(train_features).clip(-5, 5)\n",
    "pca_train = pca.fit(scaled_train)"
   ]
  },
  {
   "cell_type": "code",
   "execution_count": null,
   "id": "0797495d-8cfb-499d-93ee-d67f6a838704",
   "metadata": {},
   "outputs": [],
   "source": [
    "scaled_test = scaler.transform(test_features).clip(-5, 5)\n",
    "pca_test = pca.fit(scaled_test)"
   ]
  },
  {
   "cell_type": "markdown",
   "id": "779968bd-4c72-480a-a484-443064dac716",
   "metadata": {},
   "source": [
    "Do all the regression"
   ]
  },
  {
   "cell_type": "code",
   "execution_count": null,
   "id": "868ccc11-27a5-41e2-a08f-a3298713ebcb",
   "metadata": {},
   "outputs": [],
   "source": [
    "from sklearn.ensemble import (HistGradientBoostingRegressor, ExtraTreesRegressor, AdaBoostRegressor)\n",
    "from sklearn.gaussian_process import GaussianProcessRegressor\n",
    "from sklearn.isotonic import IsotonicRegression\n",
    "from sklearn.linear_model import HuberRegressor, LinearRegression, QuantileRegressor\n",
    "from sklearn.svm import NuSVR\n",
    "from sklearn.neighbors import KNeighborsRegressor, RadiusNeighborsRegressor"
   ]
  },
  {
   "cell_type": "code",
   "execution_count": null,
   "id": "a86414d7-e0a2-4b0d-aaa5-086995522a5b",
   "metadata": {},
   "outputs": [],
   "source": [
    "hbr = HistGradientBoostingRegressor()\n",
    "etr = ExtraTreesRegressor()\n",
    "abr = AdaBoostRegressor()\n",
    "gpr = GaussianProcessRegressor()\n",
    "isr = IsotonicRegression()\n",
    "hur = HuberRegressor()\n",
    "lir = LinearRegression()\n",
    "qur = QuantileRegressor()\n",
    "nsr = NuSVR()\n",
    "knr = KNeighborsRegressor()\n",
    "rnr = RadiusNeighborsRegressor()"
   ]
  },
  {
   "cell_type": "code",
   "execution_count": null,
   "id": "c7d02147-2129-40f6-b353-07ecfc8af4c6",
   "metadata": {},
   "outputs": [],
   "source": [
    "def run_it(reg):\n",
    "    preds = raruma_util.run_regression(reg, scaled_train, train_targets, scaled_test)\n",
    "    _ = raruma_plot.plot_true_predict_fancy(test_targets, np.nan_to_num(preds, -0.4))\n",
    "    _ = raruma_plot.plot_biweight_stats_v_redshift(test_targets, preds)"
   ]
  },
  {
   "cell_type": "code",
   "execution_count": null,
   "id": "44956b64-2c1b-4052-8d82-1ca54e956743",
   "metadata": {},
   "outputs": [],
   "source": [
    "run_it(knr)"
   ]
  },
  {
   "cell_type": "code",
   "execution_count": null,
   "id": "6669eaf0-1776-4d92-ad24-65804ce90c68",
   "metadata": {},
   "outputs": [],
   "source": []
  }
 ],
 "metadata": {
  "kernelspec": {
   "display_name": "rail-1.2",
   "language": "python",
   "name": "rail-1.2"
  },
  "language_info": {
   "codemirror_mode": {
    "name": "ipython",
    "version": 3
   },
   "file_extension": ".py",
   "mimetype": "text/x-python",
   "name": "python",
   "nbconvert_exporter": "python",
   "pygments_lexer": "ipython3",
   "version": "3.13.5"
  }
 },
 "nbformat": 4,
 "nbformat_minor": 5
}
