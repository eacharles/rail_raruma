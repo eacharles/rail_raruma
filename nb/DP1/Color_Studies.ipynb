{
 "cells": [
  {
   "cell_type": "markdown",
   "id": "ae734b2d-16d8-44fc-8e7e-bd60e689cadb",
   "metadata": {},
   "source": [
    "## This notebook explores colors using the different flux measurements"
   ]
  },
  {
   "cell_type": "markdown",
   "id": "2e672ed3-2403-4018-ac68-077ff66dc912",
   "metadata": {},
   "source": [
    "#### Standard imports"
   ]
  },
  {
   "cell_type": "code",
   "execution_count": null,
   "id": "538d01a7-e677-45a1-81c8-e594a40a46cb",
   "metadata": {},
   "outputs": [],
   "source": [
    "import tables_io\n",
    "import numpy as np\n",
    "import matplotlib.pyplot as plt\n",
    "import pyccl as ccl"
   ]
  },
  {
   "cell_type": "markdown",
   "id": "0af29fcb-88b1-459c-9b8d-a46781abf5d7",
   "metadata": {},
   "source": [
    "#### Change this to get the right location"
   ]
  },
  {
   "cell_type": "code",
   "execution_count": null,
   "id": "03b2fa19-1567-4bf0-b14a-d72291d0f3e4",
   "metadata": {},
   "outputs": [],
   "source": [
    "# pz_dir = '/global/cfs/cdirs/lsst/groups/PZ/DP1'\n",
    "# if that fails you can use this\n",
    "# pz_dir = '/global/u2/e/echarles/dx'\n",
    "pz_dir = '/Users/echarles/pz'"
   ]
  },
  {
   "cell_type": "code",
   "execution_count": null,
   "id": "5f5a3548-5da0-4d83-b596-888b249e5e47",
   "metadata": {},
   "outputs": [],
   "source": [
    "t = tables_io.read(f'{pz_dir}/data/dp1_v29.0.0/5063/object.parquet')"
   ]
  },
  {
   "cell_type": "markdown",
   "id": "12dc8dfd-bfdc-477b-9c4b-80dacc8e13b7",
   "metadata": {},
   "source": [
    "#### Some useful functions"
   ]
  },
  {
   "cell_type": "code",
   "execution_count": null,
   "id": "746ee75b-4be9-4c1b-a1a3-bce893916c04",
   "metadata": {},
   "outputs": [],
   "source": [
    "def flux_to_mag(fluxes, zero_points=31.4):\n",
    "    return -2.5 * np.log10(fluxes.clip(0.001, np.inf)) + zero_points\n",
    "\n",
    "def get_mags(table, bands, band_template):\n",
    "    mag_dict = {}\n",
    "    for band_ in bands:\n",
    "        col = band_template.format(band=band_)\n",
    "        mags = flux_to_mag(table[col].to_numpy())\n",
    "        mag_dict[band_] = mags\n",
    "    return mag_dict\n",
    "\n",
    "def make_colors(table, bands, band_template):\n",
    "    colors = {}\n",
    "    for i, band_ in enumerate(bands[0:-1]):\n",
    "        col_a = band_template.format(band=band_)\n",
    "        col_b = band_template.format(band=bands[i+1])\n",
    "        mag_a = flux_to_mag(table[col_a].to_numpy())\n",
    "        mag_b = flux_to_mag(table[col_b].to_numpy())\n",
    "        colors[f\"{band_}-{bands[i+1]}\"] = mag_a - mag_b\n",
    "    return colors"
   ]
  },
  {
   "cell_type": "code",
   "execution_count": null,
   "id": "0e784e29-3d7c-4f7d-ade0-cb5dd0a04311",
   "metadata": {},
   "outputs": [],
   "source": [
    "def plot_scatter(t1, t2, bands, mask=None, norm='log'):\n",
    "    fig = plt.figure()\n",
    "    axes = fig.subplots(2, 2)\n",
    "    for i, band in enumerate(bands):\n",
    "        icol = i%2\n",
    "        irow = int(i/2)\n",
    "        axs = axes[irow][icol]\n",
    "        if mask is None:\n",
    "            axs.hist2d(t1[band], t2[band], bins=(np.linspace(16, 30, 101), np.linspace(16, 30, 101)), cmap='gray', norm='log')\n",
    "        else:\n",
    "            axs.hist2d(t1[band][mask], t2[band][mask], bins=(np.linspace(16, 30, 101), np.linspace(16, 30, 101)), cmap='gray', norm='log')\n",
    "        axs.plot([16,30],[16,30])\n",
    "        axs.set_xlabel(f'{band} [mag]')\n",
    "        axs.set_ylabel(f'{band} [mag]')\n",
    "    fig.tight_layout()\n",
    "\n",
    "def plot_resid(t1, t2, bands, mask=None, norm='log'):\n",
    "    fig = plt.figure()\n",
    "    axes = fig.subplots(2, 2)\n",
    "    for i, band in enumerate(bands):\n",
    "        icol = i%2\n",
    "        irow = int(i/2)\n",
    "        axs = axes[irow][icol]\n",
    "        if mask is None:\n",
    "            axs.hist2d(t2[band], t1[band] - t2[band], bins=(np.linspace(16, 30, 101), np.linspace(-2, 2, 101)), cmap='gray', norm='log')\n",
    "        else:\n",
    "            axs.hist2d(t2[band][mask], t1[band][mask] - t2[band][mask], bins=(np.linspace(16, 30, 101), np.linspace(-2, 2, 101)), cmap='gray', norm='log')\n",
    "        axs.set_xlabel(f'{band} [mag]')\n",
    "        axs.set_ylabel(f'Delta {band} [mag]')\n",
    "    fig.tight_layout()"
   ]
  },
  {
   "cell_type": "code",
   "execution_count": null,
   "id": "4a08de9b-c548-4f14-a852-4c5439f329e3",
   "metadata": {},
   "outputs": [],
   "source": [
    "def plot_color_scatter(t1, t2, bands, mask=None, norm='log'):\n",
    "    fig = plt.figure()\n",
    "    axes = fig.subplots(2, 2)\n",
    "    for i, band in enumerate(bands):\n",
    "        icol = i%2\n",
    "        irow = int(i/2)\n",
    "        axs = axes[irow][icol]\n",
    "        if mask is None:\n",
    "            axs.hist2d(t1[band], t2[band], bins=(np.linspace(-0.5, 2.0, 101), np.linspace(-0.5, 2.0, 101)), cmap='gray', norm=norm)\n",
    "        else:\n",
    "            axs.hist2d(t1[band][mask], t2[band][mask], bins=(np.linspace(-0.5, 2.0, 101), np.linspace(-0.5, 2.0, 101)), cmap='gray', norm=norm)\n",
    "        axs.set_xlabel(f'{band} [mag]')\n",
    "        axs.set_ylabel(f'{band} [mag]')\n",
    "    fig.tight_layout()\n",
    "\n",
    "def plot_color_resid(t1, t2, bands, mask=None, norm='log'):\n",
    "    fig = plt.figure()\n",
    "    axes = fig.subplots(2, 2)\n",
    "    for i, band in enumerate(bands):\n",
    "        icol = i%2\n",
    "        irow = int(i/2)\n",
    "        axs = axes[irow][icol]\n",
    "        if mask is None:                \n",
    "            axs.hist2d(t2[band], t1[band] - t2[band], bins=(np.linspace(-0.5, 2.0, 101), np.linspace(-1.0, 1.0, 101)), cmap='gray', norm=norm)\n",
    "        else:\n",
    "            axs.hist2d(t2[band][mask], (t1[band] - t2[band])[mask], bins=(np.linspace(-0.5, 2.0, 101), np.linspace(-1.0, 1.0, 101)), cmap='gray', norm=norm)\n",
    "        axs.set_xlabel(f'{band} [mag]')\n",
    "        axs.set_ylabel(f'Delta {band} [mag]')\n",
    "    fig.tight_layout()"
   ]
  },
  {
   "cell_type": "markdown",
   "id": "028a1257-33ba-422a-972f-459f417f739e",
   "metadata": {},
   "source": [
    "#### Define data quality masks"
   ]
  },
  {
   "cell_type": "code",
   "execution_count": null,
   "id": "b05df050-2dd9-4474-ac93-18130fd6fecf",
   "metadata": {},
   "outputs": [],
   "source": [
    "blendedness = t['i_blendedness'].to_numpy()\n",
    "blendedness = np.where(np.isnan(blendedness), 0., blendedness).clip(0., 1.)\n",
    "mask  = np.bitwise_and(\n",
    "    np.bitwise_and(\n",
    "        t['i_extendedness'].to_numpy() == 1,\n",
    "        t['g_psfFlux'].to_numpy() / t['g_psfFluxErr'].to_numpy() > 10,\n",
    "    ),\n",
    "    np.bitwise_and(\n",
    "        t['i_psfFlux'].to_numpy() / t['i_psfFluxErr'].to_numpy() > 10,\n",
    "        t['r_psfFlux'].to_numpy() / t['r_psfFluxErr'].to_numpy() > 10,\n",
    "        t['z_psfFlux'].to_numpy() / t['z_psfFluxErr'].to_numpy() > 10,\n",
    "    ),\n",
    ")\n"
   ]
  },
  {
   "cell_type": "markdown",
   "id": "107ee183-7cc2-4773-b319-319e2af35b54",
   "metadata": {},
   "source": [
    "#### Get the magnitudes"
   ]
  },
  {
   "cell_type": "code",
   "execution_count": null,
   "id": "31d4996a-c771-47c5-bea5-0709a4abf7ff",
   "metadata": {},
   "outputs": [],
   "source": [
    "mags_psf = get_mags(t, 'griz', '{band}_psfFlux')\n",
    "mags_cModel = get_mags(t, 'griz', '{band}_cModelFlux')\n",
    "mags_sersic = get_mags(t, 'griz', '{band}_sersicFlux')\n",
    "mags_1p0 = get_mags(t, 'griz', '{band}_gaap1p0Flux')\n",
    "mags_3p0 = get_mags(t, 'griz', '{band}_gaap3p0Flux')"
   ]
  },
  {
   "cell_type": "markdown",
   "id": "37e07c7a-a197-4014-a7ee-8d12e1345613",
   "metadata": {},
   "source": [
    "#### Make some plots"
   ]
  },
  {
   "cell_type": "code",
   "execution_count": null,
   "id": "a6c91eab-c774-4490-94c1-f47926b1aaeb",
   "metadata": {},
   "outputs": [],
   "source": [
    "#plot_resid(mags_cModel, mags_psf, 'griz')"
   ]
  },
  {
   "cell_type": "code",
   "execution_count": null,
   "id": "48c6a1f6-eaf8-49f9-bf83-562f9ffe85a9",
   "metadata": {},
   "outputs": [],
   "source": [
    "#plot_scatter(mags_cModel, mags_psf, 'griz')"
   ]
  },
  {
   "cell_type": "code",
   "execution_count": null,
   "id": "4cb1ef06-3f78-41ad-b931-81dc3731e402",
   "metadata": {},
   "outputs": [],
   "source": [
    "#plot_resid(mags_sersic, mags_psf, 'griz')"
   ]
  },
  {
   "cell_type": "code",
   "execution_count": null,
   "id": "268732c2-98e6-4515-901a-f5e3b83aa062",
   "metadata": {},
   "outputs": [],
   "source": [
    "#plot_scatter(mags_sersic, mags_psf, 'griz')"
   ]
  },
  {
   "cell_type": "code",
   "execution_count": null,
   "id": "2627a518-5a96-4dd0-9bd7-fd61000825fb",
   "metadata": {},
   "outputs": [],
   "source": [
    "plot_scatter(mags_1p0, mags_psf, 'griz', mask=mask)"
   ]
  },
  {
   "cell_type": "code",
   "execution_count": null,
   "id": "78605b31-f5a3-410d-8d3c-8e12a0d82abc",
   "metadata": {},
   "outputs": [],
   "source": [
    "plot_resid(mags_1p0, mags_psf, 'griz', mask=mask)"
   ]
  },
  {
   "cell_type": "code",
   "execution_count": null,
   "id": "40e160b5-3916-40b9-b2e4-f340b79f5df3",
   "metadata": {},
   "outputs": [],
   "source": [
    "plot_resid(mags_3p0, mags_psf, 'griz', mask=mask)"
   ]
  },
  {
   "cell_type": "code",
   "execution_count": null,
   "id": "af805746-9a01-4d00-a365-3d430c692fc2",
   "metadata": {},
   "outputs": [],
   "source": [
    "plot_scatter(mags_3p0, mags_psf, 'griz', mask=mask)"
   ]
  },
  {
   "cell_type": "code",
   "execution_count": null,
   "id": "c089fe52-4046-43b1-9dfb-3653589cbab8",
   "metadata": {},
   "outputs": [],
   "source": [
    "plot_scatter(mags_sersic, mags_psf, 'griz', mask=mask)"
   ]
  },
  {
   "cell_type": "code",
   "execution_count": null,
   "id": "ddfa0aa2-ab75-4ded-9ed4-6b8bf925562a",
   "metadata": {},
   "outputs": [],
   "source": [
    "plot_resid(mags_sersic, mags_psf, 'griz', mask=mask)"
   ]
  },
  {
   "cell_type": "code",
   "execution_count": null,
   "id": "d3109a59-9b39-47cf-b294-9aa5e0d1c5de",
   "metadata": {},
   "outputs": [],
   "source": [
    "plot_scatter(mags_cModel, mags_psf, 'griz', mask=mask)"
   ]
  },
  {
   "cell_type": "code",
   "execution_count": null,
   "id": "0f5301ee-3b54-404a-aa48-b630c421d11d",
   "metadata": {},
   "outputs": [],
   "source": [
    "plot_resid(mags_cModel, mags_psf, 'griz', mask=mask)"
   ]
  },
  {
   "cell_type": "code",
   "execution_count": null,
   "id": "ba33e6f1-91a9-465b-b9ee-7d86632eaaa1",
   "metadata": {},
   "outputs": [],
   "source": [
    "colors_psf = make_colors(t, 'griz', '{band}_psfFlux')\n",
    "colors_cModel = make_colors(t, 'griz', '{band}_cModelFlux')\n",
    "colors_1p0 = make_colors(t, 'griz', '{band}_gaap1p0Flux')\n",
    "colors_3p0 = make_colors(t, 'griz', '{band}_gaap3p0Flux')\n",
    "colors_sersic = make_colors(t, 'griz', '{band}_sersicFlux')"
   ]
  },
  {
   "cell_type": "code",
   "execution_count": null,
   "id": "51f6f39b-ce56-4d6c-94ab-7b6ac0f881db",
   "metadata": {},
   "outputs": [],
   "source": [
    "plot_color_resid(colors_cModel, colors_psf, ['g-r', 'r-i', 'i-z'], mask=mask)"
   ]
  },
  {
   "cell_type": "code",
   "execution_count": null,
   "id": "e7820301-9330-4f18-98ef-31f5cc86e933",
   "metadata": {},
   "outputs": [],
   "source": [
    "plot_color_scatter(colors_cModel, colors_psf, ['g-r', 'r-i', 'i-z'], mask=mask)"
   ]
  },
  {
   "cell_type": "code",
   "execution_count": null,
   "id": "a1f5dd05-9c8e-4ca8-bf91-9bdc2cb5d321",
   "metadata": {},
   "outputs": [],
   "source": [
    "plot_color_scatter(colors_3p0, colors_psf, ['g-r', 'r-i', 'i-z'], mask=mask, norm=\"log\")"
   ]
  },
  {
   "cell_type": "code",
   "execution_count": null,
   "id": "93a6afc0-bae0-4f22-8866-128a3fcb4207",
   "metadata": {},
   "outputs": [],
   "source": [
    "plot_color_resid(colors_cModel, colors_psf, ['g-r', 'r-i', 'i-z'], mask=mask)"
   ]
  },
  {
   "cell_type": "code",
   "execution_count": null,
   "id": "a1ab9043-d2f9-41ba-8a1f-17e73937baf2",
   "metadata": {},
   "outputs": [],
   "source": [
    "plot_color_resid(colors_1p0, colors_psf, ['g-r', 'r-i', 'i-z'], mask=mask)"
   ]
  },
  {
   "cell_type": "code",
   "execution_count": null,
   "id": "c2b7ec0a-321a-4f6e-a1ac-0c94cc61b12a",
   "metadata": {},
   "outputs": [],
   "source": [
    "plot_color_resid(colors_sersic, colors_psf, ['g-r', 'r-i', 'i-z'], mask=mask)"
   ]
  },
  {
   "cell_type": "code",
   "execution_count": null,
   "id": "55ab6cc4-2c29-41e5-8f4a-669177c91b94",
   "metadata": {},
   "outputs": [],
   "source": [
    "plot_color_resid(colors_3p0, colors_psf, ['g-r', 'r-i', 'i-z'], mask=mask, norm=\"log\")"
   ]
  },
  {
   "cell_type": "code",
   "execution_count": null,
   "id": "a2721b7d-2643-46bd-9b8e-58e636427609",
   "metadata": {},
   "outputs": [],
   "source": []
  },
  {
   "cell_type": "code",
   "execution_count": null,
   "id": "ad4ed5f6-4eb9-4ca3-9e25-fa3f605fc36a",
   "metadata": {},
   "outputs": [],
   "source": []
  },
  {
   "cell_type": "code",
   "execution_count": null,
   "id": "65f8710c-93a8-4418-86fc-e43acda0d3ab",
   "metadata": {},
   "outputs": [],
   "source": []
  },
  {
   "cell_type": "code",
   "execution_count": null,
   "id": "9a67e965-412a-495b-a1a0-ea2cc7fd8f65",
   "metadata": {},
   "outputs": [],
   "source": []
  },
  {
   "cell_type": "code",
   "execution_count": null,
   "id": "77970306-8608-4ee2-b9fc-a4d2ce13bfd0",
   "metadata": {},
   "outputs": [],
   "source": []
  },
  {
   "cell_type": "code",
   "execution_count": null,
   "id": "b19cf50d-9c25-4297-ac27-891c27f12804",
   "metadata": {},
   "outputs": [],
   "source": []
  },
  {
   "cell_type": "code",
   "execution_count": null,
   "id": "d653a51b-e0a9-471d-b1a4-56f490609fd1",
   "metadata": {},
   "outputs": [],
   "source": []
  }
 ],
 "metadata": {
  "kernelspec": {
   "display_name": "Python 3 (ipykernel)",
   "language": "python",
   "name": "python3"
  },
  "language_info": {
   "codemirror_mode": {
    "name": "ipython",
    "version": 3
   },
   "file_extension": ".py",
   "mimetype": "text/x-python",
   "name": "python",
   "nbconvert_exporter": "python",
   "pygments_lexer": "ipython3",
   "version": "3.13.3"
  }
 },
 "nbformat": 4,
 "nbformat_minor": 5
}
