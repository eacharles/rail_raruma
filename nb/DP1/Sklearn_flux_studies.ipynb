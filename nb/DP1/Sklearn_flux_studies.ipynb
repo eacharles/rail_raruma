{
 "cells": [
  {
   "cell_type": "markdown",
   "id": "7772ccdf-2825-436d-b3b1-8ec4df392d4b",
   "metadata": {},
   "source": [
    "### This notebook shows how to check the look at different flux measures\n"
   ]
  },
  {
   "cell_type": "markdown",
   "id": "57295487-8067-4d56-8c40-6111753dd4ba",
   "metadata": {},
   "source": [
    "usual imports"
   ]
  },
  {
   "cell_type": "code",
   "execution_count": null,
   "id": "e3482fe6-6462-484c-ab29-88642774f9c0",
   "metadata": {},
   "outputs": [],
   "source": [
    "import tables_io\n",
    "import numpy as np\n",
    "import qp\n",
    "import matplotlib.pyplot as plt\n",
    "from rail.raruma import plotting_functions as raruma_plot\n",
    "from rail.raruma import utility_functions as raruma_util"
   ]
  },
  {
   "cell_type": "code",
   "execution_count": null,
   "id": "02ad760c-f276-44b9-8832-cc3357daa77c",
   "metadata": {},
   "outputs": [],
   "source": [
    "from rail.estimation.algos.k_nearneigh import KNearNeighInformer, KNearNeighEstimator\n",
    "from rail.core.data import Hdf5Handle, DataStore, DATA_STORE\n",
    "from rail.utils.catalog_utils import RomanRubinCatalogConfig\n",
    "DS = DATA_STORE()\n",
    "DataStore.allow_overwrite = True\n",
    "RomanRubinCatalogConfig.apply(RomanRubinCatalogConfig.tag)"
   ]
  },
  {
   "cell_type": "markdown",
   "id": "bb7da061-b7f5-4173-9e5c-18b7a1af69a8",
   "metadata": {},
   "source": [
    "Change this to be the root of the current PZ working area"
   ]
  },
  {
   "cell_type": "code",
   "execution_count": null,
   "id": "b7cfbf0c-ec89-4d04-bd8c-081b06404f43",
   "metadata": {},
   "outputs": [],
   "source": [
    "#pz_dir = '/global/cfs/cdirs/lsst/groups/PZ/DP1'\n",
    "# if that fails you can use this\n",
    "# pz_dir = '/global/u2/e/echarles/dx'\n",
    "pz_dir = '/Users/echarles/pz/'"
   ]
  },
  {
   "cell_type": "markdown",
   "id": "aedb33b3-9f8d-4072-83f1-f225b258f388",
   "metadata": {},
   "source": [
    "Read the test / training data"
   ]
  },
  {
   "cell_type": "code",
   "execution_count": null,
   "id": "f044517a-7967-4db5-8fdb-b6da6f84734c",
   "metadata": {},
   "outputs": [],
   "source": [
    "train = tables_io.read(f\"{pz_dir}/data/train/dp1_matched_v4_train.hdf5\")\n",
    "test = tables_io.read(f\"{pz_dir}/data/test/dp1_matched_v4_test.hdf5\")\n",
    "knn = qp.read(f\"{pz_dir}/projects/dp1_v4/data/gold_dp1_6band_paper/output_estimate_knn.hdf5\")\n",
    "#d.keys()\n",
    "#train = tables_io.sliceObj(d, slice(0, -1, 10))\n",
    "#test = tables_io.sliceObj(d, slice(1, -1, 10))"
   ]
  },
  {
   "cell_type": "code",
   "execution_count": null,
   "id": "63f67969-4c1f-42e1-80b6-7e54c8fa6f77",
   "metadata": {},
   "outputs": [],
   "source": [
    "_ = plt.hist2d(knn.ancil['redshift'], test['i_psfMag'],  bins=(np.linspace(0, 4, 101), np.linspace(16, 26, 101)), cmap='gray', norm='log')\n",
    "_ = plt.xlabel(r\"$z_{ref}$\")\n",
    "_ = plt.ylabel(\"i [mag]\")"
   ]
  },
  {
   "cell_type": "code",
   "execution_count": null,
   "id": "3ff3958f-28e9-4ed6-b369-d78d759ad808",
   "metadata": {},
   "outputs": [],
   "source": [
    "#dh = DS.read_file('input', Hdf5Handle, \"/Users/echarles/pz/data/test/dp1_ecdfs_matched_specgold_test.hdf5\")"
   ]
  },
  {
   "cell_type": "code",
   "execution_count": null,
   "id": "9a4e51a0-8cf7-4fd7-bf15-e034f7e440c0",
   "metadata": {},
   "outputs": [],
   "source": [
    "#dh.data"
   ]
  },
  {
   "cell_type": "code",
   "execution_count": null,
   "id": "589d170b-d582-469d-abc8-fb713557ea43",
   "metadata": {},
   "outputs": [],
   "source": [
    "# knn_inform = KNearNeighInformer.make_stage(name='knn_inform')\n",
    "# knn_inform.inform(train)\n",
    "# knn_inform.finalize()\n",
    "# knn_estimate = KNearNeighEstimator.make_stage(name='knn_estimate', connections=dict(model=knn_inform.io.model))"
   ]
  },
  {
   "cell_type": "markdown",
   "id": "09a4eef8-b27b-4051-ac34-01bc246796eb",
   "metadata": {},
   "source": [
    "Get all the different fluxes"
   ]
  },
  {
   "cell_type": "code",
   "execution_count": null,
   "id": "61d5d95f-1f69-4e76-b9a9-b31f4738b3ed",
   "metadata": {},
   "outputs": [],
   "source": [
    "train_targets, train_features = raruma_util.prepare_data_total_mag_and_colors(train, '{band}_gaap1p0Mag', 'ugrizy')\n",
    "test_targets, test_features = raruma_util.prepare_data_total_mag_and_colors(test, '{band}_gaap1p0Mag', 'ugrizy')"
   ]
  },
  {
   "cell_type": "code",
   "execution_count": null,
   "id": "b909ce9d-c436-422e-b238-e0985716431e",
   "metadata": {},
   "outputs": [],
   "source": [
    "train_gaap3p0_targets, train_gaap3p0_features = raruma_util.prepare_data_total_mag_and_colors(train, '{band}_gaap3p0Mag', 'ugrizy')\n",
    "test_gaap3p0_targets, test_gaap3p0_features = raruma_util.prepare_data_total_mag_and_colors(test, '{band}_gaap3p0Mag', 'ugrizy')"
   ]
  },
  {
   "cell_type": "code",
   "execution_count": null,
   "id": "8b846e87-924f-40de-b18d-cea6634c40dd",
   "metadata": {},
   "outputs": [],
   "source": [
    "train_psf_targets, train_psf_features = raruma_util.prepare_data_total_mag_and_colors(train, '{band}_psfMag', 'ugrizy')\n",
    "test_psf_targets, test_psf_features = raruma_util.prepare_data_total_mag_and_colors(test, '{band}_psfMag', 'ugrizy')"
   ]
  },
  {
   "cell_type": "code",
   "execution_count": null,
   "id": "5dbbad8d-d472-4050-9d38-bc0120e3b28e",
   "metadata": {},
   "outputs": [],
   "source": [
    "train_sersic_targets, train_sersic_features = raruma_util.prepare_data_total_mag_and_colors(train, '{band}_sersicMag', 'ugrizy')\n",
    "test_sersic_targets, test_sersic_features = raruma_util.prepare_data_total_mag_and_colors(test, '{band}_sersicMag', 'ugrizy')"
   ]
  },
  {
   "cell_type": "code",
   "execution_count": null,
   "id": "7a9351fb-25a7-4e24-a313-e0b49aa5fda4",
   "metadata": {},
   "outputs": [],
   "source": [
    "train_cmodel_targets, train_cmodel_features = raruma_util.prepare_data_total_mag_and_colors(train, '{band}_cModelMag', 'ugrizy')\n",
    "test_cmodel_targets, test_cmodel_features = raruma_util.prepare_data_total_mag_and_colors(test, '{band}_cModelMag', 'ugrizy')"
   ]
  },
  {
   "cell_type": "markdown",
   "id": "b9029567-7923-49e8-b1f5-d3cb5c7bf5f7",
   "metadata": {},
   "source": [
    "Make some plots"
   ]
  },
  {
   "cell_type": "code",
   "execution_count": null,
   "id": "de142b64-5bf0-44de-8291-d390be144664",
   "metadata": {},
   "outputs": [],
   "source": [
    "_ = plt.scatter( train_features[:,0], train_gaap3p0_features[:,0]-train_features[:,0])"
   ]
  },
  {
   "cell_type": "code",
   "execution_count": null,
   "id": "67f05d52-4461-4dba-995d-3ac11797ff55",
   "metadata": {},
   "outputs": [],
   "source": [
    "_ = plt.hist2d(train_targets, train_cmodel_features[:,0]-train_features[:,0], bins=(100, 100), cmap='gray', norm='log')"
   ]
  },
  {
   "cell_type": "code",
   "execution_count": null,
   "id": "193dd1c9-26a1-45dc-af39-bb16bf4d92eb",
   "metadata": {},
   "outputs": [],
   "source": [
    "fig, axes = plt.subplots(3, 2)\n",
    "fig.tight_layout()\n",
    "\n",
    "for i in range(6):\n",
    "    icol = i % 3\n",
    "    irow = int(i / 3)\n",
    "    axes[icol][irow].hist(train_psf_features[:,i]-train_features[:,i], bins=np.linspace(-2, 2, 101))"
   ]
  },
  {
   "cell_type": "code",
   "execution_count": null,
   "id": "0d7a6728-74c3-4748-b803-103f30eebf51",
   "metadata": {},
   "outputs": [],
   "source": [
    "fig, axes = plt.subplots(3, 2)\n",
    "fig.tight_layout()\n",
    "\n",
    "for i in range(6):\n",
    "    icol = i % 3\n",
    "    irow = int(i / 3)\n",
    "    axes[icol][irow].hist(train_sersic_features[:,i]-train_features[:,i], bins=np.linspace(-2, 2, 101))"
   ]
  },
  {
   "cell_type": "code",
   "execution_count": null,
   "id": "9759e8b5-4594-42cc-841e-423f3f162863",
   "metadata": {},
   "outputs": [],
   "source": [
    "fig, axes = plt.subplots(3, 2)\n",
    "fig.tight_layout()\n",
    "\n",
    "for i in range(6):\n",
    "    icol = i % 3\n",
    "    irow = int(i / 3)\n",
    "    axes[icol][irow].hist(train_gaap3p0_features[:,i]-train_features[:,i], bins=np.linspace(-2, 2, 101))"
   ]
  },
  {
   "cell_type": "code",
   "execution_count": null,
   "id": "9b7d070e-a503-407a-9934-89356208e5c2",
   "metadata": {},
   "outputs": [],
   "source": [
    "fig, axes = plt.subplots(3, 2)\n",
    "fig.tight_layout()\n",
    "\n",
    "for i in range(6):\n",
    "    icol = i % 3\n",
    "    irow = int(i / 3)\n",
    "    axes[icol][irow].hist(train_cmodel_features[:,i]-train_features[:,i], bins=np.linspace(-2, 2, 101))"
   ]
  },
  {
   "cell_type": "code",
   "execution_count": null,
   "id": "38393d63-d2b3-4d6d-b2bc-21a2ab10464b",
   "metadata": {},
   "outputs": [],
   "source": [
    "_ = plt.scatter( train_features[:,0], train_psf_features[:,0]-train_features[:,0])"
   ]
  },
  {
   "cell_type": "code",
   "execution_count": null,
   "id": "a04e10bf-bff7-4ada-9c27-f6892b03c0d3",
   "metadata": {},
   "outputs": [],
   "source": [
    "_ = plt.scatter(train_features[:,0], train_sersic_features[:,0]-train_features[:,0])\n",
    "_ = plt.ylim(-2, 2.)"
   ]
  },
  {
   "cell_type": "code",
   "execution_count": null,
   "id": "5399e659-10bb-4bbe-8bbb-55df6a702b64",
   "metadata": {},
   "outputs": [],
   "source": [
    "_ = plt.scatter(train_features[:,0], train_cmodel_features[:,0]-train_features[:,0])\n",
    "_ = plt.ylim(-2, 2.)"
   ]
  },
  {
   "cell_type": "code",
   "execution_count": null,
   "id": "c99638fa-61e1-4ee7-8f22-056d61700087",
   "metadata": {},
   "outputs": [],
   "source": [
    "_ = plt.scatter(train_gaap3p0_features[:,3]-train_features[:,3], train_gaap3p0_features[:,2]-train_features[:,2], c=train_targets)\n",
    "_ = plt.ylim(-2, 2.)"
   ]
  },
  {
   "cell_type": "code",
   "execution_count": null,
   "id": "e2d82344-d5ec-4928-9396-2b7eadb63c9e",
   "metadata": {},
   "outputs": [],
   "source": [
    "train_xx_features = np.hstack([train_gaap3p0_features, train_features, train_psf_features])\n",
    "test_xx_features = np.hstack([test_gaap3p0_features, test_features, test_psf_features])"
   ]
  },
  {
   "cell_type": "code",
   "execution_count": null,
   "id": "235a9ac5-02af-4b11-9038-4c828a3b2f2d",
   "metadata": {},
   "outputs": [],
   "source": [
    "_ = raruma_plot.plot_true_nz(train_targets)"
   ]
  },
  {
   "cell_type": "markdown",
   "id": "aa7b853f-6fcb-4d9a-bef9-04d1b2442f09",
   "metadata": {},
   "source": [
    "Look at the effect on regression"
   ]
  },
  {
   "cell_type": "code",
   "execution_count": null,
   "id": "b2d85dff-6edb-406a-a507-b2654dbc74fa",
   "metadata": {},
   "outputs": [],
   "source": [
    "from sklearn import preprocessing\n",
    "from sklearn.decomposition import PCA"
   ]
  },
  {
   "cell_type": "code",
   "execution_count": null,
   "id": "64c1b49c-20fd-4419-b207-316c23051763",
   "metadata": {},
   "outputs": [],
   "source": [
    "scaler = preprocessing.StandardScaler().fit(train_features)\n",
    "pca = PCA(n_components=train_features.shape[-1], whiten=False)"
   ]
  },
  {
   "cell_type": "code",
   "execution_count": null,
   "id": "2a837beb-aef5-4053-a836-2d58d1e5968a",
   "metadata": {},
   "outputs": [],
   "source": [
    "scaler_xx = preprocessing.StandardScaler().fit(train_xx_features)\n",
    "pca_xx = PCA(n_components=train_xx_features.shape[-1], whiten=False)"
   ]
  },
  {
   "cell_type": "code",
   "execution_count": null,
   "id": "2246ca0c-9fe1-4146-a226-0d725a870cff",
   "metadata": {},
   "outputs": [],
   "source": [
    "scaled_train = scaler.transform(train_features).clip(-5, 5)\n",
    "pca_train = pca.fit(scaled_train)"
   ]
  },
  {
   "cell_type": "code",
   "execution_count": null,
   "id": "eea4552e-948b-4263-a2b9-f5d75f540696",
   "metadata": {},
   "outputs": [],
   "source": [
    "scaled_xx_train = scaler_xx.transform(train_xx_features).clip(-5, 5)\n",
    "pca_xx_train = pca_xx.fit(scaled_xx_train)"
   ]
  },
  {
   "cell_type": "code",
   "execution_count": null,
   "id": "0797495d-8cfb-499d-93ee-d67f6a838704",
   "metadata": {},
   "outputs": [],
   "source": [
    "scaled_test = scaler.transform(test_features).clip(-5, 5)\n",
    "pca_test = pca.fit(scaled_test)"
   ]
  },
  {
   "cell_type": "code",
   "execution_count": null,
   "id": "97f4b16a-9629-4aed-8d33-305b8e9793d0",
   "metadata": {},
   "outputs": [],
   "source": [
    "scaled_xx_test = scaler_xx.transform(test_xx_features).clip(-5, 5)\n",
    "pca_xx_test = pca_xx.fit(scaled_xx_test)"
   ]
  },
  {
   "cell_type": "code",
   "execution_count": null,
   "id": "868ccc11-27a5-41e2-a08f-a3298713ebcb",
   "metadata": {},
   "outputs": [],
   "source": [
    "from sklearn.ensemble import (HistGradientBoostingRegressor, ExtraTreesRegressor, AdaBoostRegressor)\n",
    "from sklearn.gaussian_process import GaussianProcessRegressor\n",
    "from sklearn.isotonic import IsotonicRegression\n",
    "from sklearn.linear_model import HuberRegressor, LinearRegression, QuantileRegressor\n",
    "from sklearn.svm import NuSVR\n",
    "from sklearn.neighbors import KNeighborsRegressor, RadiusNeighborsRegressor"
   ]
  },
  {
   "cell_type": "code",
   "execution_count": null,
   "id": "a86414d7-e0a2-4b0d-aaa5-086995522a5b",
   "metadata": {},
   "outputs": [],
   "source": [
    "hbr = HistGradientBoostingRegressor()\n",
    "etr = ExtraTreesRegressor()\n",
    "abr = AdaBoostRegressor()\n",
    "gpr = GaussianProcessRegressor()\n",
    "isr = IsotonicRegression()\n",
    "hur = HuberRegressor()\n",
    "lir = LinearRegression()\n",
    "qur = QuantileRegressor()\n",
    "nsr = NuSVR()\n",
    "knr = KNeighborsRegressor()\n",
    "rnr = RadiusNeighborsRegressor()"
   ]
  },
  {
   "cell_type": "code",
   "execution_count": null,
   "id": "c7d02147-2129-40f6-b353-07ecfc8af4c6",
   "metadata": {},
   "outputs": [],
   "source": [
    "def run_it(reg):\n",
    "    preds = raruma_util.run_regression(reg, scaled_train, train_targets, scaled_test)\n",
    "    _ = raruma_plot.plot_true_predict_fancy(test_targets, np.nan_to_num(preds, -0.4))\n",
    "    _ = raruma_plot.plot_biweight_stats_v_redshift(test_targets, preds)"
   ]
  },
  {
   "cell_type": "code",
   "execution_count": null,
   "id": "d1a66a21-ebfe-44dc-b039-802407f5ec62",
   "metadata": {},
   "outputs": [],
   "source": [
    "def run_it_xx(reg):\n",
    "    preds = raruma_util.run_regression(reg, scaled_xx_train, train_targets, scaled_xx_test)\n",
    "    _ = raruma_plot.plot_true_predict_fancy(test_targets, np.nan_to_num(preds, -0.4))\n",
    "    _ = raruma_plot.plot_biweight_stats_v_redshift(test_targets, preds)"
   ]
  },
  {
   "cell_type": "code",
   "execution_count": null,
   "id": "44956b64-2c1b-4052-8d82-1ca54e956743",
   "metadata": {},
   "outputs": [],
   "source": [
    "run_it(knr)"
   ]
  },
  {
   "cell_type": "code",
   "execution_count": null,
   "id": "6669eaf0-1776-4d92-ad24-65804ce90c68",
   "metadata": {},
   "outputs": [],
   "source": []
  },
  {
   "cell_type": "code",
   "execution_count": null,
   "id": "55ffde83-dc65-44d1-aa8d-a6ab99b78a6a",
   "metadata": {},
   "outputs": [],
   "source": [
    "run_it_xx(knr)"
   ]
  },
  {
   "cell_type": "code",
   "execution_count": null,
   "id": "48e1fef8-618b-4d35-b8c2-9f8745f833b0",
   "metadata": {},
   "outputs": [],
   "source": []
  }
 ],
 "metadata": {
  "kernelspec": {
   "display_name": "Python 3 (ipykernel)",
   "language": "python",
   "name": "python3"
  },
  "language_info": {
   "codemirror_mode": {
    "name": "ipython",
    "version": 3
   },
   "file_extension": ".py",
   "mimetype": "text/x-python",
   "name": "python",
   "nbconvert_exporter": "python",
   "pygments_lexer": "ipython3",
   "version": "3.13.3"
  }
 },
 "nbformat": 4,
 "nbformat_minor": 5
}
