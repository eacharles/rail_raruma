{
 "cells": [
  {
   "cell_type": "code",
   "execution_count": null,
   "id": "a1b16ade-6e5b-4dfb-9dae-e171a27353c7",
   "metadata": {},
   "outputs": [],
   "source": [
    "import tables_io\n",
    "import numpy as np\n",
    "import matplotlib.pyplot as plt\n",
    "import qp\n",
    "from rail.plotting.pz_plotters import PZPlotterPointEstimateVsTrueHist2D"
   ]
  },
  {
   "cell_type": "markdown",
   "id": "7ec9a056-0008-4112-8663-08c394606cc6",
   "metadata": {},
   "source": [
    "Change this to be the root of the current PZ working area"
   ]
  },
  {
   "cell_type": "code",
   "execution_count": null,
   "id": "7649ea5c-55e3-4de7-81f6-09c6ca6cb3a9",
   "metadata": {},
   "outputs": [],
   "source": [
    "pz_dir = '/global/cfs/cdirs/lsst/groups/PZ/DP1'"
   ]
  },
  {
   "cell_type": "code",
   "execution_count": null,
   "id": "39f1826e-f61c-4506-a5fa-3974d2ce75ba",
   "metadata": {},
   "outputs": [],
   "source": [
    "def calc_std(qp_dstn, grid):\n",
    "    pdfs = qp_dstn.pdf(grid)\n",
    "    norms = pdfs.sum(axis=1)\n",
    "    means = np.sum(pdfs * grid, axis=1) / norms\n",
    "    diffs = (np.expand_dims(grid, -1) - means).T\n",
    "    wt_diffs = diffs * diffs * pdfs\n",
    "    stds = np.sqrt((wt_diffs).sum(axis=1)/norms)\n",
    "    return np.expand_dims(stds, -1)"
   ]
  },
  {
   "cell_type": "code",
   "execution_count": null,
   "id": "883db258-4d86-43de-9d98-33659c29498f",
   "metadata": {},
   "outputs": [],
   "source": [
    "grid = np.linspace(0., 4., 401)"
   ]
  },
  {
   "cell_type": "code",
   "execution_count": null,
   "id": "7f6d4db2-836d-4471-ae14-8aff0304d6df",
   "metadata": {},
   "outputs": [],
   "source": [
    "algo = 'knn'\n",
    "d = tables_io.read(f\"{pz_dir}/data/test/dp1_matched_test.hdf5\")\n",
    "zmodes = []\n",
    "stds = []\n",
    "for algo in ['knn', 'cmnn', 'bpz', 'fzboost', 'lephare', 'dnf', 'tpz']:\n",
    "    pz = qp.read(f\"{pz_dir}/projects/dp1/data/gold_dp1_optimize/output_estimate_{algo}.hdf5\")\n",
    "    zmodes.append(np.squeeze(pz.ancil['zmode']))\n",
    "    stds.append(np.squeeze(calc_std(pz, grid)))\n",
    "redshifts = d['redshift']\n",
    "zmodes = np.vstack(zmodes)\n",
    "stds = np.vstack(stds)"
   ]
  },
  {
   "cell_type": "code",
   "execution_count": null,
   "id": "6d985d46-221d-442c-a94f-13873873a0ae",
   "metadata": {},
   "outputs": [],
   "source": [
    "zmeta = np.mean(zmodes, axis=0)\n",
    "zstd_1 = np.std(zmodes, axis=0)\n",
    "zstd = np.mean(stds, axis=0)"
   ]
  },
  {
   "cell_type": "code",
   "execution_count": null,
   "id": "cbbc9529-a414-4cdc-a116-5a1314ea1d7d",
   "metadata": {},
   "outputs": [],
   "source": [
    "mask = zstd < 0.1\n",
    "plotter = PZPlotterPointEstimateVsTrueHist2D()\n",
    "out = plotter._make_2d_hist_plot('plot', redshifts, zmeta)"
   ]
  },
  {
   "cell_type": "code",
   "execution_count": null,
   "id": "0e061f8e-49a6-4f66-bf00-6b2ee8a1c491",
   "metadata": {},
   "outputs": [],
   "source": [
    "def inv_var_weight(means, stds):\n",
    "    weights = 1./(stds*stds)\n",
    "    sum_weights = np.sum(weights, axis=0)\n",
    "    zmean = np.sum(zmodes*weights, axis=0) / sum_weights    \n",
    "    return zmean"
   ]
  },
  {
   "cell_type": "code",
   "execution_count": null,
   "id": "32e88367-e0ac-46d8-8f62-7c723245aa35",
   "metadata": {},
   "outputs": [],
   "source": [
    "zmeans = inv_var_weight(zmodes, stds)"
   ]
  },
  {
   "cell_type": "code",
   "execution_count": null,
   "id": "41a5b9b0-661a-4ff1-ab53-c06dab69ce37",
   "metadata": {},
   "outputs": [],
   "source": [
    "mask = zstd_1 < 0.1\n",
    "plotter = PZPlotterPointEstimateVsTrueHist2D()\n",
    "out = plotter._make_2d_hist_plot('plot', redshifts, zmeans)"
   ]
  },
  {
   "cell_type": "code",
   "execution_count": null,
   "id": "8aeeed1d-f65c-4c27-886e-98889a7710bb",
   "metadata": {},
   "outputs": [],
   "source": [
    "mask = zstd_1 < 0.2\n",
    "plotter = PZPlotterPointEstimateVsTrueHist2D()\n",
    "out = plotter._make_2d_hist_plot('plot', redshifts[mask], zmeta[mask])"
   ]
  },
  {
   "cell_type": "code",
   "execution_count": null,
   "id": "6a1318e1-e47f-4f24-94c6-5b37b26ab7fa",
   "metadata": {},
   "outputs": [],
   "source": [
    "mask.sum()/mask.size"
   ]
  },
  {
   "cell_type": "code",
   "execution_count": null,
   "id": "53f5d6e8-83f7-4c3c-bec3-55abbffdfa07",
   "metadata": {},
   "outputs": [],
   "source": []
  },
  {
   "cell_type": "code",
   "execution_count": null,
   "id": "7291d554-f120-4008-a94a-a36c8c948a47",
   "metadata": {},
   "outputs": [],
   "source": []
  }
 ],
 "metadata": {
  "kernelspec": {
   "display_name": "rail-1.2",
   "language": "python",
   "name": "rail-1.2"
  },
  "language_info": {
   "codemirror_mode": {
    "name": "ipython",
    "version": 3
   },
   "file_extension": ".py",
   "mimetype": "text/x-python",
   "name": "python",
   "nbconvert_exporter": "python",
   "pygments_lexer": "ipython3",
   "version": "3.13.5"
  }
 },
 "nbformat": 4,
 "nbformat_minor": 5
}
