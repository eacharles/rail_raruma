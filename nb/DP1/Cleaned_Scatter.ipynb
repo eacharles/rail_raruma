{
 "cells": [
  {
   "cell_type": "markdown",
   "id": "c8561be7-506d-4600-89f4-3ad68ad4af59",
   "metadata": {},
   "source": [
    "### This notebook shows how making a cut on the standard deviation of p(z) helps clean up the outlier rate"
   ]
  },
  {
   "cell_type": "markdown",
   "id": "4b565888-fbf1-4018-96ab-8ddd1697ffcb",
   "metadata": {},
   "source": [
    "The usual imports"
   ]
  },
  {
   "cell_type": "code",
   "execution_count": null,
   "id": "54224d4e-82c2-4303-8d25-35ab9bbb6b2b",
   "metadata": {},
   "outputs": [],
   "source": [
    "import tables_io\n",
    "import numpy as np\n",
    "import matplotlib.pyplot as plt\n",
    "import qp\n",
    "from rail.plotting.pz_plotters import PZPlotterPointEstimateVsTrueHist2D"
   ]
  },
  {
   "cell_type": "markdown",
   "id": "7bfa7a16-ee8e-438e-a996-5f00167ad050",
   "metadata": {},
   "source": [
    "Change this to be the root of the current PZ working area"
   ]
  },
  {
   "cell_type": "code",
   "execution_count": null,
   "id": "f1ecbf31-6c5c-429b-94d8-f783e3d1ced4",
   "metadata": {},
   "outputs": [],
   "source": [
    "pz_dir = '/global/cfs/cdirs/lsst/groups/PZ/DP1'\n",
    "# if that fails you can use this\n",
    "# pz_dir = '/global/u2/e/echarles/dx'\n",
    "pz_dir = '/Users/echarles/pz'"
   ]
  },
  {
   "cell_type": "markdown",
   "id": "c9d1a249-645a-49b4-abff-ac436389ed6d",
   "metadata": {},
   "source": [
    "Get the data, note the switch between different algorithms"
   ]
  },
  {
   "cell_type": "code",
   "execution_count": null,
   "id": "abc6c659-b2cd-48b5-adf7-2699dacac918",
   "metadata": {},
   "outputs": [],
   "source": [
    "algo = 'knn'\n",
    "d = tables_io.read(f\"{pz_dir}/data/test/dp1_matched_test.hdf5\")\n",
    "pz = qp.read(f\"{pz_dir}/projects/dp1/data/gold_dp1_optimize/output_estimate_{algo}.hdf5\")\n",
    "redshifts = d['redshift']"
   ]
  },
  {
   "cell_type": "markdown",
   "id": "98dc7d49-311b-4ffb-b91e-a1d2a35dae69",
   "metadata": {},
   "source": [
    "The function computes the standard deviation of the PDF of each object numerically on a grid"
   ]
  },
  {
   "cell_type": "code",
   "execution_count": null,
   "id": "53f9aaa4-42a5-43e8-82f6-03a0f774944d",
   "metadata": {},
   "outputs": [],
   "source": [
    "def calc_std(qp_dstn, grid):\n",
    "    pdfs = qp_dstn.pdf(grid)\n",
    "    norms = pdfs.sum(axis=1)\n",
    "    means = np.sum(pdfs * grid, axis=1) / norms\n",
    "    diffs = (np.expand_dims(grid, -1) - means).T\n",
    "    wt_diffs = diffs * diffs * pdfs\n",
    "    stds = np.sqrt((wt_diffs).sum(axis=1)/norms)\n",
    "    return np.expand_dims(stds, -1)"
   ]
  },
  {
   "cell_type": "markdown",
   "id": "d1a0e054-5016-4c52-90fa-90f0ab1fa4c0",
   "metadata": {},
   "source": [
    "Compute the standard deviations of p(z) using a grid from 0 to 4."
   ]
  },
  {
   "cell_type": "code",
   "execution_count": null,
   "id": "a79943b7-34a6-41f2-94e2-c47261c6f901",
   "metadata": {},
   "outputs": [],
   "source": [
    "grid = np.linspace(0., 4., 401)"
   ]
  },
  {
   "cell_type": "code",
   "execution_count": null,
   "id": "c4898c9f-37d5-438c-8ad5-4a6b30355c80",
   "metadata": {},
   "outputs": [],
   "source": [
    "std = calc_std(pz, grid)"
   ]
  },
  {
   "cell_type": "markdown",
   "id": "414e678a-beaf-4123-87f0-2b46954c2ef4",
   "metadata": {},
   "source": [
    "Original version of the plot"
   ]
  },
  {
   "cell_type": "code",
   "execution_count": null,
   "id": "1deac53f-0ecb-48dc-9728-6afb826c038e",
   "metadata": {},
   "outputs": [],
   "source": [
    "plotter = PZPlotterPointEstimateVsTrueHist2D()\n",
    "out = plotter._make_2d_hist_plot('plot', redshifts, np.squeeze(pz.ancil['zmode']))\n",
    "#out.figure.savefig('tpz_scatter_orig.pdf')"
   ]
  },
  {
   "cell_type": "markdown",
   "id": "95195b30-006f-4526-bee4-1991458025f6",
   "metadata": {},
   "source": [
    "Version of the plot with cleaned p(z)"
   ]
  },
  {
   "cell_type": "code",
   "execution_count": null,
   "id": "7aba2d30-4975-47bb-bf0b-11a846a1e1e0",
   "metadata": {},
   "outputs": [],
   "source": [
    "mask = np.squeeze(std < 0.15)\n",
    "plotter = PZPlotterPointEstimateVsTrueHist2D()\n",
    "out = plotter._make_2d_hist_plot('plot', redshifts[mask], np.squeeze(pz.ancil['zmode'])[mask])\n",
    "#out.figure.savefig('tpz_scatter_clean.pdf')"
   ]
  },
  {
   "cell_type": "markdown",
   "id": "2f7ed7aa-955c-4ac3-b2a5-8fe678b6fd3a",
   "metadata": {},
   "source": [
    "For comparision were is a spec-z photo-z scatter plot for faint galaxies only"
   ]
  },
  {
   "cell_type": "code",
   "execution_count": null,
   "id": "71a6fabc-e6ac-4334-bda3-bd9c216a1f8a",
   "metadata": {},
   "outputs": [],
   "source": [
    "mask = np.squeeze(d['i_cModelMag'] > 23.5)\n",
    "plotter = PZPlotterPointEstimateVsTrueHist2D()\n",
    "out = plotter._make_2d_hist_plot('plot', redshifts[mask], np.squeeze(pz.ancil['zmode'])[mask])\n",
    "out.figure.savefig('tpz_scatter_faint.pdf')"
   ]
  },
  {
   "cell_type": "code",
   "execution_count": null,
   "id": "3aac1de2-7fac-42ac-bd89-02005c3b5e5b",
   "metadata": {},
   "outputs": [],
   "source": []
  }
 ],
 "metadata": {
  "kernelspec": {
   "display_name": "Python 3 (ipykernel)",
   "language": "python",
   "name": "python3"
  },
  "language_info": {
   "codemirror_mode": {
    "name": "ipython",
    "version": 3
   },
   "file_extension": ".py",
   "mimetype": "text/x-python",
   "name": "python",
   "nbconvert_exporter": "python",
   "pygments_lexer": "ipython3",
   "version": "3.13.3"
  }
 },
 "nbformat": 4,
 "nbformat_minor": 5
}
