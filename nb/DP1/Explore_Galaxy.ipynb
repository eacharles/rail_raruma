{
 "cells": [
  {
   "cell_type": "code",
   "execution_count": null,
   "id": "f75dafc6-a87d-4af0-a72d-4d6211ed269c",
   "metadata": {},
   "outputs": [],
   "source": [
    "import tables_io\n",
    "import numpy as np\n",
    "import matplotlib.pyplot as plt\n",
    "import qp\n",
    "import pyccl as ccl"
   ]
  },
  {
   "cell_type": "code",
   "execution_count": null,
   "id": "acab6fac-8277-49c2-acff-b584562e35bc",
   "metadata": {},
   "outputs": [],
   "source": [
    "# pz_dir = '/global/cfs/cdirs/lsst/groups/PZ/DP1'\n",
    "# if that fails you can use this\n",
    "# pz_dir = '/global/u2/e/echarles/dx'\n",
    "pz_dir = '/Users/echarles/pz'"
   ]
  },
  {
   "cell_type": "code",
   "execution_count": null,
   "id": "d4c67f14-4b15-4f8f-878d-2dc82c39f52c",
   "metadata": {},
   "outputs": [],
   "source": [
    "ot = tables_io.read(f'{pz_dir}/sandbox_data/ecdfs/lsst_cat_matched_nonan_train.hdf5')\n",
    "t = ot"
   ]
  },
  {
   "cell_type": "code",
   "execution_count": null,
   "id": "77c4a96e-cd2e-479e-b299-0e262665926d",
   "metadata": {},
   "outputs": [],
   "source": [
    "t.keys()"
   ]
  },
  {
   "cell_type": "code",
   "execution_count": null,
   "id": "eeb9660f-4a56-4049-b3f4-f83e45bfe4dc",
   "metadata": {},
   "outputs": [],
   "source": [
    "mask  = (t['refExtendedness'] == 1) *\\\n",
    "        (t['i_blendedness'] < 0.01) *\\\n",
    "        (t['g_psfFlux'] / t['g_psfFluxErr'] > 10) *\\\n",
    "        (t['i_psfFlux'] / t['i_psfFluxErr'] > 10) *\\\n",
    "        (t['r_psfFlux'] / t['r_psfFluxErr'] > 10) *\\\n",
    "        (t['z_psfFlux'] / t['z_psfFluxErr'] > 10)"
   ]
  },
  {
   "cell_type": "code",
   "execution_count": null,
   "id": "72e482c7-1a82-42bc-b230-300fe5253da9",
   "metadata": {},
   "outputs": [],
   "source": [
    "# mask  = (t['refExtendedness'] == 1) *\\\n",
    "#        (t['g_psfFlux'] / t['g_psfFluxErr'] > 10) *\\\n",
    "#        (t['i_psfFlux'] / t['i_psfFluxErr'] > 10) *\\\n",
    "#        (t['r_psfFlux'] / t['r_psfFluxErr'] > 10) *\\\n",
    "#        (t['z_psfFlux'] / t['z_psfFluxErr'] > 10)"
   ]
  },
  {
   "cell_type": "code",
   "execution_count": null,
   "id": "ce7f3d91-1bad-433b-bad5-cdec256f2221",
   "metadata": {},
   "outputs": [],
   "source": [
    "idx = t['u_cModelMag'][mask].argmax()"
   ]
  },
  {
   "cell_type": "code",
   "execution_count": null,
   "id": "b6c214e0-8790-4130-ae7e-505761bf60b9",
   "metadata": {},
   "outputs": [],
   "source": [
    "idx"
   ]
  },
  {
   "cell_type": "code",
   "execution_count": null,
   "id": "eecbf09c-8e8b-42dd-ab60-6f7206d74c82",
   "metadata": {},
   "outputs": [],
   "source": [
    "mask.sum()"
   ]
  },
  {
   "cell_type": "code",
   "execution_count": null,
   "id": "4d02737f-7647-48e1-b87d-ccc985a5b45f",
   "metadata": {},
   "outputs": [],
   "source": [
    "t['i_ra'][mask][idx], t['i_dec'][mask][idx]"
   ]
  },
  {
   "cell_type": "code",
   "execution_count": null,
   "id": "540b3193-fd8a-488f-b5f0-87442bc5941a",
   "metadata": {},
   "outputs": [],
   "source": [
    "t['u_cModelMag'][mask][idx], t['g_cModelMag'][mask][idx], t['r_cModelMag'][mask][idx], t['i_cModelMag'][mask][idx]"
   ]
  },
  {
   "cell_type": "code",
   "execution_count": null,
   "id": "250b6752-6eb7-4717-9ff6-7002d86a1b4d",
   "metadata": {},
   "outputs": [],
   "source": [
    "for key in t.keys():\n",
    "    print(key, t[key][mask][idx])"
   ]
  },
  {
   "cell_type": "code",
   "execution_count": null,
   "id": "20fd6ddc-d6fa-47c3-893e-342afcf950e2",
   "metadata": {},
   "outputs": [],
   "source": [
    "t['g_cModelMag'][mask][452]"
   ]
  },
  {
   "cell_type": "code",
   "execution_count": null,
   "id": "bce67e53-a3a5-4b0c-89c2-eac0e7aa42f3",
   "metadata": {},
   "outputs": [],
   "source": [
    "t['redshift'][mask][452]"
   ]
  },
  {
   "cell_type": "code",
   "execution_count": null,
   "id": "d5329411-1031-4158-8169-719479a07aca",
   "metadata": {},
   "outputs": [],
   "source": []
  }
 ],
 "metadata": {
  "kernelspec": {
   "display_name": "Python 3 (ipykernel)",
   "language": "python",
   "name": "python3"
  },
  "language_info": {
   "codemirror_mode": {
    "name": "ipython",
    "version": 3
   },
   "file_extension": ".py",
   "mimetype": "text/x-python",
   "name": "python",
   "nbconvert_exporter": "python",
   "pygments_lexer": "ipython3",
   "version": "3.13.3"
  }
 },
 "nbformat": 4,
 "nbformat_minor": 5
}
