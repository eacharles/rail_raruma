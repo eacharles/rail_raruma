{
 "cells": [
  {
   "cell_type": "code",
   "execution_count": null,
   "id": "ee786cab-4a5f-4b24-8e5b-50f5a8ffc239",
   "metadata": {},
   "outputs": [],
   "source": [
    "import tables_io\n",
    "import numpy as np\n",
    "import matplotlib.pyplot as plt\n",
    "from matplotlib.figure import Figure\n",
    "from sklearn import preprocessing\n",
    "from sklearn.decomposition import PCA\n",
    "from sklearn.ensemble import (HistGradientBoostingRegressor, ExtraTreesRegressor, AdaBoostRegressor)\n",
    "from sklearn.gaussian_process import GaussianProcessRegressor\n",
    "from sklearn.isotonic import IsotonicRegression\n",
    "from sklearn.linear_model import HuberRegressor, LinearRegression, QuantileRegressor\n",
    "from sklearn.svm import NuSVR\n",
    "from sklearn.neighbors import KNeighborsRegressor, RadiusNeighborsRegressor\n",
    "from sklearn import preprocessing\n",
    "from sklearn.decomposition import PCA\n",
    "from rail.raruma import plotting_functions"
   ]
  },
  {
   "cell_type": "code",
   "execution_count": null,
   "id": "8cfa2dec-63d7-4281-b2b6-c873f94aacfc",
   "metadata": {},
   "outputs": [],
   "source": [
    "# pz_dir = '/global/cfs/cdirs/lsst/groups/PZ/DP1'\n",
    "# if that fails you can use this\n",
    "# pz_dir = '/global/u2/e/echarles/dx'\n",
    "pz_dir = '/Users/echarles/pz'"
   ]
  },
  {
   "cell_type": "code",
   "execution_count": null,
   "id": "d03cffa8-9949-4c40-8774-fc90cc093d45",
   "metadata": {},
   "outputs": [],
   "source": [
    "train = tables_io.read(f'{pz_dir}/sandbox_data/ecdfs/lsst_cat_matched_nonan_train.hdf5')\n",
    "test = tables_io.read(f'{pz_dir}/sandbox_data/ecdfs/lsst_cat_matched_nonan_test.hdf5')\n"
   ]
  },
  {
   "cell_type": "code",
   "execution_count": null,
   "id": "663db3fe-45e9-4e07-86c0-36a50fa39ecd",
   "metadata": {},
   "outputs": [],
   "source": [
    "def make_mask(t):\n",
    "    mask = (t['refExtendedness'] == 1) *\\\n",
    "           (t['i_blendedness'] < 0.01) *\\\n",
    "           (t['g_psfFlux']/ t['g_psfFluxErr'] > 10) *\\\n",
    "           (t['i_psfFlux'] / t['i_psfFluxErr'] > 10) *\\\n",
    "           (t['r_psfFlux'] / t['r_psfFluxErr'] > 10) *\\\n",
    "           (t['z_psfFlux'] / t['z_psfFluxErr'] > 10)\n",
    "    return mask"
   ]
  },
  {
   "cell_type": "code",
   "execution_count": null,
   "id": "e2063394-bb9f-4961-b914-dd3c70262af2",
   "metadata": {},
   "outputs": [],
   "source": [
    "def get_features(t):\n",
    "    sersic_x = t['sersic_reff_x']  \n",
    "    sersic_y = t['sersic_reff_y']\n",
    "    sersic_trace = np.nan_to_num(sersic_x*sersic_x + sersic_y*sersic_y, nan=0)\n",
    "    sersic_index = np.nan_to_num(t['sersic_index'], 0)\n",
    "\n",
    "    g_trace = np.nan_to_num(t['g_ixx'] + t['g_iyy'], nan=0)\n",
    "    z_trace = np.nan_to_num(t['z_ixx'] + t['z_iyy'], nan=0)\n",
    "\n",
    "    feature_list = [sersic_index, g_trace, z_trace, sersic_trace]\n",
    "    feature_list += [np.nan_to_num(t[f'{band}_psfMag'], nan=30) for band in 'ugrizy']\n",
    "    \n",
    "    return np.vstack(feature_list).T\n"
   ]
  },
  {
   "cell_type": "code",
   "execution_count": null,
   "id": "cc3c2fce-4501-4f4b-a13e-b00a47f885f5",
   "metadata": {},
   "outputs": [],
   "source": [
    "def run_regression(\n",
    "    regerssor,\n",
    "    train_features: np.ndarray,\n",
    "    train_targets: np.ndarray,\n",
    "    test_features: np.ndarray,\n",
    ") -> np.ndarray:\n",
    "    breakpoint()\n",
    "    scaler = preprocessing.StandardScaler().fit(train_features)\n",
    "    scaled_train = scaler.transform(train_features).clip(-5, 5)    \n",
    "    pca = PCA(n_components=train_features.shape[-1], whiten=False).fit(scaled_train)    \n",
    "    pca_train = pca.transform(scaled_train)    \n",
    "    scaled_test = scaler.transform(test_features).clip(-5, 5)\n",
    "    pca_test = pca.transform(scaled_test)\n",
    "    regerssor.fit(pca_train, train_targets)\n",
    "    return regerssor.predict(pca_test)"
   ]
  },
  {
   "cell_type": "code",
   "execution_count": null,
   "id": "fefd8a92-eb32-400b-be25-ab5f2e85efb7",
   "metadata": {},
   "outputs": [],
   "source": [
    "hbr = HistGradientBoostingRegressor()\n",
    "etr = ExtraTreesRegressor()\n",
    "abr = AdaBoostRegressor()\n",
    "gpr = GaussianProcessRegressor()\n",
    "isr = IsotonicRegression()\n",
    "hur = HuberRegressor()\n",
    "lir = LinearRegression()\n",
    "qur = QuantileRegressor()\n",
    "nsr = NuSVR()\n",
    "knr = KNeighborsRegressor()\n",
    "rnr = RadiusNeighborsRegressor()"
   ]
  },
  {
   "cell_type": "code",
   "execution_count": null,
   "id": "ccdebc7e-28bf-497c-9700-80e4f0112bf3",
   "metadata": {},
   "outputs": [],
   "source": [
    "mask_test = make_mask(test)\n",
    "mask_train = make_mask(train)"
   ]
  },
  {
   "cell_type": "code",
   "execution_count": null,
   "id": "ea0673d0-0a64-4105-9646-57e755d7d9e7",
   "metadata": {},
   "outputs": [],
   "source": [
    "features_test = get_features(test)[mask_test]\n",
    "features_train = get_features(train)[mask_train]\n",
    "\n",
    "targets_test = test['redshift'][mask_test]\n",
    "targets_train = train['redshift'][mask_train]"
   ]
  },
  {
   "cell_type": "code",
   "execution_count": null,
   "id": "3d1bddd2-6028-4a5b-b649-aeaf9d2435bb",
   "metadata": {},
   "outputs": [],
   "source": [
    "def run_it(reg):\n",
    "    preds = run_regression(reg, features_train[:,4:], targets_train, features_test[:,4:])\n",
    "    _ = plotting_functions.plot_true_predict_fancy(targets_test, np.nan_to_num(preds, -0.4))\n",
    "    _ = plotting_functions.plot_biweight_stats_v_redshift(targets_test, preds)"
   ]
  },
  {
   "cell_type": "code",
   "execution_count": null,
   "id": "e6ae9470-9556-4b94-a20f-ef560a2517a0",
   "metadata": {},
   "outputs": [],
   "source": [
    "def run_it_size(reg):\n",
    "    preds = run_regression(reg, features_train[:,3:], targets_train, features_test[:,3:])\n",
    "    _ = plotting_functions.plot_true_predict_fancy(targets_test, np.nan_to_num(preds, -0.4))\n",
    "    _ = plotting_functions.plot_biweight_stats_v_redshift(targets_test, preds)    "
   ]
  },
  {
   "cell_type": "code",
   "execution_count": null,
   "id": "319b2784-ed48-4286-8b4d-cf9946727863",
   "metadata": {},
   "outputs": [],
   "source": [
    "def run_it_sizes(reg):\n",
    "    preds = run_regression(reg, features_train[:,1:], targets_train, features_test[:,1:])\n",
    "    _ = plotting_functions.plot_true_predict_fancy(targets_test, np.nan_to_num(preds, -0.4))\n",
    "    _ = plotting_functions.plot_biweight_stats_v_redshift(targets_test, preds)    "
   ]
  },
  {
   "cell_type": "code",
   "execution_count": null,
   "id": "65c0eae3-9549-4520-bf1d-911bfd4b6909",
   "metadata": {},
   "outputs": [],
   "source": [
    "def run_it_all(reg):\n",
    "    preds = run_regression(reg, features_train, targets_train, features_test)\n",
    "    _ = plotting_functions.plot_true_predict_fancy(targets_test, np.nan_to_num(preds, -0.4))\n",
    "    _ = plotting_functions.plot_biweight_stats_v_redshift(targets_test, preds)"
   ]
  },
  {
   "cell_type": "code",
   "execution_count": null,
   "id": "ebeaf362-3cc7-47ff-a1ff-55694788503a",
   "metadata": {},
   "outputs": [],
   "source": [
    "run_it(etr)"
   ]
  },
  {
   "cell_type": "code",
   "execution_count": null,
   "id": "42c0a2f2-66c0-4038-95b4-e48fdb42d062",
   "metadata": {},
   "outputs": [],
   "source": [
    "run_it_size(etr)"
   ]
  },
  {
   "cell_type": "code",
   "execution_count": null,
   "id": "8d113e72-2a5e-4c21-8f6f-5a09079161ce",
   "metadata": {},
   "outputs": [],
   "source": [
    "run_it_sizes(etr)"
   ]
  },
  {
   "cell_type": "code",
   "execution_count": null,
   "id": "8c43a7c3-ba54-4674-af32-a50e3ef09885",
   "metadata": {},
   "outputs": [],
   "source": [
    "run_it_all(etr)"
   ]
  },
  {
   "cell_type": "code",
   "execution_count": null,
   "id": "77a1f6ac-c92e-4005-b1c6-12c0c204d098",
   "metadata": {},
   "outputs": [],
   "source": []
  }
 ],
 "metadata": {
  "kernelspec": {
   "display_name": "Python 3 (ipykernel)",
   "language": "python",
   "name": "python3"
  },
  "language_info": {
   "codemirror_mode": {
    "name": "ipython",
    "version": 3
   },
   "file_extension": ".py",
   "mimetype": "text/x-python",
   "name": "python",
   "nbconvert_exporter": "python",
   "pygments_lexer": "ipython3",
   "version": "3.13.3"
  }
 },
 "nbformat": 4,
 "nbformat_minor": 5
}
