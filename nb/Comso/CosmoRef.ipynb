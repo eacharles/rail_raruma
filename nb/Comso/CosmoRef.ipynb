{
 "cells": [
  {
   "cell_type": "markdown",
   "id": "6b615ed7-dd24-4c78-ae46-ae5b560a1d6a",
   "metadata": {},
   "source": [
    "## Notebook to explore effects of cosmological distances"
   ]
  },
  {
   "cell_type": "code",
   "execution_count": null,
   "id": "85655f6b-7b87-4e13-b494-b41e8c006dd8",
   "metadata": {},
   "outputs": [],
   "source": [
    "import pyccl as ccl\n",
    "import numpy as np\n",
    "import matplotlib.pyplot as plt\n",
    "import tables_io\n",
    "import qp"
   ]
  },
  {
   "cell_type": "code",
   "execution_count": null,
   "id": "818268a5-4c45-4cb3-aac1-597b43816dc8",
   "metadata": {},
   "outputs": [],
   "source": [
    "pz_dir = '/Users/echarles/pz'\n",
    "t = tables_io.read(f'{pz_dir}/sandbox_data/desi/desi_dp1_matches.fits')\n",
    "train = tables_io.read(f\"{pz_dir}/data/train/dp1_matched_v4_train.hdf5\")\n",
    "test = tables_io.read(f\"{pz_dir}/data/test/dp1_matched_v4_test.hdf5\")\n",
    "knn = qp.read(f\"{pz_dir}/projects/dp1_v4/data/gold_dp1_6band_paper/output_estimate_knn.hdf5\")\n"
   ]
  },
  {
   "cell_type": "code",
   "execution_count": null,
   "id": "87d0b62d-4e30-4afa-9df7-ea39ea05d32d",
   "metadata": {},
   "outputs": [],
   "source": [
    "cosmo = ccl.Cosmology(Omega_c=0.25, Omega_b=0.05,\n",
    "                          h=0.7, n_s=0.95, sigma8=0.8,\n",
    "                          transfer_function='bbks')"
   ]
  },
  {
   "cell_type": "code",
   "execution_count": null,
   "id": "9119e0f2-97f9-409a-891e-e3ae81960cb1",
   "metadata": {},
   "outputs": [],
   "source": [
    "z_vals = np.linspace(0, 6, 501)\n",
    "a_vals = 1/(1+z_vals)"
   ]
  },
  {
   "cell_type": "code",
   "execution_count": null,
   "id": "c3316437-736d-4ec7-8455-3a97ef436af0",
   "metadata": {},
   "outputs": [],
   "source": [
    "asec_to_rad = (360/(2*np.pi))*60*60"
   ]
  },
  {
   "cell_type": "code",
   "execution_count": null,
   "id": "0ab9aa82-f91a-40b3-8998-47993fc15b1e",
   "metadata": {},
   "outputs": [],
   "source": [
    "d_a_kpc = cosmo.angular_diameter_distance(a_vals)*1000"
   ]
  },
  {
   "cell_type": "code",
   "execution_count": null,
   "id": "99948a94-4b8a-4e2d-aa2f-07013f9faa1f",
   "metadata": {},
   "outputs": [],
   "source": [
    "a_scale = d_a_kpc / asec_to_rad"
   ]
  },
  {
   "cell_type": "code",
   "execution_count": null,
   "id": "0d0214ca-5b5b-4e99-aeba-74f952756eeb",
   "metadata": {},
   "outputs": [],
   "source": [
    "_ = plt.plot(z_vals, a_scale)\n",
    "_ = plt.xlabel('z')\n",
    "_ = plt.ylabel('Angular scale [kpc / \"]')"
   ]
  },
  {
   "cell_type": "code",
   "execution_count": null,
   "id": "88116d69-f130-4202-b397-05849d837d44",
   "metadata": {},
   "outputs": [],
   "source": [
    "_ = plt.plot(z_vals[1:], cosmo.distance_modulus(a_vals[1:])-20, label=\"MW Luminosity (-20)\")\n",
    "_ = plt.plot(z_vals[1:], cosmo.distance_modulus(a_vals[1:])-22.5, label=\"10 * MW Luminosity (-22.5)\")             \n",
    "_ = plt.xlabel('z')\n",
    "_ = plt.ylabel('Magnitude')\n",
    "_ = plt.legend()\n",
    "_ = plt.plot([0., 6.], [25.5, 25.5])\n",
    "_ = plt.ylim(15, 30)"
   ]
  },
  {
   "cell_type": "code",
   "execution_count": null,
   "id": "221b7e61-6311-4e94-bb8b-100485079b9b",
   "metadata": {},
   "outputs": [],
   "source": [
    "_ = plt.hist2d(knn.ancil['redshift'], test['i_psfMag'],  bins=(np.linspace(0, 4, 101), np.linspace(16, 28, 101)), cmap='gray', norm='log')\n",
    "_ = plt.xlabel(r\"$z_{ref}$\")\n",
    "_ = plt.ylabel(\"i [mag]\")\n",
    "_ = plt.plot(z_vals[1:], cosmo.distance_modulus(a_vals[1:])-20, label=\"MW Luminosity (-20)\")\n",
    "_ = plt.plot(z_vals[1:], cosmo.distance_modulus(a_vals[1:])-22.5, label=\"10 * MW Luminosity (-22.5)\")             \n",
    "_ = plt.plot([0., 4], [25.5, 25.5])"
   ]
  },
  {
   "cell_type": "code",
   "execution_count": null,
   "id": "a7dd4db2-580c-46e9-8ce2-353feb47ecbf",
   "metadata": {},
   "outputs": [],
   "source": [
    "_ = plt.hist2d(test['i_psfMag'], test['i_psfMagErr'], bins=(np.linspace(16, 25, 101), np.linspace(0, 0.1, 101)), cmap='gray', norm='log')\n",
    "_ = plt.xlabel(\"i [mag]\")\n",
    "_ = plt.ylabel(r\"$\\sigma_{i}$ [mag]\")"
   ]
  },
  {
   "cell_type": "code",
   "execution_count": null,
   "id": "e2bd3349-a744-497f-a0fc-4c6647dfd2aa",
   "metadata": {},
   "outputs": [],
   "source": [
    "_ = plt.hist2d(t['zred_DESI'], t['i_psfMag'],  bins=(np.linspace(0, 4, 101), np.linspace(16, 28, 101)), cmap='gray', norm='log')\n",
    "_ = plt.plot(z_vals[1:], cosmo.distance_modulus(a_vals[1:])-20, label=\"MW Luminosity (-20)\")\n",
    "_ = plt.plot(z_vals[1:], cosmo.distance_modulus(a_vals[1:])-22.5, label=\"10 * MW Luminosity (-22.5)\")             \n",
    "_ = plt.xlabel('z')\n",
    "_ = plt.ylabel('Magnitude')\n",
    "_ = plt.legend()\n"
   ]
  },
  {
   "cell_type": "code",
   "execution_count": null,
   "id": "22e795b1-e00b-4cef-bb67-642507145770",
   "metadata": {},
   "outputs": [],
   "source": [
    "_ = plt.hist2d(t['i_psfMag'], t['i_psfMagErr'], bins=(np.linspace(16, 24, 101), np.linspace(0, 0.2, 101)), cmap='gray', norm='log')\n",
    "_ = plt.xlabel(\"i [mag]\")\n",
    "_ = plt.ylabel(r\"$\\sigma_{i}$ [mag]\")"
   ]
  },
  {
   "cell_type": "code",
   "execution_count": null,
   "id": "f0b3ae0e-13ab-4ea7-b395-d6f2efaf202b",
   "metadata": {},
   "outputs": [],
   "source": [
    "_ = plt.hist2d(t['zred_DESI'], t['r_psfMag']-t['i_psfMag'], bins=(np.linspace(0, 1.6, 101), np.linspace(-0.5, 2, 101)), cmap='gray', norm='log')\n",
    "_ = plt.xlabel(\"redshift\")\n",
    "_ = plt.ylabel(\"r-i [mag]\")"
   ]
  },
  {
   "cell_type": "code",
   "execution_count": null,
   "id": "f92ec6de-5bea-4ef4-8547-0bda2f003849",
   "metadata": {},
   "outputs": [],
   "source": [
    "_ = plt.plot(z_vals[1:], 5/a_scale[1:])\n",
    "_ = plt.yscale('log')\n",
    "_ = plt.xlabel('z')\n",
    "_ = plt.ylim(0.1, 10)\n",
    "_ = plt.ylabel('Angular size of 5 kpc Object [\"]')"
   ]
  },
  {
   "cell_type": "code",
   "execution_count": null,
   "id": "d065cd6c-06c4-4bdd-96d8-84c8abf6aa81",
   "metadata": {},
   "outputs": [],
   "source": []
  },
  {
   "cell_type": "code",
   "execution_count": null,
   "id": "de4157cf-5ef1-4256-bb2b-d50d761d9b1a",
   "metadata": {},
   "outputs": [],
   "source": []
  }
 ],
 "metadata": {
  "kernelspec": {
   "display_name": "Python 3 (ipykernel)",
   "language": "python",
   "name": "python3"
  },
  "language_info": {
   "codemirror_mode": {
    "name": "ipython",
    "version": 3
   },
   "file_extension": ".py",
   "mimetype": "text/x-python",
   "name": "python",
   "nbconvert_exporter": "python",
   "pygments_lexer": "ipython3",
   "version": "3.13.3"
  }
 },
 "nbformat": 4,
 "nbformat_minor": 5
}
