{
 "cells": [
  {
   "cell_type": "code",
   "execution_count": null,
   "id": "e3482fe6-6462-484c-ab29-88642774f9c0",
   "metadata": {},
   "outputs": [],
   "source": [
    "import tables_io\n",
    "import numpy as np\n",
    "import matplotlib.pyplot as plt\n",
    "from rail.raruma import plotting_functions as raruma_plot\n",
    "from rail.raruma import utility_functions as raruma_util\n"
   ]
  },
  {
   "cell_type": "code",
   "execution_count": null,
   "id": "02ad760c-f276-44b9-8832-cc3357daa77c",
   "metadata": {},
   "outputs": [],
   "source": [
    "from rail.estimation.algos.k_nearneigh import KNearNeighInformer, KNearNeighEstimator\n",
    "from rail.core.data import Hdf5Handle, DataStore, DATA_STORE\n",
    "from rail.utils.catalog_utils import RomanRubinCatalogConfig\n",
    "DS = DATA_STORE()\n",
    "DataStore.allow_overwrite = True\n",
    "RomanRubinCatalogConfig.apply(RomanRubinCatalogConfig.tag)"
   ]
  },
  {
   "cell_type": "code",
   "execution_count": null,
   "id": "f044517a-7967-4db5-8fdb-b6da6f84734c",
   "metadata": {},
   "outputs": [],
   "source": [
    "d = tables_io.read(\"/Users/echarles/pz/sandbox_data/roman_rubin_9925.hdf5\")\n",
    "d.keys()\n",
    "train = tables_io.sliceObj(d, slice(0, -1, 10))\n",
    "test = tables_io.sliceObj(d, slice(1, -1, 10))"
   ]
  },
  {
   "cell_type": "code",
   "execution_count": null,
   "id": "3ff3958f-28e9-4ed6-b369-d78d759ad808",
   "metadata": {},
   "outputs": [],
   "source": [
    "dh = DS.read_file('input', Hdf5Handle, \"/Users/echarles/pz/sandbox_data/roman_rubin_9925.hdf5\")"
   ]
  },
  {
   "cell_type": "code",
   "execution_count": null,
   "id": "589d170b-d582-469d-abc8-fb713557ea43",
   "metadata": {},
   "outputs": [],
   "source": [
    "# knn_inform = KNearNeighInformer.make_stage(name='knn_inform')\n",
    "# knn_inform.inform(train)\n",
    "# knn_inform.finalize()\n",
    "# knn_estimate = KNearNeighEstimator.make_stage(name='knn_estimate', connections=dict(model=knn_inform.io.model))"
   ]
  },
  {
   "cell_type": "code",
   "execution_count": null,
   "id": "61d5d95f-1f69-4e76-b9a9-b31f4738b3ed",
   "metadata": {},
   "outputs": [],
   "source": [
    "train_targets, train_features = raruma_util.prepare_data_total_mag_and_colors(train, 'LSST_obs_{band}', 'ugrizy')\n",
    "test_targets, test_features = raruma_util.prepare_data_total_mag_and_colors(test, 'LSST_obs_{band}', 'ugrizy')"
   ]
  },
  {
   "cell_type": "code",
   "execution_count": null,
   "id": "235a9ac5-02af-4b11-9038-4c828a3b2f2d",
   "metadata": {},
   "outputs": [],
   "source": [
    "_ = raruma_plot.plot_true_nz(train_targets)"
   ]
  },
  {
   "cell_type": "code",
   "execution_count": null,
   "id": "b2d85dff-6edb-406a-a507-b2654dbc74fa",
   "metadata": {},
   "outputs": [],
   "source": [
    "from sklearn import preprocessing\n",
    "from sklearn.decomposition import PCA"
   ]
  },
  {
   "cell_type": "code",
   "execution_count": null,
   "id": "64c1b49c-20fd-4419-b207-316c23051763",
   "metadata": {},
   "outputs": [],
   "source": [
    "scaler = preprocessing.StandardScaler().fit(train_features)\n",
    "pca = PCA(n_components=train_features.shape[-1], whiten=False)"
   ]
  },
  {
   "cell_type": "code",
   "execution_count": null,
   "id": "2246ca0c-9fe1-4146-a226-0d725a870cff",
   "metadata": {},
   "outputs": [],
   "source": [
    "scaled_train = scaler.transform(train_features).clip(-5, 5)\n",
    "pca_train = pca.fit(scaled_train)"
   ]
  },
  {
   "cell_type": "code",
   "execution_count": null,
   "id": "0797495d-8cfb-499d-93ee-d67f6a838704",
   "metadata": {},
   "outputs": [],
   "source": [
    "scaled_test = scaler.transform(test_features).clip(-5, 5)\n",
    "pca_test = pca.fit(scaled_test)"
   ]
  },
  {
   "cell_type": "code",
   "execution_count": null,
   "id": "868ccc11-27a5-41e2-a08f-a3298713ebcb",
   "metadata": {},
   "outputs": [],
   "source": [
    "from sklearn.ensemble import (HistGradientBoostingRegressor, ExtraTreesRegressor, AdaBoostRegressor)\n",
    "from sklearn.gaussian_process import GaussianProcessRegressor\n",
    "from sklearn.isotonic import IsotonicRegression\n",
    "from sklearn.linear_model import HuberRegressor, LinearRegression, QuantileRegressor\n",
    "from sklearn.svm import NuSVR\n",
    "from sklearn.neighbors import KNeighborsRegressor, RadiusNeighborsRegressor"
   ]
  },
  {
   "cell_type": "code",
   "execution_count": null,
   "id": "a86414d7-e0a2-4b0d-aaa5-086995522a5b",
   "metadata": {},
   "outputs": [],
   "source": [
    "hbr = HistGradientBoostingRegressor()\n",
    "etr = ExtraTreesRegressor()\n",
    "abr = AdaBoostRegressor()\n",
    "gpr = GaussianProcessRegressor()\n",
    "isr = IsotonicRegression()\n",
    "hur = HuberRegressor()\n",
    "lir = LinearRegression()\n",
    "qur = QuantileRegressor()\n",
    "nsr = NuSVR()\n",
    "knr = KNeighborsRegressor()\n",
    "rnr = RadiusNeighborsRegressor()"
   ]
  },
  {
   "cell_type": "code",
   "execution_count": null,
   "id": "c7d02147-2129-40f6-b353-07ecfc8af4c6",
   "metadata": {},
   "outputs": [],
   "source": [
    "def run_it(reg):\n",
    "    preds = raruma_util.run_regression(reg, scaled_train, train_targets, scaled_test)\n",
    "    _ = raruma_plot.plot_true_predict_fancy(test_targets, np.nan_to_num(preds, -0.4))\n",
    "    _ = raruma_plot.plot_biweight_stats_v_redshift(test_targets, preds)"
   ]
  },
  {
   "cell_type": "code",
   "execution_count": null,
   "id": "44956b64-2c1b-4052-8d82-1ca54e956743",
   "metadata": {},
   "outputs": [],
   "source": [
    "run_it(hbr)"
   ]
  },
  {
   "cell_type": "code",
   "execution_count": null,
   "id": "85892270-d9eb-434f-a186-2b63378b610c",
   "metadata": {},
   "outputs": [],
   "source": [
    "run_it(knr)"
   ]
  },
  {
   "cell_type": "code",
   "execution_count": null,
   "id": "55ffde83-dc65-44d1-aa8d-a6ab99b78a6a",
   "metadata": {},
   "outputs": [],
   "source": []
  },
  {
   "cell_type": "code",
   "execution_count": null,
   "id": "48e1fef8-618b-4d35-b8c2-9f8745f833b0",
   "metadata": {},
   "outputs": [],
   "source": []
  }
 ],
 "metadata": {
  "kernelspec": {
   "display_name": "Python 3 (ipykernel)",
   "language": "python",
   "name": "python3"
  },
  "language_info": {
   "codemirror_mode": {
    "name": "ipython",
    "version": 3
   },
   "file_extension": ".py",
   "mimetype": "text/x-python",
   "name": "python",
   "nbconvert_exporter": "python",
   "pygments_lexer": "ipython3",
   "version": "3.13.3"
  }
 },
 "nbformat": 4,
 "nbformat_minor": 5
}
