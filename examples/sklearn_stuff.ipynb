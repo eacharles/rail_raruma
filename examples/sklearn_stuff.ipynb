{
 "cells": [
  {
   "cell_type": "code",
   "execution_count": 1,
   "id": "e3482fe6-6462-484c-ab29-88642774f9c0",
   "metadata": {},
   "outputs": [],
   "source": [
    "import tables_io\n",
    "import numpy as np\n",
    "import matplotlib.pyplot as plt\n",
    "from rail.raruma import plotting_functions as raruma_plot\n",
    "from rail.raruma import utility_functions as raruma_util\n"
   ]
  },
  {
   "cell_type": "code",
   "execution_count": 2,
   "id": "02ad760c-f276-44b9-8832-cc3357daa77c",
   "metadata": {},
   "outputs": [],
   "source": [
    "from rail.estimation.algos.k_nearneigh import KNearNeighInformer, KNearNeighEstimator\n",
    "from rail.core.data import Hdf5Handle, DataStore, DATA_STORE\n",
    "from rail.utils.catalog_utils import RomanRubinCatalogConfig\n",
    "DS = DATA_STORE()\n",
    "DataStore.allow_overwrite = True\n",
    "RomanRubinCatalogConfig.apply(RomanRubinCatalogConfig.tag)"
   ]
  },
  {
   "cell_type": "code",
   "execution_count": 3,
   "id": "f044517a-7967-4db5-8fdb-b6da6f84734c",
   "metadata": {},
   "outputs": [],
   "source": [
    "d = tables_io.read(\"/Users/echarles/pz/sandbox_data/roman_rubin_9925.hdf5\")\n",
    "d.keys()\n",
    "train = tables_io.sliceObj(d, slice(0, -1, 10))\n",
    "test = tables_io.sliceObj(d, slice(1, -1, 10))"
   ]
  },
  {
   "cell_type": "code",
   "execution_count": 4,
   "id": "3ff3958f-28e9-4ed6-b369-d78d759ad808",
   "metadata": {},
   "outputs": [],
   "source": [
    "dh = DS.read_file('input', Hdf5Handle, \"/Users/echarles/pz/sandbox_data/roman_rubin_9925.hdf5\")"
   ]
  },
  {
   "cell_type": "code",
   "execution_count": 5,
   "id": "589d170b-d582-469d-abc8-fb713557ea43",
   "metadata": {},
   "outputs": [],
   "source": [
    "knn_inform = KNearNeighInformer.make_stage(name='knn_inform')"
   ]
  },
  {
   "cell_type": "code",
   "execution_count": 6,
   "id": "60436e42-07df-46bc-8992-0c86ffdb4f14",
   "metadata": {},
   "outputs": [
    {
     "name": "stdout",
     "output_type": "stream",
     "text": [
      "split into 385331 training and 128444 validation samples\n",
      "finding best fit sigma and NNeigh...\n",
      "\n",
      "\n",
      "\n",
      "best fit values are sigma=0.017222222222222222 and numneigh=7\n",
      "\n",
      "\n",
      "\n",
      "Inserting handle into data store.  model_knn_inform: inprogress_model_knn_inform.pkl, knn_inform\n"
     ]
    },
    {
     "data": {
      "text/plain": [
       "<rail.core.data.ModelHandle at 0x11c606690>"
      ]
     },
     "execution_count": 6,
     "metadata": {},
     "output_type": "execute_result"
    }
   ],
   "source": [
    "knn_inform.inform(train)"
   ]
  },
  {
   "cell_type": "code",
   "execution_count": 7,
   "id": "a5c8f3c2-99f8-4f48-b3ad-7b5756b78c7b",
   "metadata": {},
   "outputs": [
    {
     "name": "stderr",
     "output_type": "stream",
     "text": [
      "NOTE/WARNING: Expected output file model_knn_inform.pkl was not generated.\n"
     ]
    }
   ],
   "source": [
    "knn_inform.finalize()"
   ]
  },
  {
   "cell_type": "code",
   "execution_count": 8,
   "id": "8ac7ed73-4b45-4ef1-a8ce-a86386102f05",
   "metadata": {},
   "outputs": [],
   "source": [
    "knn_estimate = KNearNeighEstimator.make_stage(name='knn_estimate', connections=dict(model=knn_inform.io.model))"
   ]
  },
  {
   "cell_type": "code",
   "execution_count": 9,
   "id": "00962fc7-3ff3-4702-a4e1-f1703817dec1",
   "metadata": {},
   "outputs": [
    {
     "name": "stdout",
     "output_type": "stream",
     "text": [
      "Process 0 running estimator on chunk 0 - 10,000\n",
      "Process 0 estimating PZ PDF for rows 0 - 10,000\n"
     ]
    },
    {
     "ename": "AttributeError",
     "evalue": "'KNearNeighEstimator' object has no attribute 'kdtree'",
     "output_type": "error",
     "traceback": [
      "\u001b[0;31m---------------------------------------------------------------------------\u001b[0m",
      "\u001b[0;31mAttributeError\u001b[0m                            Traceback (most recent call last)",
      "Cell \u001b[0;32mIn[9], line 1\u001b[0m\n\u001b[0;32m----> 1\u001b[0m \u001b[43mknn_estimate\u001b[49m\u001b[38;5;241;43m.\u001b[39;49m\u001b[43mestimate\u001b[49m\u001b[43m(\u001b[49m\u001b[43mtest\u001b[49m\u001b[43m)\u001b[49m\n",
      "File \u001b[0;32m~/software/DESC/rail_base/src/rail/estimation/estimator.py:80\u001b[0m, in \u001b[0;36mCatEstimator.estimate\u001b[0;34m(self, input_data)\u001b[0m\n\u001b[1;32m     78\u001b[0m \u001b[38;5;28mself\u001b[39m\u001b[38;5;241m.\u001b[39mset_data(\u001b[38;5;124m\"\u001b[39m\u001b[38;5;124minput\u001b[39m\u001b[38;5;124m\"\u001b[39m, input_data)\n\u001b[1;32m     79\u001b[0m \u001b[38;5;28mself\u001b[39m\u001b[38;5;241m.\u001b[39mvalidate()\n\u001b[0;32m---> 80\u001b[0m \u001b[38;5;28;43mself\u001b[39;49m\u001b[38;5;241;43m.\u001b[39;49m\u001b[43mrun\u001b[49m\u001b[43m(\u001b[49m\u001b[43m)\u001b[49m\n\u001b[1;32m     81\u001b[0m \u001b[38;5;28mself\u001b[39m\u001b[38;5;241m.\u001b[39mfinalize()\n\u001b[1;32m     82\u001b[0m results \u001b[38;5;241m=\u001b[39m \u001b[38;5;28mself\u001b[39m\u001b[38;5;241m.\u001b[39mget_handle(\u001b[38;5;124m\"\u001b[39m\u001b[38;5;124moutput\u001b[39m\u001b[38;5;124m\"\u001b[39m)\n",
      "File \u001b[0;32m~/software/DESC/rail_base/src/rail/estimation/estimator.py:95\u001b[0m, in \u001b[0;36mCatEstimator.run\u001b[0;34m(self)\u001b[0m\n\u001b[1;32m     93\u001b[0m \u001b[38;5;28;01mfor\u001b[39;00m s, e, test_data \u001b[38;5;129;01min\u001b[39;00m iterator:\n\u001b[1;32m     94\u001b[0m     \u001b[38;5;28mprint\u001b[39m(\u001b[38;5;124mf\u001b[39m\u001b[38;5;124m\"\u001b[39m\u001b[38;5;124mProcess \u001b[39m\u001b[38;5;132;01m{\u001b[39;00m\u001b[38;5;28mself\u001b[39m\u001b[38;5;241m.\u001b[39mrank\u001b[38;5;132;01m}\u001b[39;00m\u001b[38;5;124m running estimator on chunk \u001b[39m\u001b[38;5;132;01m{\u001b[39;00ms\u001b[38;5;132;01m:\u001b[39;00m\u001b[38;5;124m,\u001b[39m\u001b[38;5;132;01m}\u001b[39;00m\u001b[38;5;124m - \u001b[39m\u001b[38;5;132;01m{\u001b[39;00me\u001b[38;5;132;01m:\u001b[39;00m\u001b[38;5;124m,\u001b[39m\u001b[38;5;132;01m}\u001b[39;00m\u001b[38;5;124m\"\u001b[39m)\n\u001b[0;32m---> 95\u001b[0m     \u001b[38;5;28;43mself\u001b[39;49m\u001b[38;5;241;43m.\u001b[39;49m\u001b[43m_process_chunk\u001b[49m\u001b[43m(\u001b[49m\u001b[43ms\u001b[49m\u001b[43m,\u001b[49m\u001b[43m \u001b[49m\u001b[43me\u001b[49m\u001b[43m,\u001b[49m\u001b[43m \u001b[49m\u001b[43mtest_data\u001b[49m\u001b[43m,\u001b[49m\u001b[43m \u001b[49m\u001b[43mfirst\u001b[49m\u001b[43m)\u001b[49m\n\u001b[1;32m     96\u001b[0m     first \u001b[38;5;241m=\u001b[39m \u001b[38;5;28;01mFalse\u001b[39;00m\n\u001b[1;32m     97\u001b[0m     \u001b[38;5;66;03m# Running garbage collection manually seems to be needed\u001b[39;00m\n\u001b[1;32m     98\u001b[0m     \u001b[38;5;66;03m# to avoid memory growth for some estimators\u001b[39;00m\n",
      "File \u001b[0;32m~/software/DESC/rail_sklearn/src/rail/estimation/algos/k_nearneigh.py:200\u001b[0m, in \u001b[0;36mKNearNeighEstimator._process_chunk\u001b[0;34m(self, start, end, data, first)\u001b[0m\n\u001b[1;32m    197\u001b[0m         knn_df\u001b[38;5;241m.\u001b[39mloc[np\u001b[38;5;241m.\u001b[39misclose(knn_df[col], \u001b[38;5;28mself\u001b[39m\u001b[38;5;241m.\u001b[39mconfig\u001b[38;5;241m.\u001b[39mnondetect_val), col] \u001b[38;5;241m=\u001b[39m np\u001b[38;5;241m.\u001b[39mfloat32(\u001b[38;5;28mself\u001b[39m\u001b[38;5;241m.\u001b[39mconfig\u001b[38;5;241m.\u001b[39mmag_limits[col])\n\u001b[1;32m    199\u001b[0m testcolordata \u001b[38;5;241m=\u001b[39m _computecolordata(knn_df, \u001b[38;5;28mself\u001b[39m\u001b[38;5;241m.\u001b[39mconfig\u001b[38;5;241m.\u001b[39mref_band, \u001b[38;5;28mself\u001b[39m\u001b[38;5;241m.\u001b[39mconfig\u001b[38;5;241m.\u001b[39mbands, \u001b[38;5;28mself\u001b[39m\u001b[38;5;241m.\u001b[39monly_colors)\n\u001b[0;32m--> 200\u001b[0m dists, idxs \u001b[38;5;241m=\u001b[39m \u001b[38;5;28;43mself\u001b[39;49m\u001b[38;5;241;43m.\u001b[39;49m\u001b[43mkdtree\u001b[49m\u001b[38;5;241m.\u001b[39mquery(testcolordata, k\u001b[38;5;241m=\u001b[39m\u001b[38;5;28mself\u001b[39m\u001b[38;5;241m.\u001b[39mnumneigh)\n\u001b[1;32m    201\u001b[0m dists \u001b[38;5;241m+\u001b[39m\u001b[38;5;241m=\u001b[39m TEENY\n\u001b[1;32m    202\u001b[0m test_ens \u001b[38;5;241m=\u001b[39m _makepdf(dists, idxs, \u001b[38;5;28mself\u001b[39m\u001b[38;5;241m.\u001b[39mtrainszs, \u001b[38;5;28mself\u001b[39m\u001b[38;5;241m.\u001b[39msigma)\n",
      "\u001b[0;31mAttributeError\u001b[0m: 'KNearNeighEstimator' object has no attribute 'kdtree'"
     ]
    }
   ],
   "source": [
    "knn_estimate.estimate(test)"
   ]
  },
  {
   "cell_type": "code",
   "execution_count": null,
   "id": "61d5d95f-1f69-4e76-b9a9-b31f4738b3ed",
   "metadata": {},
   "outputs": [],
   "source": [
    "train_targets, train_features = raruma_util.prepare_data_total_mag_and_colors(train, 'LSST_obs_{band}', 'ugrizy')\n",
    "test_targets, test_features = raruma_util.prepare_data_total_mag_and_colors(test, 'LSST_obs_{band}', 'ugrizy')"
   ]
  },
  {
   "cell_type": "code",
   "execution_count": null,
   "id": "235a9ac5-02af-4b11-9038-4c828a3b2f2d",
   "metadata": {},
   "outputs": [],
   "source": [
    "_ = raruma_plot.plot_true_nz(train_targets)"
   ]
  },
  {
   "cell_type": "code",
   "execution_count": null,
   "id": "b2d85dff-6edb-406a-a507-b2654dbc74fa",
   "metadata": {},
   "outputs": [],
   "source": [
    "from sklearn import preprocessing\n",
    "from sklearn.decomposition import PCA"
   ]
  },
  {
   "cell_type": "code",
   "execution_count": null,
   "id": "64c1b49c-20fd-4419-b207-316c23051763",
   "metadata": {},
   "outputs": [],
   "source": [
    "scaler = preprocessing.StandardScaler().fit(train_features)\n",
    "pca = PCA(n_components=train_features.shape[-1], whiten=False)"
   ]
  },
  {
   "cell_type": "code",
   "execution_count": null,
   "id": "2246ca0c-9fe1-4146-a226-0d725a870cff",
   "metadata": {},
   "outputs": [],
   "source": [
    "scaled_train = scaler.transform(train_features).clip(-5, 5)\n",
    "pca_train = pca.fit(scaled_train)"
   ]
  },
  {
   "cell_type": "code",
   "execution_count": null,
   "id": "0797495d-8cfb-499d-93ee-d67f6a838704",
   "metadata": {},
   "outputs": [],
   "source": [
    "scaled_test = scaler.transform(test_features).clip(-5, 5)\n",
    "pca_test = pca.fit(scaled_test)"
   ]
  },
  {
   "cell_type": "code",
   "execution_count": null,
   "id": "868ccc11-27a5-41e2-a08f-a3298713ebcb",
   "metadata": {},
   "outputs": [],
   "source": [
    "from sklearn.ensemble import (HistGradientBoostingRegressor, ExtraTreesRegressor, AdaBoostRegressor)\n",
    "from sklearn.gaussian_process import GaussianProcessRegressor\n",
    "from sklearn.isotonic import IsotonicRegression\n",
    "from sklearn.linear_model import HuberRegressor, LinearRegression, QuantileRegressor\n",
    "from sklearn.svm import NuSVR\n",
    "from sklearn.neighbors import KNeighborsRegressor, RadiusNeighborsRegressor"
   ]
  },
  {
   "cell_type": "code",
   "execution_count": null,
   "id": "a86414d7-e0a2-4b0d-aaa5-086995522a5b",
   "metadata": {},
   "outputs": [],
   "source": [
    "hbr = HistGradientBoostingRegressor()\n",
    "etr = ExtraTreesRegressor()\n",
    "abr = AdaBoostRegressor()\n",
    "gpr = GaussianProcessRegressor()\n",
    "isr = IsotonicRegression()\n",
    "hur = HuberRegressor()\n",
    "lir = LinearRegression()\n",
    "qur = QuantileRegressor()\n",
    "nsr = NuSVR()\n",
    "knr = KNeighborsRegressor()\n",
    "rnr = RadiusNeighborsRegressor()"
   ]
  },
  {
   "cell_type": "code",
   "execution_count": null,
   "id": "c7d02147-2129-40f6-b353-07ecfc8af4c6",
   "metadata": {},
   "outputs": [],
   "source": [
    "def run_it(reg):\n",
    "    preds = raruma_util.run_regression(reg, scaled_train, train_targets, scaled_test)\n",
    "    _ = raruma_plot.plot_true_predict_fancy(test_targets, np.nan_to_num(preds, -0.4))\n",
    "    _ = raruma_plot.plot_biweight_stats_v_redshift(test_targets, preds)"
   ]
  },
  {
   "cell_type": "code",
   "execution_count": null,
   "id": "44956b64-2c1b-4052-8d82-1ca54e956743",
   "metadata": {},
   "outputs": [],
   "source": [
    "run_it(hbr)"
   ]
  },
  {
   "cell_type": "code",
   "execution_count": null,
   "id": "85892270-d9eb-434f-a186-2b63378b610c",
   "metadata": {},
   "outputs": [],
   "source": [
    "run_it(knr)"
   ]
  },
  {
   "cell_type": "code",
   "execution_count": null,
   "id": "55ffde83-dc65-44d1-aa8d-a6ab99b78a6a",
   "metadata": {},
   "outputs": [],
   "source": []
  }
 ],
 "metadata": {
  "kernelspec": {
   "display_name": "Python 3 (ipykernel)",
   "language": "python",
   "name": "python3"
  },
  "language_info": {
   "codemirror_mode": {
    "name": "ipython",
    "version": 3
   },
   "file_extension": ".py",
   "mimetype": "text/x-python",
   "name": "python",
   "nbconvert_exporter": "python",
   "pygments_lexer": "ipython3",
   "version": "3.11.4"
  }
 },
 "nbformat": 4,
 "nbformat_minor": 5
}
