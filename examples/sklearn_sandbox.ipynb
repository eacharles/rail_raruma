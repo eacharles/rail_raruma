{
 "cells": [
  {
   "cell_type": "code",
   "execution_count": null,
   "id": "faa92b92-d470-4cce-ad90-77f2878c66ee",
   "metadata": {},
   "outputs": [],
   "source": [
    "import tables_io\n",
    "import numpy as np\n",
    "import matplotlib.pyplot as plt\n",
    "import qp"
   ]
  },
  {
   "cell_type": "code",
   "execution_count": null,
   "id": "6f58960f-ed19-4c85-a309-72a559d090ea",
   "metadata": {},
   "outputs": [],
   "source": [
    "f = tables_io.read('/Users/echarles/pz/data/train/dc2_run2p2i_dr6_train_dered.hdf5')\n",
    "t = tables_io.read('/Users/echarles/pz/data/test/dc2_run2p2i_dr6_test_dered.hdf5')\n",
    "x = qp.read('/Users/echarles/pz/projects/dc2_run2p2i/data/gold_baseline/output_estimate_knn.hdf5')"
   ]
  },
  {
   "cell_type": "code",
   "execution_count": null,
   "id": "42a2adfa-ec09-4beb-a433-39f93f21db00",
   "metadata": {},
   "outputs": [],
   "source": [
    "from sklearn.ensemble import HistGradientBoostingRegressor"
   ]
  },
  {
   "cell_type": "code",
   "execution_count": null,
   "id": "115c8132-8289-4def-8f29-bd8b2e20432c",
   "metadata": {},
   "outputs": [],
   "source": [
    "mags_i = f[f\"mag_i_cModel_obj_dered\"]\n",
    "features = np.vstack([mags_i] + [f[f\"mag_{band}_cModel_obj_dered\"] - mags_i for band in 'ugrzy']).T\n",
    "mags = np.vstack([f[f\"mag_{band}_cModel_obj_dered\"] for band in 'ugrizy']).T\n",
    "targets = f['redshift_true']"
   ]
  },
  {
   "cell_type": "code",
   "execution_count": null,
   "id": "45fd4c0f-e85a-48d6-bda8-09c6d8c140ea",
   "metadata": {},
   "outputs": [],
   "source": [
    "reg = HistGradientBoostingRegressor(max_iter=5000)"
   ]
  },
  {
   "cell_type": "code",
   "execution_count": null,
   "id": "b0ef2dc2-3ecd-4891-aff7-eb2e5b446c27",
   "metadata": {},
   "outputs": [],
   "source": [
    "reg.fit(features, targets)"
   ]
  },
  {
   "cell_type": "code",
   "execution_count": null,
   "id": "ece26650-de04-4304-ba81-40d52202c761",
   "metadata": {},
   "outputs": [],
   "source": [
    "test_mags_i = t[f\"mag_i_cModel_obj_dered\"]\n",
    "test_features = np.vstack([test_mags_i] + [t[f\"mag_{band}_cModel_obj_dered\"] - test_mags_i for band in 'ugrzy']).T\n",
    "test_mags = np.vstack([t[f\"mag_{band}_cModel_obj_dered\"] for band in 'ugrizy']).T\n",
    "test_targets = t['redshift_true']"
   ]
  },
  {
   "cell_type": "code",
   "execution_count": null,
   "id": "7b3bd703-8d9b-4c81-9d34-d853dc0139a5",
   "metadata": {},
   "outputs": [],
   "source": [
    "test = reg.predict(test_features)"
   ]
  },
  {
   "cell_type": "code",
   "execution_count": null,
   "id": "4ea08313-fbed-44ff-be7a-ef227a405215",
   "metadata": {},
   "outputs": [],
   "source": [
    "_ = plt.hist2d(test_targets, test, bins=np.linspace(0, 3., 301))"
   ]
  },
  {
   "cell_type": "code",
   "execution_count": null,
   "id": "4bd76ffa-d8bf-40d9-b1e0-c7d333f6c8e9",
   "metadata": {},
   "outputs": [],
   "source": [
    "_ = plt.hist2d(test_targets, np.squeeze(x.ancil['zmode']), bins=np.linspace(0, 3., 301), norm=\"log\")"
   ]
  },
  {
   "cell_type": "code",
   "execution_count": null,
   "id": "c538fdc1-ddb9-4281-b166-6512cc4cb7aa",
   "metadata": {},
   "outputs": [],
   "source": [
    "from sklearn.decomposition import PCA"
   ]
  },
  {
   "cell_type": "code",
   "execution_count": null,
   "id": "560eac68-8bdf-4f1b-85bd-f1d4d5e97842",
   "metadata": {},
   "outputs": [],
   "source": [
    "pca = PCA(n_components=6)"
   ]
  },
  {
   "cell_type": "code",
   "execution_count": null,
   "id": "57386e88-018d-4e43-91ed-c888f4642cf1",
   "metadata": {},
   "outputs": [],
   "source": [
    "pca.fit(features)"
   ]
  },
  {
   "cell_type": "code",
   "execution_count": null,
   "id": "3e0aee6a-81c4-4342-9935-c7e1fe629410",
   "metadata": {},
   "outputs": [],
   "source": [
    "pca.singular_values_"
   ]
  },
  {
   "cell_type": "code",
   "execution_count": null,
   "id": "7d76adce-7245-4f58-b43a-726e10f983c2",
   "metadata": {},
   "outputs": [],
   "source": [
    "pca.transform(features)"
   ]
  },
  {
   "cell_type": "code",
   "execution_count": null,
   "id": "bfe21ef6-ab10-446d-be26-882bf4ce654b",
   "metadata": {},
   "outputs": [],
   "source": [
    "reg2 = HistGradientBoostingRegressor(max_iter=5000)"
   ]
  },
  {
   "cell_type": "code",
   "execution_count": null,
   "id": "3c969b9e-2721-4999-a5b7-e31f793af07f",
   "metadata": {},
   "outputs": [],
   "source": [
    "reg2.fit(pca.transform(features), targets)"
   ]
  },
  {
   "cell_type": "code",
   "execution_count": null,
   "id": "cdb0abb1-0cc5-48fc-aa38-9421f121e1db",
   "metadata": {},
   "outputs": [],
   "source": [
    "test2 = reg2.predict(pca.transform(test_features))"
   ]
  },
  {
   "cell_type": "code",
   "execution_count": null,
   "id": "cce0126c-cd70-4659-8106-bec5ebacafba",
   "metadata": {},
   "outputs": [],
   "source": [
    "_ = plt.hist2d(test_targets, test2, bins=np.linspace(0, 3., 301))"
   ]
  },
  {
   "cell_type": "code",
   "execution_count": null,
   "id": "f56925f3-8df4-4e61-84d0-3cccf9c7a6cd",
   "metadata": {},
   "outputs": [],
   "source": [
    "from sklearn.cluster import OPTICS"
   ]
  },
  {
   "cell_type": "code",
   "execution_count": null,
   "id": "7c9e144b-bc1f-4ddd-90f7-f5efe3e9f025",
   "metadata": {},
   "outputs": [],
   "source": [
    "clustering = OPTICS()"
   ]
  },
  {
   "cell_type": "code",
   "execution_count": null,
   "id": "6d7e9a63-ac7d-48b7-bd94-e8001a132770",
   "metadata": {},
   "outputs": [],
   "source": [
    "#clustering.fit(features)"
   ]
  },
  {
   "cell_type": "code",
   "execution_count": null,
   "id": "80d137d5-a905-463d-b9db-06a54e636b38",
   "metadata": {},
   "outputs": [],
   "source": [
    "_ = plt.hist2d(targets, pca.transform(features)[:,3], bins=(50,50), norm='log')"
   ]
  },
  {
   "cell_type": "code",
   "execution_count": null,
   "id": "b0cd0461-3717-4b51-84de-334277c96b05",
   "metadata": {},
   "outputs": [],
   "source": []
  }
 ],
 "metadata": {
  "kernelspec": {
   "display_name": "Python 3 (ipykernel)",
   "language": "python",
   "name": "python3"
  },
  "language_info": {
   "codemirror_mode": {
    "name": "ipython",
    "version": 3
   },
   "file_extension": ".py",
   "mimetype": "text/x-python",
   "name": "python",
   "nbconvert_exporter": "python",
   "pygments_lexer": "ipython3",
   "version": "3.11.4"
  }
 },
 "nbformat": 4,
 "nbformat_minor": 5
}
