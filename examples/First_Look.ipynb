{
 "cells": [
  {
   "cell_type": "code",
   "execution_count": null,
   "id": "15fb2519-fa1d-4b25-94c5-22a5c630c9f6",
   "metadata": {},
   "outputs": [],
   "source": [
    "import numpy as np\n",
    "from rail.tools.photometry_tools import LSSTFluxToMagConverter, Dereddener\n",
    "from rail.utils.catalog_utils import RubinFLCatalogConfig\n",
    "from rail.core.data import TableHandle, DataStore, DATA_STORE\n",
    "from rail.raruma import utility_functions as raruma_utils"
   ]
  },
  {
   "cell_type": "code",
   "execution_count": null,
   "id": "b68c1538-02c0-46c6-8967-c2b2358e8552",
   "metadata": {},
   "outputs": [],
   "source": [
    "a_env_dict = RubinFLCatalogConfig.build_base_dict()['band_a_env']"
   ]
  },
  {
   "cell_type": "code",
   "execution_count": null,
   "id": "755ff947-f6c7-4ea9-ac58-830e0b6206ef",
   "metadata": {},
   "outputs": [],
   "source": [
    "DS = DATA_STORE()\n",
    "DataStore.allow_overwrite = True"
   ]
  },
  {
   "cell_type": "code",
   "execution_count": null,
   "id": "9a0633b3-0e44-4f7e-9a1d-ee750cdec31b",
   "metadata": {},
   "outputs": [],
   "source": [
    "fl_data = DS.read_file('fl_data', TableHandle, 'cmodel_results.pq')"
   ]
  },
  {
   "cell_type": "code",
   "execution_count": null,
   "id": "f5be6eb3-4d38-4dd4-be27-dd85e86d72dc",
   "metadata": {},
   "outputs": [],
   "source": [
    "fl_data.data"
   ]
  },
  {
   "cell_type": "code",
   "execution_count": null,
   "id": "40f09d69-c327-4c6f-a97b-607dbe49a2e9",
   "metadata": {},
   "outputs": [],
   "source": [
    "flux_to_mag = LSSTFluxToMagConverter.make_stage(\n",
    "    name='flux_to_mag',\n",
    "    bands='ugri',\n",
    "    flux_name='{band}_scarlet_flux',\n",
    "    flux_err_name='{band}_cmodel_fluxErr',\n",
    "    mag_name=\"{band}_cModelMag\",\n",
    "    mag_err_name=\"{band}_cModelMagErr\",\n",
    "    copy_cols=dict(id='id', ra='ra', dec='dec'),\n",
    "    mag_offset=31.4,\n",
    ")"
   ]
  },
  {
   "cell_type": "code",
   "execution_count": null,
   "id": "41b80aa4-be53-4996-b4f0-86cca8fd100f",
   "metadata": {},
   "outputs": [],
   "source": [
    "deredden = Dereddener.make_stage(\n",
    "    ra_name='ra',\n",
    "    dec_name='dec',\n",
    "    mag_name=\"{band}_cmodelMag\",\n",
    "    band_a_env=a_env_dict,\n",
    "    dustmap_name='sfd',\n",
    "    dustmap_dir='/Users/echarles/pz/dustmaps',\n",
    "    copy_all_cols=True,    \n",
    ")"
   ]
  },
  {
   "cell_type": "code",
   "execution_count": null,
   "id": "42eb3b88-473f-4c45-acb3-d5b18ff3a4f3",
   "metadata": {},
   "outputs": [],
   "source": [
    "out_data = flux_to_mag(fl_data)"
   ]
  },
  {
   "cell_type": "code",
   "execution_count": null,
   "id": "8c9efe81-db9c-4492-9169-413d1a6a04b0",
   "metadata": {},
   "outputs": [],
   "source": [
    "flux_to_mag.finalize()"
   ]
  },
  {
   "cell_type": "code",
   "execution_count": null,
   "id": "53af478f-283d-41af-8752-8010f6cae375",
   "metadata": {},
   "outputs": [],
   "source": [
    "dered = deredden(out_data)"
   ]
  },
  {
   "cell_type": "code",
   "execution_count": null,
   "id": "27665735-5ed9-4e29-aa94-4b16e6cc1f85",
   "metadata": {},
   "outputs": [],
   "source": [
    "deredden.finalize()"
   ]
  },
  {
   "cell_type": "code",
   "execution_count": null,
   "id": "ec84c340-1baa-4902-8797-b03b3f7d0e95",
   "metadata": {},
   "outputs": [],
   "source": []
  }
 ],
 "metadata": {
  "kernelspec": {
   "display_name": "Python 3 (ipykernel)",
   "language": "python",
   "name": "python3"
  },
  "language_info": {
   "codemirror_mode": {
    "name": "ipython",
    "version": 3
   },
   "file_extension": ".py",
   "mimetype": "text/x-python",
   "name": "python",
   "nbconvert_exporter": "python",
   "pygments_lexer": "ipython3",
   "version": "3.13.3"
  }
 },
 "nbformat": 4,
 "nbformat_minor": 5
}
