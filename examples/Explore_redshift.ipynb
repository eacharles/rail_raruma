{
 "cells": [
  {
   "cell_type": "code",
   "execution_count": null,
   "id": "f15be03a-31f0-4906-9c57-8ebcd51a50df",
   "metadata": {},
   "outputs": [],
   "source": [
    "import tables_io\n",
    "import numpy as np\n",
    "import matplotlib.pyplot as plt\n",
    "from rail.raruma import plotting_functions as raruma_plot\n",
    "from rail.raruma import utility_functions as raruma_util\n"
   ]
  },
  {
   "cell_type": "code",
   "execution_count": null,
   "id": "af065f45-8444-46bd-abb9-8c543a06807d",
   "metadata": {},
   "outputs": [],
   "source": [
    "d = tables_io.read(\"/Users/echarles/pz/sandbox_data/roman_rubin_9925.hdf5\")"
   ]
  },
  {
   "cell_type": "code",
   "execution_count": null,
   "id": "d7ac6952-8425-453e-8400-a87d33f1c641",
   "metadata": {},
   "outputs": [],
   "source": [
    "d.keys()"
   ]
  },
  {
   "cell_type": "code",
   "execution_count": null,
   "id": "2cd82f27-37f0-46c0-bb60-e10cce201ab0",
   "metadata": {},
   "outputs": [],
   "source": [
    "train = tables_io.sliceObj(d, slice(0, -1, 2))\n",
    "test = tables_io.sliceObj(d, slice(1, -1, 2))"
   ]
  },
  {
   "cell_type": "code",
   "execution_count": null,
   "id": "e7b3fa62-20c4-4483-bb4a-cf46dd160d68",
   "metadata": {},
   "outputs": [],
   "source": [
    "from sklearn.ensemble import HistGradientBoostingRegressor"
   ]
  },
  {
   "cell_type": "code",
   "execution_count": null,
   "id": "19dfb9f5-8e75-49a5-8e99-1424a68d732e",
   "metadata": {},
   "outputs": [],
   "source": [
    "reg = HistGradientBoostingRegressor(max_iter=5000)"
   ]
  },
  {
   "cell_type": "code",
   "execution_count": null,
   "id": "75e77d10-bc3d-4cf7-b704-60df2f0189b5",
   "metadata": {},
   "outputs": [],
   "source": [
    "train_targets, train_features = raruma_util.prepare_data_total_mag_and_colors(train, 'LSST_obs_{band}', 'ugrizy')\n",
    "test_targets, test_features = raruma_util.prepare_data_total_mag_and_colors(test, 'LSST_obs_{band}', 'ugrizy')"
   ]
  },
  {
   "cell_type": "code",
   "execution_count": null,
   "id": "efa9a3f1-c903-4a18-9c93-7934e110c9bd",
   "metadata": {},
   "outputs": [],
   "source": [
    "from sklearn import preprocessing"
   ]
  },
  {
   "cell_type": "code",
   "execution_count": null,
   "id": "5f648232-7775-45ca-97be-7269019fa207",
   "metadata": {},
   "outputs": [],
   "source": [
    "scaler = preprocessing.StandardScaler().fit(train_features)"
   ]
  },
  {
   "cell_type": "code",
   "execution_count": null,
   "id": "beec818a-0a3e-408d-94cc-d77a4017701d",
   "metadata": {},
   "outputs": [],
   "source": [
    "scaler.transform(train_features)"
   ]
  },
  {
   "cell_type": "code",
   "execution_count": null,
   "id": "7290dfb7-2295-4456-af42-49e948b68df1",
   "metadata": {},
   "outputs": [],
   "source": [
    "scaled = scaler.transform(train_features).clip(-5, 5)"
   ]
  },
  {
   "cell_type": "code",
   "execution_count": null,
   "id": "42816de5-59c8-4d68-b3e6-d4a1048786fb",
   "metadata": {},
   "outputs": [],
   "source": [
    "train_features[0:,0].min()"
   ]
  },
  {
   "cell_type": "code",
   "execution_count": null,
   "id": "c4d2baee-9806-444b-b7f7-a5224e7c0135",
   "metadata": {},
   "outputs": [],
   "source": [
    "train_features.shape"
   ]
  },
  {
   "cell_type": "code",
   "execution_count": null,
   "id": "425d120c-de30-4f67-b66b-f44e11201e3a",
   "metadata": {},
   "outputs": [],
   "source": [
    "# from sklearn.cluster import DBSCAN\n",
    "\n",
    "# db = DBSCAN(eps=0.3, min_samples=10)\n",
    "# db.fit(train_features)"
   ]
  },
  {
   "cell_type": "code",
   "execution_count": null,
   "id": "450d539d-584b-4abb-9079-df59b7c8654a",
   "metadata": {},
   "outputs": [],
   "source": [
    "# labels = np.array(db.labels_)"
   ]
  },
  {
   "cell_type": "code",
   "execution_count": null,
   "id": "846cc7e8-1658-40e5-a433-726f1c284c30",
   "metadata": {},
   "outputs": [],
   "source": [
    "# np.bincount(labels+1)"
   ]
  },
  {
   "cell_type": "code",
   "execution_count": null,
   "id": "6cb6c1ff-4ace-48d0-b5af-3166005fbbf5",
   "metadata": {},
   "outputs": [],
   "source": [
    "from sklearn.decomposition import PCA"
   ]
  },
  {
   "cell_type": "code",
   "execution_count": null,
   "id": "2ff2fe5d-ffed-4c89-b621-7a7f67abe626",
   "metadata": {},
   "outputs": [],
   "source": [
    "pca = PCA(n_components=scaled.shape[-1], whiten=False)"
   ]
  },
  {
   "cell_type": "code",
   "execution_count": null,
   "id": "0f94f4e1-ffe9-4b55-82cd-fedf2f37c6cf",
   "metadata": {},
   "outputs": [],
   "source": [
    "pca.fit(scaled.clip(-5, 5))"
   ]
  },
  {
   "cell_type": "code",
   "execution_count": null,
   "id": "205d3f5a-b2e9-4739-8d98-a61137023b53",
   "metadata": {},
   "outputs": [],
   "source": [
    "pca.explained_variance_ratio_"
   ]
  },
  {
   "cell_type": "code",
   "execution_count": null,
   "id": "c1f9955c-ff73-40c8-9e5c-8bbf266791b0",
   "metadata": {},
   "outputs": [],
   "source": [
    "pca_out = pca.transform(scaled)"
   ]
  },
  {
   "cell_type": "code",
   "execution_count": null,
   "id": "c56f3de0-79f9-4516-8851-37338c0c1ae8",
   "metadata": {},
   "outputs": [],
   "source": [
    "fig = raruma_plot.plot_feature_histograms(scaled)"
   ]
  },
  {
   "cell_type": "code",
   "execution_count": null,
   "id": "dc98aa00-b794-4a0b-b04f-c4c4c99ef2d2",
   "metadata": {},
   "outputs": [],
   "source": [
    "fig = raruma_plot.plot_feature_histograms(pca_out)"
   ]
  },
  {
   "cell_type": "code",
   "execution_count": null,
   "id": "c62d7c40-6937-4550-a52e-ef85b05608a8",
   "metadata": {},
   "outputs": [],
   "source": [
    "_ = raruma_plot.plot_pca_hist2d(train_features, pca_out)"
   ]
  },
  {
   "cell_type": "code",
   "execution_count": null,
   "id": "904c922b-9f0c-4aa5-b774-568bfd038226",
   "metadata": {},
   "outputs": [],
   "source": [
    "_ = raruma_plot.plot_feature_target_hist2d(train_features, train_targets)"
   ]
  },
  {
   "cell_type": "code",
   "execution_count": null,
   "id": "ebcf8232-ff2a-4db0-88cf-1e7081701b7f",
   "metadata": {},
   "outputs": [],
   "source": [
    "_ = raruma_plot.plot_feature_target_hist2d(pca_out, train_targets)"
   ]
  },
  {
   "cell_type": "code",
   "execution_count": null,
   "id": "f25b6a23-1285-4edf-babe-bb1c2fc5e123",
   "metadata": {},
   "outputs": [],
   "source": [
    "# _ = raruma_plot.plot_features_target_scatter(pca_out, train_targets)"
   ]
  },
  {
   "cell_type": "code",
   "execution_count": null,
   "id": "473ea856-1825-41a6-8564-8b1b698b2cb5",
   "metadata": {},
   "outputs": [],
   "source": [
    "preds = raruma_util.run_regression(reg, train_features, train_targets, test_features)"
   ]
  },
  {
   "cell_type": "code",
   "execution_count": null,
   "id": "b39c8990-cd75-432d-9e6c-bc2159e1ace2",
   "metadata": {},
   "outputs": [],
   "source": [
    "_ = raruma_plot.plot_true_predict(test_targets, preds)"
   ]
  },
  {
   "cell_type": "code",
   "execution_count": null,
   "id": "eb0eaa98-fab3-4dd0-87d1-f52c24cbc0cb",
   "metadata": {},
   "outputs": [],
   "source": []
  }
 ],
 "metadata": {
  "kernelspec": {
   "display_name": "Python 3 (ipykernel)",
   "language": "python",
   "name": "python3"
  },
  "language_info": {
   "codemirror_mode": {
    "name": "ipython",
    "version": 3
   },
   "file_extension": ".py",
   "mimetype": "text/x-python",
   "name": "python",
   "nbconvert_exporter": "python",
   "pygments_lexer": "ipython3",
   "version": "3.13.3"
  }
 },
 "nbformat": 4,
 "nbformat_minor": 5
}
