{
 "cells": [
  {
   "cell_type": "code",
   "execution_count": null,
   "id": "dd8c8985-f228-4b61-b6a1-9575c7023aaa",
   "metadata": {},
   "outputs": [],
   "source": [
    "import tables_io\n",
    "import numpy as np\n",
    "import matplotlib.pyplot as plt\n",
    "from rail.raruma import plotting_functions as raruma_plot\n",
    "from rail.raruma import utility_functions as raruma_util\n",
    "from rail.core.data import DataStore\n",
    "DataStore.allow_overwrite = True\n",
    "import jax.numpy as jnp\n",
    "import jax\n",
    "import scipy.differentiate as scipy_diff"
   ]
  },
  {
   "cell_type": "code",
   "execution_count": null,
   "id": "a0795308-fff8-455c-b8d9-ade86eadd42b",
   "metadata": {},
   "outputs": [],
   "source": [
    "from rail.estimation.estimator import CatEstimatorWrapper\n",
    "from rail.estimation.algos.k_nearneigh import KNearNeighEstimator\n",
    "from rail.utils.catalog_utils import RubinCatalogConfig\n",
    "RubinCatalogConfig.apply(RubinCatalogConfig.tag)"
   ]
  },
  {
   "cell_type": "code",
   "execution_count": null,
   "id": "2da4dbab-0551-4b60-be2d-588014478274",
   "metadata": {},
   "outputs": [],
   "source": [
    "model_file = './model_inform_knn.pkl'"
   ]
  },
  {
   "cell_type": "code",
   "execution_count": null,
   "id": "0f345110-5bf5-43ea-83ac-b2b400f7c08e",
   "metadata": {},
   "outputs": [],
   "source": [
    "a = np.arange(4)"
   ]
  },
  {
   "cell_type": "code",
   "execution_count": null,
   "id": "ef0363ec-1eca-4f82-9ab8-d31449feea61",
   "metadata": {},
   "outputs": [],
   "source": [
    "np.repeat(np.atleast_2d(a), 4, axis=0)"
   ]
  },
  {
   "cell_type": "code",
   "execution_count": null,
   "id": "5ed1046f-233a-4c62-b90c-748c22621ed0",
   "metadata": {},
   "outputs": [],
   "source": [
    "knn = KNearNeighEstimator.make_stage(name='knn', model=model_file, input='dummy.in', output_mode='return', nzbins=3001)\n",
    "knn_w = CatEstimatorWrapper(knn)"
   ]
  },
  {
   "cell_type": "code",
   "execution_count": null,
   "id": "bc7b4b84-8bac-4d66-9fff-5e47bed37880",
   "metadata": {},
   "outputs": [],
   "source": [
    "d = tables_io.read(\"/Users/echarles/pz/sandbox_data/roman_rubin_9925.hdf5\")\n",
    "train = tables_io.sliceObj(d, slice(0, -1, 10))\n",
    "band_names = raruma_util.make_band_names('LSST_obs_{band}', 'ugrizy')\n",
    "mags = raruma_util.extract_data_to_2d_array(train,band_names)\n",
    "knn.stage_columns = knn.config.bands"
   ]
  },
  {
   "cell_type": "code",
   "execution_count": null,
   "id": "f9dea545-e407-4246-9fa9-732b0190ef08",
   "metadata": {},
   "outputs": [],
   "source": [
    "obj1 = mags[0]"
   ]
  },
  {
   "cell_type": "code",
   "execution_count": null,
   "id": "490c0000-a9be-4f42-a810-2fae77817125",
   "metadata": {},
   "outputs": [],
   "source": [
    "obj1.copy()"
   ]
  },
  {
   "cell_type": "code",
   "execution_count": null,
   "id": "ac889a48-e8ee-4624-a190-25082fc25d79",
   "metadata": {},
   "outputs": [],
   "source": [
    "out = knn_w(obj1)"
   ]
  },
  {
   "cell_type": "code",
   "execution_count": null,
   "id": "bbab4d40-99f2-49a0-a5b1-80d7e87256f1",
   "metadata": {},
   "outputs": [],
   "source": [
    "out"
   ]
  },
  {
   "cell_type": "code",
   "execution_count": null,
   "id": "184ae4ea-e0dd-4618-a0b7-dce60261a4c5",
   "metadata": {},
   "outputs": [],
   "source": [
    "class WrapFunc:\n",
    "    def __init__(self, func, vals, index):\n",
    "        self.func = func\n",
    "        self.vals = vals.copy()\n",
    "        self.index = index\n",
    "        \n",
    "    def __call__(self, x):\n",
    "        try:\n",
    "            nd = len(x.shape)\n",
    "        except:\n",
    "            nd = 1        \n",
    "        if nd > 1:\n",
    "            vals = np.repeat(np.atleast_2d(self.vals), x.shape[-1], axis=0)\n",
    "            ret_list = []\n",
    "            vals[:,self.index] = x\n",
    "            ret_vals = np.atleast_2d(self.func(vals))\n",
    "            return ret_vals\n",
    "        vals = self.vals.copy()\n",
    "        vals[self.index] = float(x)\n",
    "        ret_val = self.func(vals)\n",
    "        return ret_val\n",
    "\n",
    "def gradient(func, x_vals):\n",
    "    n_val = len(x_vals)\n",
    "    out = np.zeros(n_val)\n",
    "    for i in range(n_val):\n",
    "        wf = WrapFunc(func, x_vals, i)\n",
    "        dd = scipy_diff.derivative(wf, x_vals[i], maxiter=4, initial_step=0.1, tolerances=dict(atol=0.2))\n",
    "        out[i] = float(dd.df)\n",
    "    return out\n",
    "        "
   ]
  },
  {
   "cell_type": "code",
   "execution_count": null,
   "id": "9005c32f-9ab1-4599-b707-d4f9821e38f7",
   "metadata": {},
   "outputs": [],
   "source": [
    "grad = gradient(knn_w, mags[3])"
   ]
  },
  {
   "cell_type": "code",
   "execution_count": null,
   "id": "2b390a25-3d4a-4d64-8714-c9428403ab09",
   "metadata": {},
   "outputs": [],
   "source": [
    "# grad"
   ]
  },
  {
   "cell_type": "code",
   "execution_count": null,
   "id": "139b4c91-11b6-4e77-bf54-3a52b2ba9df0",
   "metadata": {},
   "outputs": [],
   "source": [
    "scipy_diff.jacobian(knn_w, mags[3])"
   ]
  },
  {
   "cell_type": "code",
   "execution_count": null,
   "id": "22727370-33bc-4654-9b99-20066071f734",
   "metadata": {},
   "outputs": [],
   "source": [
    "grads = []\n",
    "for i in range(1000):\n",
    "    if i % 50 == 0:\n",
    "        print(i)\n",
    "    grads.append(gradient(knn_w, mags[i]))\n",
    "gout = np.array(grads)"
   ]
  },
  {
   "cell_type": "code",
   "execution_count": null,
   "id": "beca308e-b650-4f8b-978b-885f810a3077",
   "metadata": {},
   "outputs": [],
   "source": [
    "gout"
   ]
  },
  {
   "cell_type": "code",
   "execution_count": null,
   "id": "9f19e42d-393b-4801-a4fb-f5ace798c842",
   "metadata": {},
   "outputs": [],
   "source": [
    "import matplotlib.pyplot as plt"
   ]
  },
  {
   "cell_type": "code",
   "execution_count": null,
   "id": "dc72663a-0ef1-450e-bf4d-8de2f8243d73",
   "metadata": {},
   "outputs": [],
   "source": [
    "_ = plt.scatter(mags[0:1000, 3], np.log10(np.abs(gout[:,4]) + 0.0001))"
   ]
  },
  {
   "cell_type": "code",
   "execution_count": null,
   "id": "af9b0352-4074-4bab-9075-101630593367",
   "metadata": {},
   "outputs": [],
   "source": [
    "_ = plt.hist(np.asinh(gout[:,4]), bins=500)\n",
    "_ = plt.xscale('symlog')\n",
    "_ = plt.xlim(-1, 1.)"
   ]
  },
  {
   "cell_type": "code",
   "execution_count": null,
   "id": "653aee23-3432-4b76-85f1-8c8fa06d7407",
   "metadata": {},
   "outputs": [],
   "source": [
    "_ = plt.scatter((gout[:,4]), np.asinh(gout[:,4]))\n",
    "_ = plt.xlim(-400, 400)\n",
    "_ = plt.ylim(-10, 10)"
   ]
  },
  {
   "cell_type": "code",
   "execution_count": null,
   "id": "90ee3e3e-f1a9-4fdc-a862-806c051b505f",
   "metadata": {},
   "outputs": [],
   "source": []
  }
 ],
 "metadata": {
  "kernelspec": {
   "display_name": "Python 3 (ipykernel)",
   "language": "python",
   "name": "python3"
  },
  "language_info": {
   "codemirror_mode": {
    "name": "ipython",
    "version": 3
   },
   "file_extension": ".py",
   "mimetype": "text/x-python",
   "name": "python",
   "nbconvert_exporter": "python",
   "pygments_lexer": "ipython3",
   "version": "3.13.3"
  }
 },
 "nbformat": 4,
 "nbformat_minor": 5
}
