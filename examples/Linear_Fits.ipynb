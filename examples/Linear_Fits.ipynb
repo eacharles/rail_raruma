{
 "cells": [
  {
   "cell_type": "code",
   "execution_count": null,
   "id": "04077d1a-4e55-4721-ad51-8c640b533864",
   "metadata": {},
   "outputs": [],
   "source": [
    "import tables_io\n",
    "import numpy as np\n",
    "import matplotlib.pyplot as plt\n",
    "from matplotlib import cm\n",
    "\n",
    "from rail.raruma import plotting_functions as raruma_plot\n",
    "from rail.raruma import utility_functions as raruma_util\n"
   ]
  },
  {
   "cell_type": "code",
   "execution_count": null,
   "id": "e096b009-81e6-48ae-b95a-66c6e1e28033",
   "metadata": {},
   "outputs": [],
   "source": [
    "d = tables_io.read(\"/Users/echarles/pz/sandbox_data/roman_rubin_9925.hdf5\")\n",
    "train = tables_io.sliceObj(d, slice(0, -1, 5))\n",
    "test = tables_io.sliceObj(d, slice(1, -1, 5))\n",
    "d.keys()"
   ]
  },
  {
   "cell_type": "code",
   "execution_count": null,
   "id": "bba85688-b121-4e5f-8dd1-279f9cef3c57",
   "metadata": {},
   "outputs": [],
   "source": [
    "train_targets, train_features = raruma_util.prepare_data_total_mag_and_colors(train, 'LSST_obs_{band}', 'ugrizy')\n",
    "test_targets, test_features = raruma_util.prepare_data_total_mag_and_colors(test, 'LSST_obs_{band}', 'ugrizy')\n",
    "\n",
    "train_mags = raruma_util.get_band_values(train, 'LSST_obs_{band}', 'ugrizy')\n",
    "train_mag_errs = raruma_util.get_band_values(train, 'LSST_obs_{band}_err', 'ugrizy')\n"
   ]
  },
  {
   "cell_type": "code",
   "execution_count": null,
   "id": "ea25f3ca-e32b-476c-af94-e59e5b4956e3",
   "metadata": {},
   "outputs": [],
   "source": [
    "n_bands = 6\n",
    "list(range(n_bands-1))"
   ]
  },
  {
   "cell_type": "code",
   "execution_count": null,
   "id": "5d908427-8d48-4921-9d05-30a22cbaacbc",
   "metadata": {},
   "outputs": [],
   "source": [
    "filter_medians = np.array([350., 470., 620., 750., 870., 950.])\n",
    "x_piv = 0.5*(filter_medians[0] + filter_medians[-1])"
   ]
  },
  {
   "cell_type": "code",
   "execution_count": null,
   "id": "5609a4fa-e417-411a-b1e7-d2aafbb81893",
   "metadata": {},
   "outputs": [],
   "source": [
    "color_excess = raruma_util.color_excess(train_mags)"
   ]
  },
  {
   "cell_type": "code",
   "execution_count": null,
   "id": "cfa9a6b6-8e38-49f4-a443-b75d34e5470c",
   "metadata": {},
   "outputs": [],
   "source": [
    "# _poly_fits = raruma_util.polynomial_fits(filter_medians, train_mags, train_mag_errs, x_piv, 1)\n",
    "# plt.scatter(_poly_fits[:,0], _poly_fits[:,1], color=cm.rainbow(train_targets), marker='.', s=1)"
   ]
  },
  {
   "cell_type": "code",
   "execution_count": null,
   "id": "ed81ee3b-507d-47b4-baa8-1ce3c87cbd63",
   "metadata": {},
   "outputs": [],
   "source": [
    "_lin_resids = raruma_util.linear_fit_residuals(filter_medians, train_mags, x_piv)"
   ]
  },
  {
   "cell_type": "code",
   "execution_count": null,
   "id": "c525d405-09a5-45fc-9872-24c5d6e6f33d",
   "metadata": {},
   "outputs": [],
   "source": [
    "_ = plt.hist2d(train_targets, np.nan_to_num(_lin_resids[:,1], 0.), bins=(100, 100), norm='log')"
   ]
  },
  {
   "cell_type": "code",
   "execution_count": null,
   "id": "ffd83353-25f7-454a-80e7-a3bad706a112",
   "metadata": {},
   "outputs": [],
   "source": [
    "_ = plt.hist2d(train_targets, np.nan_to_num(_lin_resids[:,4], 0.), bins=(100, 100), norm='log')"
   ]
  },
  {
   "cell_type": "code",
   "execution_count": null,
   "id": "5fc65b47-98e9-446c-9410-c1b832db5abc",
   "metadata": {},
   "outputs": [],
   "source": [
    "_ = plt.scatter(_lin_resids[:,3], _lin_resids[:,5], color=cm.rainbow(train_targets/3.), marker='.', s=1)"
   ]
  },
  {
   "cell_type": "code",
   "execution_count": null,
   "id": "104b0c6a-59af-47b7-82d3-9f2d8af57688",
   "metadata": {},
   "outputs": [],
   "source": [
    "lrmask = np.sum(((_lin_resids > 0) * np.array([1, 2, 4, 8, 16, 32])), axis=1)"
   ]
  },
  {
   "cell_type": "code",
   "execution_count": null,
   "id": "f211d49d-b870-4647-9e42-a763e875658a",
   "metadata": {},
   "outputs": [],
   "source": [
    "_ = plt.hist(lrmask, bins=np.arange(64))"
   ]
  },
  {
   "cell_type": "code",
   "execution_count": null,
   "id": "46811949-3a15-4811-aff4-eec29cf7805c",
   "metadata": {},
   "outputs": [],
   "source": [
    "_ = plt.hist2d(train_targets, lrmask, bins=(np.linspace(0, 3., 101), np.arange(64)))"
   ]
  },
  {
   "cell_type": "code",
   "execution_count": null,
   "id": "9ba76f93-cb29-4ae8-975e-1742d799e096",
   "metadata": {},
   "outputs": [],
   "source": [
    "_ = raruma_plot.plot_mag_spectra(filter_medians, train_mags[::100,:], train_mag_errs[::100,:], train_targets[::100])"
   ]
  },
  {
   "cell_type": "code",
   "execution_count": null,
   "id": "fa9c854f-c1a8-4e56-877f-3ffbccf1476c",
   "metadata": {},
   "outputs": [],
   "source": [
    "from numpy.polynomial import Polynomial\n",
    "p = Polynomial.fit(filter_medians-x_piv, train_mags[0], deg=3)"
   ]
  },
  {
   "cell_type": "code",
   "execution_count": null,
   "id": "8454ff9a-7395-48ff-a100-41348db0660c",
   "metadata": {},
   "outputs": [],
   "source": [
    "resid = train_mags[0] - p(filter_medians-x_piv)"
   ]
  },
  {
   "cell_type": "code",
   "execution_count": null,
   "id": "e9fc08f1-94ba-43aa-9b37-2f97fd479de6",
   "metadata": {},
   "outputs": [],
   "source": [
    "resid"
   ]
  },
  {
   "cell_type": "code",
   "execution_count": null,
   "id": "b4a85e23-0a1c-454b-915b-46276aa5da2c",
   "metadata": {},
   "outputs": [],
   "source": [
    "grid = np.linspace(filter_medians[0], filter_medians[-1], 61) \n",
    "plt.errorbar(filter_medians, train_mags[0], train_mag_errs[0])\n",
    "plt.plot(grid, p(grid-x_piv))"
   ]
  },
  {
   "cell_type": "code",
   "execution_count": null,
   "id": "584f6b52-4fd8-4b27-988a-4c0ccd5c1be7",
   "metadata": {},
   "outputs": [],
   "source": [
    "p.coef"
   ]
  },
  {
   "cell_type": "code",
   "execution_count": null,
   "id": "db97504f-b70e-40b7-bf21-c38353a74bc6",
   "metadata": {},
   "outputs": [],
   "source": []
  }
 ],
 "metadata": {
  "kernelspec": {
   "display_name": "Python 3 (ipykernel)",
   "language": "python",
   "name": "python3"
  },
  "language_info": {
   "codemirror_mode": {
    "name": "ipython",
    "version": 3
   },
   "file_extension": ".py",
   "mimetype": "text/x-python",
   "name": "python",
   "nbconvert_exporter": "python",
   "pygments_lexer": "ipython3",
   "version": "3.13.3"
  }
 },
 "nbformat": 4,
 "nbformat_minor": 5
}
